{
 "cells": [
  {
   "cell_type": "markdown",
   "metadata": {
    "id": "az2GcnzXCJVL"
   },
   "source": [
    "# **Analisis de sentimiento - Red Neuronal**  (tensorflow / keras)\n",
    "### Proyecto mineria de datos - 2021\n",
    "---\n",
    "##### Ela Katherine Shepherd Arévalo - Pablo Daurell Marina"
   ]
  },
  {
   "cell_type": "code",
   "execution_count": null,
   "metadata": {
    "id": "8SI9Hk1tGGfc"
   },
   "outputs": [],
   "source": [
    "import matplotlib.pyplot as plt\n",
    "import pandas as pd\n",
    "import numpy as np\n",
    "import os\n",
    "import re\n",
    "import shutil\n",
    "import string\n",
    "import pickle\n",
    "import tensorflow as tf\n",
    "\n",
    "from tensorflow.keras import layers\n",
    "from tensorflow.keras import losses\n",
    "from tensorflow.keras import preprocessing\n",
    "from tensorflow.keras.layers.experimental.preprocessing import TextVectorization"
   ]
  },
  {
   "cell_type": "code",
   "execution_count": null,
   "metadata": {
    "colab": {
     "base_uri": "https://localhost:8080/"
    },
    "id": "X1LihlJcE_CJ",
    "outputId": "f6ba4acc-2702-4031-c855-dfa6329ac272"
   },
   "outputs": [
    {
     "name": "stdout",
     "output_type": "stream",
     "text": [
      "Mounted at /content/drive\n"
     ]
    }
   ],
   "source": [
    "'''Importar dataset de Drive'''\n",
    "from google.colab import drive\n",
    "drive.mount(\"/content/drive\")"
   ]
  },
  {
   "cell_type": "markdown",
   "metadata": {
    "id": "VOfNJRKUGPek"
   },
   "source": [
    "- El objetivo de este notebook será entrenar una red neuronal con Tensorflow, capaz de analizar el sentimiento (positivo o negativo) de distintos tweets\n",
    "- Para ello crearemos un modelo de red neuronal con Tensorflow (Keras) y lo entrenaremos utilizando el dataset ([Sentiment140 dataset](https://www.kaggle.com/kazanova/sentiment140)) que contiene 1.6 millones de tweets (generalmente en inglés), clasificados como positivos o negativos."
   ]
  },
  {
   "cell_type": "markdown",
   "metadata": {
    "id": "SHtQzBJ55x94"
   },
   "source": [
    "## 1. Cargar dataset de tweets"
   ]
  },
  {
   "cell_type": "markdown",
   "metadata": {
    "id": "G53FXgT_6PjC"
   },
   "source": [
    "- Importamos el dataset de tweets, con 1.6 millones de elementos.\n",
    "- Quitamos las columnas innecesarias, como la fecha, el usuario, el id o la query.\n",
    "- El dataset original indica sentimiento negativo con un 0 y positivo con un 4. Por comodidad, sustituimos el 4 por un 1."
   ]
  },
  {
   "cell_type": "code",
   "execution_count": null,
   "metadata": {
    "colab": {
     "base_uri": "https://localhost:8080/"
    },
    "id": "6Yjtfh5aF81l",
    "outputId": "1b7027b0-e71a-4dd6-f8a9-cb39f05f2171"
   },
   "outputs": [
    {
     "name": "stdout",
     "output_type": "stream",
     "text": [
      "Shape:  (1600000, 2)\n"
     ]
    }
   ],
   "source": [
    "file = \"/content/drive/MyDrive/Mineria/sentiment140.csv\"\n",
    "data = pd.read_csv(file, encoding='latin', names=['sentiment','id','date','query','user','text'])\n",
    "data = data.drop(columns=['date', 'query', 'user', 'id'])\n",
    "data['sentiment'] = data['sentiment'].replace(4, 1)\n",
    "print('Shape: ', data.shape)"
   ]
  },
  {
   "cell_type": "code",
   "execution_count": null,
   "metadata": {
    "colab": {
     "base_uri": "https://localhost:8080/",
     "height": 195
    },
    "id": "LMwWOb7r6Twl",
    "outputId": "15ffa2b8-3d7c-4702-99a5-c68f0053f054"
   },
   "outputs": [
    {
     "data": {
      "text/html": [
       "<div>\n",
       "<style scoped>\n",
       "    .dataframe tbody tr th:only-of-type {\n",
       "        vertical-align: middle;\n",
       "    }\n",
       "\n",
       "    .dataframe tbody tr th {\n",
       "        vertical-align: top;\n",
       "    }\n",
       "\n",
       "    .dataframe thead th {\n",
       "        text-align: right;\n",
       "    }\n",
       "</style>\n",
       "<table border=\"1\" class=\"dataframe\">\n",
       "  <thead>\n",
       "    <tr style=\"text-align: right;\">\n",
       "      <th></th>\n",
       "      <th>sentiment</th>\n",
       "      <th>text</th>\n",
       "    </tr>\n",
       "  </thead>\n",
       "  <tbody>\n",
       "    <tr>\n",
       "      <th>0</th>\n",
       "      <td>0</td>\n",
       "      <td>@switchfoot http://twitpic.com/2y1zl - Awww, t...</td>\n",
       "    </tr>\n",
       "    <tr>\n",
       "      <th>1</th>\n",
       "      <td>0</td>\n",
       "      <td>is upset that he can't update his Facebook by ...</td>\n",
       "    </tr>\n",
       "    <tr>\n",
       "      <th>2</th>\n",
       "      <td>0</td>\n",
       "      <td>@Kenichan I dived many times for the ball. Man...</td>\n",
       "    </tr>\n",
       "    <tr>\n",
       "      <th>3</th>\n",
       "      <td>0</td>\n",
       "      <td>my whole body feels itchy and like its on fire</td>\n",
       "    </tr>\n",
       "    <tr>\n",
       "      <th>4</th>\n",
       "      <td>0</td>\n",
       "      <td>@nationwideclass no, it's not behaving at all....</td>\n",
       "    </tr>\n",
       "  </tbody>\n",
       "</table>\n",
       "</div>"
      ],
      "text/plain": [
       "   sentiment                                               text\n",
       "0          0  @switchfoot http://twitpic.com/2y1zl - Awww, t...\n",
       "1          0  is upset that he can't update his Facebook by ...\n",
       "2          0  @Kenichan I dived many times for the ball. Man...\n",
       "3          0    my whole body feels itchy and like its on fire \n",
       "4          0  @nationwideclass no, it's not behaving at all...."
      ]
     },
     "execution_count": 4,
     "metadata": {
      "tags": []
     },
     "output_type": "execute_result"
    }
   ],
   "source": [
    "data.head()"
   ]
  },
  {
   "cell_type": "markdown",
   "metadata": {
    "id": "wmvilP2N66Sn"
   },
   "source": [
    "- Vemos cuantos tweets de cada sentimiento hay:"
   ]
  },
  {
   "cell_type": "code",
   "execution_count": null,
   "metadata": {
    "id": "PTls0Mj2bmbf"
   },
   "outputs": [],
   "source": [
    "data_text = data['text']\n",
    "data_label = data['sentiment']"
   ]
  },
  {
   "cell_type": "code",
   "execution_count": null,
   "metadata": {
    "colab": {
     "base_uri": "https://localhost:8080/"
    },
    "id": "6c-X4WyTqJSy",
    "outputId": "be80e4a9-39de-46e6-8625-4e47da07dc25"
   },
   "outputs": [
    {
     "name": "stdout",
     "output_type": "stream",
     "text": [
      "Dataset shape:  (1600000, 2)\n",
      "Negative tweets:  800000\n",
      "Positive tweets:  800000\n"
     ]
    }
   ],
   "source": [
    "print('Dataset shape: ', data.shape)\n",
    "print('Negative tweets: ', np.count_nonzero(data_label == 0))\n",
    "print('Positive tweets: ', np.count_nonzero(data_label == 1))"
   ]
  },
  {
   "cell_type": "markdown",
   "metadata": {
    "id": "veIM8pVf58QL"
   },
   "source": [
    "## 2. Dividir train, validation, test"
   ]
  },
  {
   "cell_type": "markdown",
   "metadata": {
    "id": "mEiHLe8c7ACv"
   },
   "source": [
    "- Dividimos el dataset en un conjunto de **entrenamiento** (con un **70%** de los ejemplares), otro conjunto de **validación** (con un **15%** de los ejemplares) y un conjunto de **testeo** (con el **15%** restante de los ejemplares)"
   ]
  },
  {
   "cell_type": "code",
   "execution_count": null,
   "metadata": {
    "id": "l6tw8SX2b_s0"
   },
   "outputs": [],
   "source": [
    "from sklearn.model_selection import train_test_split\n",
    "\n",
    "### 70% train, 30% aux (15% val, 15% test)\n",
    "train_data, aux_data, train_label, aux_label = train_test_split(data_text, data_label, \n",
    "                                                        test_size=0.30, stratify=data_label)\n",
    "\n",
    "### 15% val, 15% test\n",
    "val_data, test_data, val_label, test_label = train_test_split(aux_data, aux_label, \n",
    "                                              test_size=0.5, stratify=aux_label)"
   ]
  },
  {
   "cell_type": "code",
   "execution_count": null,
   "metadata": {
    "colab": {
     "base_uri": "https://localhost:8080/"
    },
    "id": "kqwlufWXcVt5",
    "outputId": "2b8e2b1d-6bfd-485d-b240-af15f2a6eb0d"
   },
   "outputs": [
    {
     "name": "stdout",
     "output_type": "stream",
     "text": [
      "Train: (1120000,), Val: (240000,), Test: (240000,)\n"
     ]
    }
   ],
   "source": [
    "print('Train: {}, Val: {}, Test: {}'.format(train_data.shape, val_data.shape, test_data.shape))"
   ]
  },
  {
   "cell_type": "markdown",
   "metadata": {
    "id": "O2EoKC2D6DO2"
   },
   "source": [
    "- Convertimos los datos de **pandas** Dataframe a **tensorflow** dataset\n",
    "\n"
   ]
  },
  {
   "cell_type": "code",
   "execution_count": null,
   "metadata": {
    "id": "UhV7WQQN9YeI"
   },
   "outputs": [],
   "source": [
    "raw_train_ds = tf.data.Dataset.from_tensor_slices((train_data, train_label))\n",
    "raw_val_ds = tf.data.Dataset.from_tensor_slices((val_data, val_label))\n",
    "raw_test_ds = tf.data.Dataset.from_tensor_slices((test_data, test_label))"
   ]
  },
  {
   "cell_type": "code",
   "execution_count": null,
   "metadata": {
    "colab": {
     "base_uri": "https://localhost:8080/"
    },
    "id": "K--we6IG9l3L",
    "outputId": "27b9667d-832b-42d8-c714-685d1c18613e"
   },
   "outputs": [
    {
     "name": "stdout",
     "output_type": "stream",
     "text": [
      "Features: b'@ddlovato &amp; @thebrandicyrus i luv it tooooo ', Target: 1\n",
      "Features: b\"@Cire77 screw u hippies! We're gonna have meat lots and lots \", Target: 1\n",
      "Features: b'@tommcfly NOOOO, please! black and white confused my mind, please ', Target: 0\n",
      "Features: b\"so tired.. still got a achy head and heart  (it's 23:22 in germany) love ya &lt;3\", Target: 0\n",
      "Features: b\"workout video &lt; swimming &lt; iChat with just about everyone. Can't wait for tomorrow! \", Target: 1\n"
     ]
    }
   ],
   "source": [
    "for feat, targ in raw_train_ds.take(5):\n",
    "    print('Features: {}, Target: {}'.format(feat, targ))"
   ]
  },
  {
   "cell_type": "code",
   "execution_count": null,
   "metadata": {
    "colab": {
     "base_uri": "https://localhost:8080/"
    },
    "id": "cj15DfUL22Yk",
    "outputId": "c8f63343-d799-4245-cc35-d0c19964b323"
   },
   "outputs": [
    {
     "data": {
      "text/plain": [
       "1120000"
      ]
     },
     "execution_count": 11,
     "metadata": {
      "tags": []
     },
     "output_type": "execute_result"
    }
   ],
   "source": [
    "len(raw_train_ds)"
   ]
  },
  {
   "cell_type": "markdown",
   "metadata": {
    "id": "gDo_9OQ36hZn"
   },
   "source": [
    "- Para facilitar el trabajo a la red neuronal, agrupamos los elementos del dataset en **batchs**:"
   ]
  },
  {
   "cell_type": "code",
   "execution_count": null,
   "metadata": {
    "id": "sxxtDzDT-yOZ"
   },
   "outputs": [],
   "source": [
    "batch_size = 128\n",
    "raw_train_ds_batched = raw_train_ds.batch(batch_size)\n",
    "raw_val_ds_batched = raw_val_ds.batch(batch_size)\n",
    "raw_test_ds_batched = raw_test_ds.batch(batch_size)"
   ]
  },
  {
   "cell_type": "code",
   "execution_count": null,
   "metadata": {
    "colab": {
     "base_uri": "https://localhost:8080/"
    },
    "id": "nA4SNnapz1z3",
    "outputId": "cec6ef95-9099-43b2-d194-7c3d63c1f240"
   },
   "outputs": [
    {
     "data": {
      "text/plain": [
       "8750"
      ]
     },
     "execution_count": 13,
     "metadata": {
      "tags": []
     },
     "output_type": "execute_result"
    }
   ],
   "source": [
    "len(raw_train_ds_batched)"
   ]
  },
  {
   "cell_type": "code",
   "execution_count": null,
   "metadata": {
    "colab": {
     "base_uri": "https://localhost:8080/"
    },
    "id": "9n-1w5Sq4wtk",
    "outputId": "9f683374-fb71-4408-e09e-cc13aeddd822"
   },
   "outputs": [
    {
     "name": "stdout",
     "output_type": "stream",
     "text": [
      "Features: b'@ddlovato &amp; @thebrandicyrus i luv it tooooo ', Target: 1\n",
      "Features: b\"@Cire77 screw u hippies! We're gonna have meat lots and lots \", Target: 1\n",
      "Features: b'@tommcfly NOOOO, please! black and white confused my mind, please ', Target: 0\n"
     ]
    }
   ],
   "source": [
    "for feat_batch, targ_batch in raw_train_ds_batched.take(1):\n",
    "  for i in range(3):\n",
    "    print('Features: {}, Target: {}'.format(feat_batch.numpy()[i], targ_batch.numpy()[i]))"
   ]
  },
  {
   "cell_type": "markdown",
   "metadata": {
    "id": "UluTixYY5SU-"
   },
   "source": [
    "## 3. Preprocesar datos de entrada"
   ]
  },
  {
   "cell_type": "markdown",
   "metadata": {
    "id": "f2JScQdX8HIm"
   },
   "source": [
    "- Antes de introducir los datos en la red neuronal es necesario algo de preprocesamiento:\n",
    "> - Pasamos todo a minúsculas\n",
    "> - Eliminamos los nombres de usuarios (*@usuario*), caracteres especiales, y enlaces\n"
   ]
  },
  {
   "cell_type": "code",
   "execution_count": null,
   "metadata": {
    "id": "JUjkDvEU5SmV"
   },
   "outputs": [],
   "source": [
    "### Funcion para estandarizar los tweets ###\n",
    "\n",
    "@tf.keras.utils.register_keras_serializable()\n",
    "def custom_standardization(input_data):\n",
    "  lowercase = tf.strings.lower(input_data)\n",
    "\n",
    "  # Eliminar menciones (@username), enlaces, o caracteres especiales\n",
    "  clean_tweet = tf.strings.regex_replace(lowercase,\n",
    "                            '(@[A-Za-z0-9]+)|([^0-9A-Za-z \\t])|(\\w+:\\/\\/\\S+)|(www.\\S+)', ' ') #\n",
    "  return clean_tweet"
   ]
  },
  {
   "cell_type": "code",
   "execution_count": null,
   "metadata": {
    "colab": {
     "base_uri": "https://localhost:8080/"
    },
    "id": "f-pFqUrU8PH9",
    "outputId": "8a90dc2d-eb96-448d-831a-d6930f1711ad"
   },
   "outputs": [
    {
     "data": {
      "text/plain": [
       "<tf.Tensor: shape=(), dtype=string, numpy=b'  babies are absolutely adorable   watching  quot moving hot tub quot  movie now   expecting a am funniest home video moment    o o'>"
      ]
     },
     "execution_count": 16,
     "metadata": {
      "tags": []
     },
     "output_type": "execute_result"
    }
   ],
   "source": [
    "# Ejemplo de tweet estandarizado\n",
    "custom_standardization('@isilwath Babies are absolutely adorable.  Watching &quot;moving hot tub&quot; movie now - expecting a Am Funniest Home Video moment... O.o')"
   ]
  },
  {
   "cell_type": "markdown",
   "metadata": {
    "id": "DLyOLEDH9FTE"
   },
   "source": [
    "- Creamos un **vectorizador de texto** que estandarizará cada tweet y los transformará en un vector numérico para poder introducirlos en la red neuronal"
   ]
  },
  {
   "cell_type": "code",
   "execution_count": null,
   "metadata": {
    "id": "zvYQGPGH9827"
   },
   "outputs": [],
   "source": [
    "max_features = 10000\n",
    "sequence_length = 140\n",
    "\n",
    "vectorize_layer = TextVectorization(\n",
    "    standardize=custom_standardization,\n",
    "    max_tokens=max_features,\n",
    "    output_mode='int',\n",
    "    output_sequence_length=sequence_length)"
   ]
  },
  {
   "cell_type": "code",
   "execution_count": null,
   "metadata": {
    "id": "tN9QXiHk-V3d"
   },
   "outputs": [],
   "source": [
    "train_prueba = raw_train_ds_batched.map(lambda x, y: x)\n",
    "vectorize_layer.adapt(train_prueba)"
   ]
  },
  {
   "cell_type": "code",
   "execution_count": null,
   "metadata": {
    "id": "zoKUayDMjKZ3"
   },
   "outputs": [],
   "source": [
    "### Exportamos el vectorizador ya entrenado para usarlo en otros notebooks\n",
    "pickle.dump({'config':vectorize_layer.get_config(), \n",
    "             'weights':vectorize_layer.get_weights()},\n",
    "            open('/content/drive/MyDrive/Mineria/tweet-vectorizeLayer.pkl', 'wb'))"
   ]
  },
  {
   "cell_type": "code",
   "execution_count": null,
   "metadata": {
    "id": "gQbaCggakxKS"
   },
   "outputs": [],
   "source": [
    "from_disk = pickle.load(open('/content/drive/MyDrive/Mineria/tweet-vectorizeLayer.pkl', 'rb'))\n",
    "new_v = TextVectorization.from_config(from_disk['config'])\n",
    "new_v.adapt(train_prueba)\n",
    "new_v.set_weights(from_disk['weights'])"
   ]
  },
  {
   "cell_type": "markdown",
   "metadata": {
    "id": "yzXgqI_T9sW8"
   },
   "source": [
    "- Podemos ver un ejemplo de cómo se estandarizá y cómo se vectorizará un tweet:"
   ]
  },
  {
   "cell_type": "code",
   "execution_count": null,
   "metadata": {
    "id": "pDCZjPSf-z-B"
   },
   "outputs": [],
   "source": [
    "def vectorize_text(text, label):\n",
    "  text = tf.expand_dims(text, -1)\n",
    "  return vectorize_layer(text), label"
   ]
  },
  {
   "cell_type": "code",
   "execution_count": null,
   "metadata": {
    "colab": {
     "base_uri": "https://localhost:8080/"
    },
    "id": "XhG_RcmU_EBO",
    "outputId": "7d22b592-0821-4a43-dda1-85b984cf441d"
   },
   "outputs": [
    {
     "name": "stdout",
     "output_type": "stream",
     "text": [
      "Review tf.Tensor(b\"workout video &lt; swimming &lt; iChat with just about everyone. Can't wait for tomorrow! \", shape=(), dtype=string)\n",
      "tf.Tensor(b'workout video  lt  swimming  lt  ichat with just about everyone  can t wait for tomorrow  ', shape=(), dtype=string)\n",
      "Label tf.Tensor(1, shape=(), dtype=int64)\n",
      "Vectorized review (<tf.Tensor: shape=(1, 140), dtype=int64, numpy=\n",
      "array([[1471,  393,  160, 1178,  160, 8256,   24,   23,   61,  178,   31,\n",
      "          15,  143,   11,  100,    0,    0,    0,    0,    0,    0,    0,\n",
      "           0,    0,    0,    0,    0,    0,    0,    0,    0,    0,    0,\n",
      "           0,    0,    0,    0,    0,    0,    0,    0,    0,    0,    0,\n",
      "           0,    0,    0,    0,    0,    0,    0,    0,    0,    0,    0,\n",
      "           0,    0,    0,    0,    0,    0,    0,    0,    0,    0,    0,\n",
      "           0,    0,    0,    0,    0,    0,    0,    0,    0,    0,    0,\n",
      "           0,    0,    0,    0,    0,    0,    0,    0,    0,    0,    0,\n",
      "           0,    0,    0,    0,    0,    0,    0,    0,    0,    0,    0,\n",
      "           0,    0,    0,    0,    0,    0,    0,    0,    0,    0,    0,\n",
      "           0,    0,    0,    0,    0,    0,    0,    0,    0,    0,    0,\n",
      "           0,    0,    0,    0,    0,    0,    0,    0,    0,    0,    0,\n",
      "           0,    0,    0,    0,    0,    0,    0,    0]])>, <tf.Tensor: shape=(), dtype=int64, numpy=1>)\n"
     ]
    }
   ],
   "source": [
    "text_batch, label_batch = next(iter(raw_train_ds_batched))\n",
    "n = 4\n",
    "first_review, first_label = text_batch[n], label_batch[n]\n",
    "print(\"Review\", first_review)\n",
    "print(custom_standardization(first_review))\n",
    "print(\"Label\", first_label)\n",
    "print(\"Vectorized review\", vectorize_text(first_review, first_label))"
   ]
  },
  {
   "cell_type": "markdown",
   "metadata": {
    "id": "m3Mmig3Gbste"
   },
   "source": [
    "- Con el vectorizador ya entrenado, podemos normalizar y estandarizar todos los datos:\n",
    "\n"
   ]
  },
  {
   "cell_type": "code",
   "execution_count": null,
   "metadata": {
    "id": "_tL5zWPCWCqI"
   },
   "outputs": [],
   "source": [
    "train_ds = raw_train_ds_batched.map(vectorize_text)\n",
    "val_ds = raw_val_ds_batched.map(vectorize_text)\n",
    "test_ds = raw_test_ds_batched.map(vectorize_text)"
   ]
  },
  {
   "cell_type": "code",
   "execution_count": null,
   "metadata": {
    "id": "qIrlK73cZQfO"
   },
   "outputs": [],
   "source": [
    "## Mejorar el rendimiento del dataset\n",
    "AUTOTUNE = tf.data.AUTOTUNE\n",
    "\n",
    "train_ds = train_ds.cache().prefetch(buffer_size=AUTOTUNE)\n",
    "val_ds = val_ds.cache().prefetch(buffer_size=AUTOTUNE)\n",
    "test_ds = test_ds.cache().prefetch(buffer_size=AUTOTUNE)"
   ]
  },
  {
   "cell_type": "markdown",
   "metadata": {
    "id": "ami3uZ1Ib2ts"
   },
   "source": [
    "## 4. Creacion del modelo"
   ]
  },
  {
   "cell_type": "markdown",
   "metadata": {
    "id": "tAsxYGGs-SSN"
   },
   "source": [
    "- Con los datos ya preprocesados podemos construir el modelo de nuestra red neuronal.\n",
    "- El modelo estará constituido por varias capas:\n",
    "> - **Capa de Embedding**: Se encargará de convertir los tweets vectorizados en vectores algo más complejos (embeddings) que aportan más información a la red neuronal\n",
    "> - **Capas de Dropout**: Sirven como forma de regularización de la red neuronal. Descartarán aleatoriamente algunas neuronas. (Su función es evitar problemas como el sobreaprendizaje). \n",
    "> - **Capa de GlobalAveragePooling1D**: Devuelve un vector de tamaño fijo para cada ejemplo. Esto ayudará a tratar con entradas de longitud variable.\n",
    "> - **Capa Dense**: Finalmente tendremos una capa densamente conectada que tendrá un una salida de tamaño 1 por la cual obtendremos la predicción de nuestra red"
   ]
  },
  {
   "cell_type": "code",
   "execution_count": null,
   "metadata": {
    "id": "3bUrN6GnZqKf"
   },
   "outputs": [],
   "source": [
    "embedding_dim = 16"
   ]
  },
  {
   "cell_type": "code",
   "execution_count": null,
   "metadata": {
    "colab": {
     "base_uri": "https://localhost:8080/"
    },
    "id": "j77b_KrRZa7i",
    "outputId": "5605594a-de3a-472c-ed01-a2bd137c5903"
   },
   "outputs": [
    {
     "name": "stdout",
     "output_type": "stream",
     "text": [
      "Model: \"sequential\"\n",
      "_________________________________________________________________\n",
      "Layer (type)                 Output Shape              Param #   \n",
      "=================================================================\n",
      "embedding (Embedding)        (None, None, 16)          160016    \n",
      "_________________________________________________________________\n",
      "dropout (Dropout)            (None, None, 16)          0         \n",
      "_________________________________________________________________\n",
      "global_average_pooling1d (Gl (None, 16)                0         \n",
      "_________________________________________________________________\n",
      "dropout_1 (Dropout)          (None, 16)                0         \n",
      "_________________________________________________________________\n",
      "dense (Dense)                (None, 1)                 17        \n",
      "=================================================================\n",
      "Total params: 160,033\n",
      "Trainable params: 160,033\n",
      "Non-trainable params: 0\n",
      "_________________________________________________________________\n"
     ]
    }
   ],
   "source": [
    "model = tf.keras.Sequential([\n",
    "    layers.Embedding(max_features + 1, embedding_dim),\n",
    "    layers.Dropout(0.2),\n",
    "    layers.GlobalAveragePooling1D(),\n",
    "    layers.Dropout(0.2),\n",
    "    layers.Dense(1)\n",
    "])\n",
    "\n",
    "model.summary()"
   ]
  },
  {
   "cell_type": "code",
   "execution_count": null,
   "metadata": {
    "id": "3oJPGnZDb7DG"
   },
   "outputs": [],
   "source": [
    "model.compile(loss=losses.BinaryCrossentropy(from_logits=True),\n",
    "              optimizer='adam',\n",
    "              metrics=tf.metrics.BinaryAccuracy(threshold=0.0))"
   ]
  },
  {
   "cell_type": "markdown",
   "metadata": {
    "id": "l7xWdjrcqO5I"
   },
   "source": [
    "- Entrenamos al modelo:"
   ]
  },
  {
   "cell_type": "code",
   "execution_count": null,
   "metadata": {
    "colab": {
     "base_uri": "https://localhost:8080/"
    },
    "id": "-bOTqlTCcML3",
    "outputId": "231e2e63-eca5-4dd2-ba1a-534d85c457b9"
   },
   "outputs": [
    {
     "name": "stdout",
     "output_type": "stream",
     "text": [
      "Epoch 1/10\n",
      "8750/8750 [==============================] - 53s 6ms/step - loss: 0.6000 - binary_accuracy: 0.6975 - val_loss: 0.4783 - val_binary_accuracy: 0.7856\n",
      "Epoch 2/10\n",
      "8750/8750 [==============================] - 46s 5ms/step - loss: 0.4760 - binary_accuracy: 0.7891 - val_loss: 0.4664 - val_binary_accuracy: 0.7923\n",
      "Epoch 3/10\n",
      "8750/8750 [==============================] - 47s 5ms/step - loss: 0.4664 - binary_accuracy: 0.7943 - val_loss: 0.4633 - val_binary_accuracy: 0.7944\n",
      "Epoch 4/10\n",
      "8750/8750 [==============================] - 46s 5ms/step - loss: 0.4631 - binary_accuracy: 0.7960 - val_loss: 0.4624 - val_binary_accuracy: 0.7951\n",
      "Epoch 5/10\n",
      "8750/8750 [==============================] - 46s 5ms/step - loss: 0.4617 - binary_accuracy: 0.7969 - val_loss: 0.4621 - val_binary_accuracy: 0.7954\n",
      "Epoch 6/10\n",
      "8750/8750 [==============================] - 46s 5ms/step - loss: 0.4609 - binary_accuracy: 0.7975 - val_loss: 0.4623 - val_binary_accuracy: 0.7942\n",
      "Epoch 7/10\n",
      "8750/8750 [==============================] - 46s 5ms/step - loss: 0.4605 - binary_accuracy: 0.7974 - val_loss: 0.4624 - val_binary_accuracy: 0.7939\n",
      "Epoch 8/10\n",
      "8750/8750 [==============================] - 46s 5ms/step - loss: 0.4605 - binary_accuracy: 0.7977 - val_loss: 0.4623 - val_binary_accuracy: 0.7948\n",
      "Epoch 9/10\n",
      "8750/8750 [==============================] - 46s 5ms/step - loss: 0.4603 - binary_accuracy: 0.7976 - val_loss: 0.4624 - val_binary_accuracy: 0.7942\n",
      "Epoch 10/10\n",
      "8750/8750 [==============================] - 46s 5ms/step - loss: 0.4601 - binary_accuracy: 0.7979 - val_loss: 0.4625 - val_binary_accuracy: 0.7943\n"
     ]
    }
   ],
   "source": [
    "epochs = 10\n",
    "history = model.fit(\n",
    "    train_ds,\n",
    "    validation_data=val_ds,\n",
    "    epochs=epochs\n",
    ")"
   ]
  },
  {
   "cell_type": "markdown",
   "metadata": {
    "id": "4Qx7UntWdX8G"
   },
   "source": [
    "## 5. Evaluacion del modelo"
   ]
  },
  {
   "cell_type": "markdown",
   "metadata": {
    "id": "xg3CmhP8Apri"
   },
   "source": [
    "- Una vez entrenado podemos ver que resultados obtenemos en los conjuntos de train y de test"
   ]
  },
  {
   "cell_type": "code",
   "execution_count": null,
   "metadata": {
    "colab": {
     "base_uri": "https://localhost:8080/"
    },
    "id": "JHeWI-gnqRJm",
    "outputId": "26be7e0f-4dd4-4c41-ea00-37bd441f09cb"
   },
   "outputs": [
    {
     "name": "stdout",
     "output_type": "stream",
     "text": [
      "1875/1875 [==============================] - 4s 2ms/step - loss: 0.4608 - binary_accuracy: 0.7959\n",
      "8750/8750 [==============================] - 17s 2ms/step - loss: 0.4532 - binary_accuracy: 0.8001\n",
      "Train loss: 45.31547129154205%, Test loss: 46.077895164489746%\n",
      "Train accuracy: 80.0108015537262%, Test accuracy: 79.5870840549469%\n"
     ]
    }
   ],
   "source": [
    "test_loss, test_accuracy = model.evaluate(test_ds)\n",
    "train_loss, train_accuracy = model.evaluate(train_ds)\n",
    "\n",
    "print(\"Train loss: {}%, Test loss: {}%\".format(train_loss * 100, test_loss * 100))\n",
    "print(\"Train accuracy: {}%, Test accuracy: {}%\".format(train_accuracy * 100, test_accuracy * 100))"
   ]
  },
  {
   "cell_type": "markdown",
   "metadata": {
    "id": "kuS-bD-5A16U"
   },
   "source": [
    "> Observamos una exactitud (*accuracy*) del 80% en train y del 79% en test. Son valores bastante decentes y que sean tan similares denota que no estamos teniendo ningún gran problema de sobreaprendizaje (o infraaprendizaje)\n",
    "\n",
    "- Podemos ver también una evolución del error (*loss*) y la exactitud a lo largo de cada iteración de la red:"
   ]
  },
  {
   "cell_type": "code",
   "execution_count": null,
   "metadata": {
    "colab": {
     "base_uri": "https://localhost:8080/"
    },
    "id": "nn-K4HE8qmUV",
    "outputId": "87df8515-0fac-4c31-eee0-762f5199ac71"
   },
   "outputs": [
    {
     "data": {
      "text/plain": [
       "dict_keys(['loss', 'binary_accuracy', 'val_loss', 'val_binary_accuracy'])"
      ]
     },
     "execution_count": 30,
     "metadata": {
      "tags": []
     },
     "output_type": "execute_result"
    }
   ],
   "source": [
    "history_dict = history.history\n",
    "history_dict.keys()"
   ]
  },
  {
   "cell_type": "code",
   "execution_count": null,
   "metadata": {
    "colab": {
     "base_uri": "https://localhost:8080/",
     "height": 295
    },
    "id": "tPweq69PqwIo",
    "outputId": "18376aa2-8e2a-4f87-b698-50f5afd3ebe6"
   },
   "outputs": [
    {
     "data": {
      "image/png": "[encoded data removed]",
      "text/plain": [
       "<Figure size 432x288 with 1 Axes>"
      ]
     },
     "metadata": {
      "needs_background": "light",
      "tags": []
     },
     "output_type": "display_data"
    }
   ],
   "source": [
    "acc = history_dict['binary_accuracy']\n",
    "val_acc = history_dict['val_binary_accuracy']\n",
    "loss = history_dict['loss']\n",
    "val_loss = history_dict['val_loss']\n",
    "\n",
    "epochs = range(1, len(acc) + 1)\n",
    "\n",
    "plt.plot(epochs, loss, 'b', label='Training loss', color='r')\n",
    "plt.plot(epochs, val_loss, 'b', label='Validation loss', color='b')\n",
    "plt.title('Training and validation loss')\n",
    "plt.xlabel('Epochs')\n",
    "plt.ylabel('Loss')\n",
    "plt.legend()\n",
    "\n",
    "plt.show()"
   ]
  },
  {
   "cell_type": "code",
   "execution_count": null,
   "metadata": {
    "colab": {
     "base_uri": "https://localhost:8080/",
     "height": 295
    },
    "id": "iG5tD58MrcuG",
    "outputId": "ed097cf8-ed37-49ba-aef3-eefa39745867"
   },
   "outputs": [
    {
     "data": {
      "image/png": "[encoded data removed]",
      "text/plain": [
       "<Figure size 432x288 with 1 Axes>"
      ]
     },
     "metadata": {
      "needs_background": "light",
      "tags": []
     },
     "output_type": "display_data"
    }
   ],
   "source": [
    "plt.plot(epochs, acc, label='Training acc', color='r')\n",
    "plt.plot(epochs, val_acc, 'b', label='Validation acc', color='b')\n",
    "plt.title('Training and validation accuracy')\n",
    "plt.xlabel('Epochs')\n",
    "plt.ylabel('Accuracy')\n",
    "plt.legend(loc='lower right')\n",
    "\n",
    "plt.show()"
   ]
  },
  {
   "cell_type": "markdown",
   "metadata": {
    "id": "hanveNjwCZH-"
   },
   "source": [
    "> En estas gráficas observamos como a partir de la iteración 5, más o menos, el error y la exactitud de train y de test se igualan y se mantienen similares"
   ]
  },
  {
   "cell_type": "markdown",
   "metadata": {
    "id": "UKIjfvABIgtA"
   },
   "source": [
    "## 6. Nuevos datos"
   ]
  },
  {
   "cell_type": "markdown",
   "metadata": {
    "id": "ok5s4E0JDsG5"
   },
   "source": [
    "- Teniendo ya un modelo entrenado y con unos resultados aceptables, podemos pasar a hacer pruebas con datos externos al dataset.\n",
    "- Para ello primero añadiremos el vectorizador de texto que entrenamos en el punto 3 como una primera capa de la red neuronal, para que así podamos introducir los ejemplos a predecir directamente en la red y esta se encargue de todos los procesamientos necesarios para tratarlos. También añadiremos al final una capa de **Activación** que mediante la función sigmoide nos dará la predicción que buscamos  *(negativo (pred < 0.5) o positivo (pred > 0.5))*"
   ]
  },
  {
   "cell_type": "code",
   "execution_count": null,
   "metadata": {
    "id": "xj93z-uwIga4"
   },
   "outputs": [],
   "source": [
    "export_model = tf.keras.Sequential([\n",
    "  vectorize_layer,\n",
    "  model,\n",
    "  layers.Activation('sigmoid')\n",
    "])\n",
    "\n",
    "export_model.compile(\n",
    "    loss=losses.BinaryCrossentropy(from_logits=False), optimizer=\"adam\", metrics=['accuracy']\n",
    ")"
   ]
  },
  {
   "cell_type": "markdown",
   "metadata": {
    "id": "A3ZjwSW_FVNH"
   },
   "source": [
    "- Podemos probar el modelo con datos sin preprocesar para ver que todo funciona correctamente:"
   ]
  },
  {
   "cell_type": "code",
   "execution_count": null,
   "metadata": {
    "colab": {
     "base_uri": "https://localhost:8080/"
    },
    "id": "eHAP0QgiJio2",
    "outputId": "4b44714c-5d06-489c-94de-efdf2fddcaae"
   },
   "outputs": [
    {
     "name": "stdout",
     "output_type": "stream",
     "text": [
      "TP: 98804, TN: 92205\n",
      " FP: 27795, FN: 21196\n",
      "Total:  240000\n"
     ]
    }
   ],
   "source": [
    "# Test it with `raw_test_ds`, which yields raw strings\n",
    "predictions = export_model.predict(raw_test_ds_batched)\n",
    "i = 0\n",
    "tp = 0\n",
    "fp = 0\n",
    "tn = 0\n",
    "fn = 0\n",
    "for text_batch, label_batch in raw_test_ds_batched:\n",
    "  for label in label_batch:\n",
    "    if label == 1:\n",
    "      if predictions[i] >= 0.5:\n",
    "        tp += 1\n",
    "      else:\n",
    "        fn += 1\n",
    "    elif label == 0:\n",
    "      if predictions[i] >= 0.5:\n",
    "        fp += 1\n",
    "      else:\n",
    "        tn += 1  \n",
    "    \n",
    "    i += 1\n",
    "\n",
    "print(\"TP: {}, TN: {}\\n FP: {}, FN: {}\".format(tp, tn, fp, fn))\n",
    "print(\"Total: \", i)"
   ]
  },
  {
   "cell_type": "code",
   "execution_count": null,
   "metadata": {
    "colab": {
     "base_uri": "https://localhost:8080/"
    },
    "id": "GJaeiIawNXOL",
    "outputId": "f71c3adf-6a88-4a23-d059-84193e305e3e"
   },
   "outputs": [
    {
     "name": "stdout",
     "output_type": "stream",
     "text": [
      "Accuracy (Correct predictions):  79.58708333333333 %\n",
      "Precision (Correct predicted positives):  78.04485027527863 %\n",
      "Recall (Real positives captured):  82.33666666666667 %\n",
      "F1:  80.1333338740222 %\n"
     ]
    }
   ],
   "source": [
    "print(\"Accuracy (Correct predictions): \", ((tp + tn) / (tp + fp + tn + fn)) * 100, '%')\n",
    "print(\"Precision (Correct predicted positives): \", (tp/(tp + fp))* 100, '%')\n",
    "print(\"Recall (Real positives captured): \", (tp/(tp + fn)) * 100, '%')\n",
    "print(\"F1: \", 2*tp/(2*tp + fp + fn) * 100, '%')"
   ]
  },
  {
   "cell_type": "markdown",
   "metadata": {
    "id": "MP7yiN5NGBr6"
   },
   "source": [
    "> Vemos unos resultados aceptables y muy similares a los resultados que ya obtuvimos anteriormente\n",
    "\n",
    "- Podemos ilustrar los buenos resultados del clasificador con una matriz de confusión:"
   ]
  },
  {
   "cell_type": "code",
   "execution_count": null,
   "metadata": {
    "id": "1iBwhe2vSaj4"
   },
   "outputs": [],
   "source": [
    "predictions[np.where(predictions >= 0.5)] = 1\n",
    "predictions[np.where(predictions < 0.5)] = 0"
   ]
  },
  {
   "cell_type": "code",
   "execution_count": null,
   "metadata": {
    "colab": {
     "base_uri": "https://localhost:8080/"
    },
    "id": "UJZCV2VeSyOy",
    "outputId": "bf1c8946-71a4-4009-a936-b55686a4669b"
   },
   "outputs": [
    {
     "name": "stdout",
     "output_type": "stream",
     "text": [
      "[[92205 27795]\n",
      " [21196 98804]]\n"
     ]
    }
   ],
   "source": [
    "predictions = predictions.astype(int)\n",
    "\n",
    "from sklearn.metrics import confusion_matrix\n",
    "cm = confusion_matrix(test_label, predictions)\n",
    "print(cm)"
   ]
  },
  {
   "cell_type": "code",
   "execution_count": null,
   "metadata": {
    "colab": {
     "base_uri": "https://localhost:8080/",
     "height": 282
    },
    "id": "hiMmM_3cT9WE",
    "outputId": "cd62dd73-f3be-4c75-f02f-b2de48d7e7f9"
   },
   "outputs": [
    {
     "data": {
      "text/plain": [
       "<matplotlib.axes._subplots.AxesSubplot at 0x7fe18595cf10>"
      ]
     },
     "execution_count": 47,
     "metadata": {
      "tags": []
     },
     "output_type": "execute_result"
    },
    {
     "data": {
      "image/png": "[encoded data removed]",
      "text/plain": [
       "<Figure size 432x288 with 2 Axes>"
      ]
     },
     "metadata": {
      "needs_background": "light",
      "tags": []
     },
     "output_type": "display_data"
    }
   ],
   "source": [
    "import seaborn as sn\n",
    "sn.heatmap(cm, annot=True, cmap=\"rocket_r\")"
   ]
  },
  {
   "cell_type": "markdown",
   "metadata": {
    "id": "w2v8_DyWdbWt"
   },
   "source": [
    "- Probamos también con varios strings de prueba:"
   ]
  },
  {
   "cell_type": "code",
   "execution_count": null,
   "metadata": {
    "colab": {
     "base_uri": "https://localhost:8080/"
    },
    "id": "ZZcjWPxM2GJ0",
    "outputId": "8e2539ce-9c14-492d-f96d-5f6cd870c983"
   },
   "outputs": [
    {
     "name": "stdout",
     "output_type": "stream",
     "text": [
      "\n",
      " [[0.7997041 ]\n",
      " [0.6552448 ]\n",
      " [0.24262185]]\n",
      "Positivo\n",
      "Positivo\n",
      "Negativo\n"
     ]
    }
   ],
   "source": [
    "### Pruebas con ejemplos externos\n",
    "examples = [\n",
    "            \"The movie was great!\", # Se espera positivo\n",
    "            \"The movie was okay.\", # Se espera positivo\n",
    "            \"The movie was terrible...\" # Se espera negativo\n",
    "]\n",
    "\n",
    "predictions = export_model.predict(examples)\n",
    "print('\\n',predictions)\n",
    "for p in predictions:\n",
    "  if p >= 0.5:\n",
    "    print(\"Positivo\")\n",
    "  else:\n",
    "    print(\"Negativo\")"
   ]
  },
  {
   "cell_type": "markdown",
   "metadata": {
    "id": "oigoOTNpGfKM"
   },
   "source": [
    "- Exportamos el modelo ya entrenado para poder usarlo en otros notebooks:"
   ]
  },
  {
   "cell_type": "code",
   "execution_count": null,
   "metadata": {
    "colab": {
     "base_uri": "https://localhost:8080/"
    },
    "id": "Y-ldEojWcYsl",
    "outputId": "09c51015-c95f-4ae7-b09f-6eef47f0f968"
   },
   "outputs": [
    {
     "name": "stdout",
     "output_type": "stream",
     "text": [
      "INFO:tensorflow:Assets written to: /content/drive/MyDrive/Mineria/tweet-sentiment-NN/assets\n"
     ]
    }
   ],
   "source": [
    "export_model.save('/content/drive/MyDrive/Mineria/tweet-sentiment-NN')"
   ]
  }
 ],
 "metadata": {
  "accelerator": "GPU",
  "colab": {
   "collapsed_sections": [],
   "name": "RedNeuronal.ipynb",
   "provenance": []
  },
  "kernelspec": {
   "display_name": "Python 3",
   "language": "python",
   "name": "python3"
  },
  "language_info": {
   "codemirror_mode": {
    "name": "ipython",
    "version": 3
   },
   "file_extension": ".py",
   "mimetype": "text/x-python",
   "name": "python",
   "nbconvert_exporter": "python",
   "pygments_lexer": "ipython3",
   "version": "3.7.3"
  }
 },
 "nbformat": 4,
 "nbformat_minor": 4
}
