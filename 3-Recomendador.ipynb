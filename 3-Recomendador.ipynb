{
 "cells": [
  {
   "cell_type": "markdown",
   "metadata": {
    "id": "uZoLgqeUcYYH"
   },
   "source": [
    "# **Recomendador de películas** (con análisis de sentimiento de twitter)\n",
    "### Proyecto mineria de datos - 2021\n",
    "---\n",
    "##### Ela Katherine Shepherd Arévalo - Pablo Daurell Marina"
   ]
  },
  {
   "cell_type": "code",
   "execution_count": 1,
   "metadata": {
    "colab": {
     "base_uri": "https://localhost:8080/"
    },
    "id": "3VOyrRQlDx43",
    "outputId": "edf8a097-4996-4966-82b0-8424ed0c0b0b"
   },
   "outputs": [
    {
     "name": "stdout",
     "output_type": "stream",
     "text": [
      "Requirement already satisfied: tweepy in /usr/local/lib/python3.7/dist-packages (3.10.0)\n",
      "Requirement already satisfied: requests[socks]>=2.11.1 in /usr/local/lib/python3.7/dist-packages (from tweepy) (2.23.0)\n",
      "Requirement already satisfied: six>=1.10.0 in /usr/local/lib/python3.7/dist-packages (from tweepy) (1.15.0)\n",
      "Requirement already satisfied: requests-oauthlib>=0.7.0 in /usr/local/lib/python3.7/dist-packages (from tweepy) (1.3.0)\n",
      "Requirement already satisfied: chardet<4,>=3.0.2 in /usr/local/lib/python3.7/dist-packages (from requests[socks]>=2.11.1->tweepy) (3.0.4)\n",
      "Requirement already satisfied: urllib3!=1.25.0,!=1.25.1,<1.26,>=1.21.1 in /usr/local/lib/python3.7/dist-packages (from requests[socks]>=2.11.1->tweepy) (1.24.3)\n",
      "Requirement already satisfied: certifi>=2017.4.17 in /usr/local/lib/python3.7/dist-packages (from requests[socks]>=2.11.1->tweepy) (2020.12.5)\n",
      "Requirement already satisfied: idna<3,>=2.5 in /usr/local/lib/python3.7/dist-packages (from requests[socks]>=2.11.1->tweepy) (2.10)\n",
      "Requirement already satisfied: PySocks!=1.5.7,>=1.5.6; extra == \"socks\" in /usr/local/lib/python3.7/dist-packages (from requests[socks]>=2.11.1->tweepy) (1.7.1)\n",
      "Requirement already satisfied: oauthlib>=3.0.0 in /usr/local/lib/python3.7/dist-packages (from requests-oauthlib>=0.7.0->tweepy) (3.1.0)\n"
     ]
    }
   ],
   "source": [
    "!pip install tweepy"
   ]
  },
  {
   "cell_type": "code",
   "execution_count": 2,
   "metadata": {
    "id": "L2q96j8bPCdQ"
   },
   "outputs": [],
   "source": [
    "import pandas as pd\n",
    "import numpy as np\n",
    "import os\n",
    "import re\n",
    "import string\n",
    "import pickle\n",
    "import random\n",
    "\n",
    "import tweepy\n",
    "from tweepy import OAuthHandler\n",
    "\n",
    "import tensorflow as tf\n",
    "from tensorflow.keras import layers\n",
    "from tensorflow.keras import losses\n",
    "from tensorflow.keras import preprocessing\n",
    "from tensorflow.keras.layers.experimental.preprocessing import TextVectorization"
   ]
  },
  {
   "cell_type": "code",
   "execution_count": 3,
   "metadata": {
    "colab": {
     "base_uri": "https://localhost:8080/"
    },
    "id": "j-kMvzLnPJ0X",
    "outputId": "2fb16f36-75ba-4225-c6a6-36a05e77e71d"
   },
   "outputs": [
    {
     "name": "stdout",
     "output_type": "stream",
     "text": [
      "Mounted at /content/drive\n"
     ]
    }
   ],
   "source": [
    "'''Importar dataset de Drive'''\n",
    "from google.colab import drive\n",
    "drive.mount(\"/content/drive\")"
   ]
  },
  {
   "cell_type": "markdown",
   "metadata": {
    "id": "WluJH98ylFqS"
   },
   "source": [
    "- El objetivo de esta parte es implementar un recomendador de películas (de la web [IMDb](https://www.imdb.com/)), que en función de los género de películas más vistos por un usuario, le recomiende películas que no haya visto pero otros usuarios con gustos similares si. *(Recommender based on Collaborative Filtering)*  \n",
    "- Además, extrayendo tweets del usuario, se analizará su sentimiento y se filtraran las peliculas recomendadas para adaptarse a ese estado de ánimo."
   ]
  },
  {
   "cell_type": "markdown",
   "metadata": {
    "id": "bl9LIqr0d8I5"
   },
   "source": [
    "## 1. Dataset para el sistema recomendador"
   ]
  },
  {
   "cell_type": "markdown",
   "metadata": {
    "id": "69iUND1keA5B"
   },
   "source": [
    "- Para simular un entorno en el que conocemos las películas vistas por varios usuarios y en el que tenemos acceso a sus tweets, usaremos el siguiente dataset: [MovieTweetings](https://github.com/sidooms/MovieTweetings), que contiene toda la información necesaria para este propósito\n",
    "> - **ratings.dat**: Contiene una lista que relaciona ids usuarios con ids de reviews que estos mismos han hecho sobre ciertas películas (De aquí podemos extraer que películas ha visto cada usuario)\n",
    "> - **movies.dat**: Relaciona el id de una película con su título y sus géneros (Con esto podemos ver que géneros son los que más ha visto cada usuario)\n",
    "> - **users.dat**: Relaciona el id de un usuario con el id de su cuenta de twitter (A partir de aquí podemos obtener los tweets de cada usuario para el análisis de sentimiento)"
   ]
  },
  {
   "cell_type": "code",
   "execution_count": 4,
   "metadata": {
    "id": "AbBf6ZHEod3R"
   },
   "outputs": [],
   "source": [
    "ratings_file = \"/content/drive/MyDrive/Mineria/MovieTweetings/ratings.txt\"\n",
    "movies_file = \"/content/drive/MyDrive/Mineria/MovieTweetings/movies.txt\"\n",
    "users_file = \"/content/drive/MyDrive/Mineria/MovieTweetings/users.txt\"\n",
    "\n",
    "ratings_ds = pd.read_csv(ratings_file, sep='::', names=['user id', 'movie id', 'rating', 'rating timestamp'], dtype=object, engine='python')\n",
    "movies_ds = pd.read_csv(movies_file, sep='::', names=['movie id', 'movie title', 'genre'], dtype=object, engine='python')\n",
    "users_ds = pd.read_csv(users_file, sep='::', names=['user id', 'twitter id'], dtype=object, engine='python')"
   ]
  },
  {
   "cell_type": "code",
   "execution_count": 5,
   "metadata": {
    "colab": {
     "base_uri": "https://localhost:8080/",
     "height": 212
    },
    "id": "IbVJT-tboeFm",
    "outputId": "bee4aa05-346e-4abc-af42-a884e4ed6b51"
   },
   "outputs": [
    {
     "name": "stdout",
     "output_type": "stream",
     "text": [
      "(903946, 4)\n"
     ]
    },
    {
     "data": {
      "text/html": [
       "<div>\n",
       "<style scoped>\n",
       "    .dataframe tbody tr th:only-of-type {\n",
       "        vertical-align: middle;\n",
       "    }\n",
       "\n",
       "    .dataframe tbody tr th {\n",
       "        vertical-align: top;\n",
       "    }\n",
       "\n",
       "    .dataframe thead th {\n",
       "        text-align: right;\n",
       "    }\n",
       "</style>\n",
       "<table border=\"1\" class=\"dataframe\">\n",
       "  <thead>\n",
       "    <tr style=\"text-align: right;\">\n",
       "      <th></th>\n",
       "      <th>user id</th>\n",
       "      <th>movie id</th>\n",
       "      <th>rating</th>\n",
       "      <th>rating timestamp</th>\n",
       "    </tr>\n",
       "  </thead>\n",
       "  <tbody>\n",
       "    <tr>\n",
       "      <th>0</th>\n",
       "      <td>1</td>\n",
       "      <td>0114508</td>\n",
       "      <td>8</td>\n",
       "      <td>1381006850</td>\n",
       "    </tr>\n",
       "    <tr>\n",
       "      <th>1</th>\n",
       "      <td>2</td>\n",
       "      <td>0499549</td>\n",
       "      <td>9</td>\n",
       "      <td>1376753198</td>\n",
       "    </tr>\n",
       "    <tr>\n",
       "      <th>2</th>\n",
       "      <td>2</td>\n",
       "      <td>1305591</td>\n",
       "      <td>8</td>\n",
       "      <td>1376742507</td>\n",
       "    </tr>\n",
       "    <tr>\n",
       "      <th>3</th>\n",
       "      <td>2</td>\n",
       "      <td>1428538</td>\n",
       "      <td>1</td>\n",
       "      <td>1371307089</td>\n",
       "    </tr>\n",
       "    <tr>\n",
       "      <th>4</th>\n",
       "      <td>3</td>\n",
       "      <td>0075314</td>\n",
       "      <td>1</td>\n",
       "      <td>1595468524</td>\n",
       "    </tr>\n",
       "  </tbody>\n",
       "</table>\n",
       "</div>"
      ],
      "text/plain": [
       "  user id movie id rating rating timestamp\n",
       "0       1  0114508      8       1381006850\n",
       "1       2  0499549      9       1376753198\n",
       "2       2  1305591      8       1376742507\n",
       "3       2  1428538      1       1371307089\n",
       "4       3  0075314      1       1595468524"
      ]
     },
     "execution_count": 5,
     "metadata": {
      "tags": []
     },
     "output_type": "execute_result"
    }
   ],
   "source": [
    "## Ratings dataset example\n",
    "print(ratings_ds.shape)\n",
    "ratings_ds.head()"
   ]
  },
  {
   "cell_type": "code",
   "execution_count": 6,
   "metadata": {
    "colab": {
     "base_uri": "https://localhost:8080/",
     "height": 212
    },
    "id": "9sfI5qxEoeJg",
    "outputId": "724e711b-3bc3-4eae-a5c9-b70296828843"
   },
   "outputs": [
    {
     "name": "stdout",
     "output_type": "stream",
     "text": [
      "(37248, 3)\n"
     ]
    },
    {
     "data": {
      "text/html": [
       "<div>\n",
       "<style scoped>\n",
       "    .dataframe tbody tr th:only-of-type {\n",
       "        vertical-align: middle;\n",
       "    }\n",
       "\n",
       "    .dataframe tbody tr th {\n",
       "        vertical-align: top;\n",
       "    }\n",
       "\n",
       "    .dataframe thead th {\n",
       "        text-align: right;\n",
       "    }\n",
       "</style>\n",
       "<table border=\"1\" class=\"dataframe\">\n",
       "  <thead>\n",
       "    <tr style=\"text-align: right;\">\n",
       "      <th></th>\n",
       "      <th>movie id</th>\n",
       "      <th>movie title</th>\n",
       "      <th>genre</th>\n",
       "    </tr>\n",
       "  </thead>\n",
       "  <tbody>\n",
       "    <tr>\n",
       "      <th>0</th>\n",
       "      <td>0000008</td>\n",
       "      <td>Edison Kinetoscopic Record of a Sneeze (1894)</td>\n",
       "      <td>Documentary|Short</td>\n",
       "    </tr>\n",
       "    <tr>\n",
       "      <th>1</th>\n",
       "      <td>0000010</td>\n",
       "      <td>La sortie des usines Lumière (1895)</td>\n",
       "      <td>Documentary|Short</td>\n",
       "    </tr>\n",
       "    <tr>\n",
       "      <th>2</th>\n",
       "      <td>0000012</td>\n",
       "      <td>The Arrival of a Train (1896)</td>\n",
       "      <td>Documentary|Short</td>\n",
       "    </tr>\n",
       "    <tr>\n",
       "      <th>3</th>\n",
       "      <td>25</td>\n",
       "      <td>The Oxford and Cambridge University Boat Race ...</td>\n",
       "      <td>NaN</td>\n",
       "    </tr>\n",
       "    <tr>\n",
       "      <th>4</th>\n",
       "      <td>0000091</td>\n",
       "      <td>Le manoir du diable (1896)</td>\n",
       "      <td>Short|Horror</td>\n",
       "    </tr>\n",
       "  </tbody>\n",
       "</table>\n",
       "</div>"
      ],
      "text/plain": [
       "  movie id  ...              genre\n",
       "0  0000008  ...  Documentary|Short\n",
       "1  0000010  ...  Documentary|Short\n",
       "2  0000012  ...  Documentary|Short\n",
       "3       25  ...                NaN\n",
       "4  0000091  ...       Short|Horror\n",
       "\n",
       "[5 rows x 3 columns]"
      ]
     },
     "execution_count": 6,
     "metadata": {
      "tags": []
     },
     "output_type": "execute_result"
    }
   ],
   "source": [
    "## Movies dataset example\n",
    "print(movies_ds.shape)\n",
    "movies_ds.head()"
   ]
  },
  {
   "cell_type": "code",
   "execution_count": 7,
   "metadata": {
    "colab": {
     "base_uri": "https://localhost:8080/"
    },
    "id": "xuaaRCpvoeMb",
    "outputId": "ec43e2a2-be82-41cc-9309-2709841d7a34"
   },
   "outputs": [
    {
     "name": "stdout",
     "output_type": "stream",
     "text": [
      "100\n"
     ]
    },
    {
     "data": {
      "text/plain": [
       "(37148, 3)"
      ]
     },
     "execution_count": 7,
     "metadata": {
      "tags": []
     },
     "output_type": "execute_result"
    }
   ],
   "source": [
    "# Limpiamos el dataset de películas de valores vacíos\n",
    "print(np.count_nonzero(movies_ds.isnull()))\n",
    "movies_ds = movies_ds.dropna()\n",
    "movies_ds.shape"
   ]
  },
  {
   "cell_type": "code",
   "execution_count": 8,
   "metadata": {
    "colab": {
     "base_uri": "https://localhost:8080/",
     "height": 195
    },
    "id": "qSkflGOXoePA",
    "outputId": "955cb18d-c9e0-4e01-dc64-cacb9472b3ea"
   },
   "outputs": [
    {
     "data": {
      "text/html": [
       "<div>\n",
       "<style scoped>\n",
       "    .dataframe tbody tr th:only-of-type {\n",
       "        vertical-align: middle;\n",
       "    }\n",
       "\n",
       "    .dataframe tbody tr th {\n",
       "        vertical-align: top;\n",
       "    }\n",
       "\n",
       "    .dataframe thead th {\n",
       "        text-align: right;\n",
       "    }\n",
       "</style>\n",
       "<table border=\"1\" class=\"dataframe\">\n",
       "  <thead>\n",
       "    <tr style=\"text-align: right;\">\n",
       "      <th></th>\n",
       "      <th>movie id</th>\n",
       "      <th>movie title</th>\n",
       "      <th>genre</th>\n",
       "    </tr>\n",
       "  </thead>\n",
       "  <tbody>\n",
       "    <tr>\n",
       "      <th>0</th>\n",
       "      <td>0000008</td>\n",
       "      <td>Edison Kinetoscopic Record of a Sneeze (1894)</td>\n",
       "      <td>Documentary|Short</td>\n",
       "    </tr>\n",
       "    <tr>\n",
       "      <th>1</th>\n",
       "      <td>0000010</td>\n",
       "      <td>La sortie des usines Lumière (1895)</td>\n",
       "      <td>Documentary|Short</td>\n",
       "    </tr>\n",
       "    <tr>\n",
       "      <th>2</th>\n",
       "      <td>0000012</td>\n",
       "      <td>The Arrival of a Train (1896)</td>\n",
       "      <td>Documentary|Short</td>\n",
       "    </tr>\n",
       "    <tr>\n",
       "      <th>4</th>\n",
       "      <td>0000091</td>\n",
       "      <td>Le manoir du diable (1896)</td>\n",
       "      <td>Short|Horror</td>\n",
       "    </tr>\n",
       "    <tr>\n",
       "      <th>5</th>\n",
       "      <td>0000131</td>\n",
       "      <td>Une nuit terrible (1896)</td>\n",
       "      <td>Short|Comedy|Horror</td>\n",
       "    </tr>\n",
       "  </tbody>\n",
       "</table>\n",
       "</div>"
      ],
      "text/plain": [
       "  movie id                                    movie title                genre\n",
       "0  0000008  Edison Kinetoscopic Record of a Sneeze (1894)    Documentary|Short\n",
       "1  0000010            La sortie des usines Lumière (1895)    Documentary|Short\n",
       "2  0000012                  The Arrival of a Train (1896)    Documentary|Short\n",
       "4  0000091                     Le manoir du diable (1896)         Short|Horror\n",
       "5  0000131                       Une nuit terrible (1896)  Short|Comedy|Horror"
      ]
     },
     "execution_count": 8,
     "metadata": {
      "tags": []
     },
     "output_type": "execute_result"
    }
   ],
   "source": [
    "movies_ds.head()"
   ]
  },
  {
   "cell_type": "code",
   "execution_count": 9,
   "metadata": {
    "colab": {
     "base_uri": "https://localhost:8080/",
     "height": 212
    },
    "id": "KsS1ZtOKpGzt",
    "outputId": "594b434f-6a80-43a2-9b0e-432239e4096f"
   },
   "outputs": [
    {
     "name": "stdout",
     "output_type": "stream",
     "text": [
      "(70550, 2)\n"
     ]
    },
    {
     "data": {
      "text/html": [
       "<div>\n",
       "<style scoped>\n",
       "    .dataframe tbody tr th:only-of-type {\n",
       "        vertical-align: middle;\n",
       "    }\n",
       "\n",
       "    .dataframe tbody tr th {\n",
       "        vertical-align: top;\n",
       "    }\n",
       "\n",
       "    .dataframe thead th {\n",
       "        text-align: right;\n",
       "    }\n",
       "</style>\n",
       "<table border=\"1\" class=\"dataframe\">\n",
       "  <thead>\n",
       "    <tr style=\"text-align: right;\">\n",
       "      <th></th>\n",
       "      <th>user id</th>\n",
       "      <th>twitter id</th>\n",
       "    </tr>\n",
       "  </thead>\n",
       "  <tbody>\n",
       "    <tr>\n",
       "      <th>0</th>\n",
       "      <td>1</td>\n",
       "      <td>139564917</td>\n",
       "    </tr>\n",
       "    <tr>\n",
       "      <th>1</th>\n",
       "      <td>2</td>\n",
       "      <td>17528189</td>\n",
       "    </tr>\n",
       "    <tr>\n",
       "      <th>2</th>\n",
       "      <td>3</td>\n",
       "      <td>522540374</td>\n",
       "    </tr>\n",
       "    <tr>\n",
       "      <th>3</th>\n",
       "      <td>4</td>\n",
       "      <td>475571186</td>\n",
       "    </tr>\n",
       "    <tr>\n",
       "      <th>4</th>\n",
       "      <td>5</td>\n",
       "      <td>215022153</td>\n",
       "    </tr>\n",
       "  </tbody>\n",
       "</table>\n",
       "</div>"
      ],
      "text/plain": [
       "  user id twitter id\n",
       "0       1  139564917\n",
       "1       2   17528189\n",
       "2       3  522540374\n",
       "3       4  475571186\n",
       "4       5  215022153"
      ]
     },
     "execution_count": 9,
     "metadata": {
      "tags": []
     },
     "output_type": "execute_result"
    }
   ],
   "source": [
    "## Users dataset example\n",
    "print(users_ds.shape)\n",
    "users_ds.head()"
   ]
  },
  {
   "cell_type": "markdown",
   "metadata": {
    "id": "2Z0bGL8Lpa7s"
   },
   "source": [
    "## 2. Preprocesamiento del dataset"
   ]
  },
  {
   "cell_type": "markdown",
   "metadata": {
    "id": "KqO2z6noplEr"
   },
   "source": [
    "- Para construir el recomendador tendremos en cuenta el número de películas de cada género que ha visto cada usuario.\n",
    "- Para ello, a partir del dataset original construiremos una tabla con una fila por cada usuario y tantas columnas como géneros haya."
   ]
  },
  {
   "cell_type": "code",
   "execution_count": 10,
   "metadata": {
    "colab": {
     "base_uri": "https://localhost:8080/"
    },
    "id": "__NkOh5SpG22",
    "outputId": "8f8cd5cc-fbf8-4667-e41b-19fcd275deea"
   },
   "outputs": [
    {
     "name": "stdout",
     "output_type": "stream",
     "text": [
      "{'user id': [], 'Documentary': 0, 'Short': 0, 'Horror': 0, 'Comedy': 0, 'Action': 0, 'Adventure': 0, 'Fantasy': 0, 'Sci-Fi': 0, 'Crime': 0, 'Western': 0, 'Drama': 0, 'Romance': 0, 'History': 0, 'Family': 0, 'War': 0, 'Sport': 0, 'Biography': 0, 'Mystery': 0, 'Thriller': 0, 'Animation': 0, 'Music': 0, 'Musical': 0, 'Film-Noir': 0, 'Adult': 0, 'Talk-Show': 0, 'News': 0, 'Reality-TV': 0, 'Game-Show': 0}\n"
     ]
    }
   ],
   "source": [
    "## Primero recorremos todas las peliculas del dataset para obtener todos los géneros\n",
    "genres_dict = {'user id':[]}\n",
    "for movie in movies_ds.to_numpy():\n",
    "  for genre in movie[2].split('|'):\n",
    "    genres_dict.update({genre:0})\n",
    "\n",
    "print(genres_dict)"
   ]
  },
  {
   "cell_type": "code",
   "execution_count": 11,
   "metadata": {
    "colab": {
     "base_uri": "https://localhost:8080/",
     "height": 64
    },
    "id": "IpY-H6UmpHH8",
    "outputId": "309b30a0-225b-4e30-f4fb-9b6d8fa557db"
   },
   "outputs": [
    {
     "data": {
      "text/html": [
       "<div>\n",
       "<style scoped>\n",
       "    .dataframe tbody tr th:only-of-type {\n",
       "        vertical-align: middle;\n",
       "    }\n",
       "\n",
       "    .dataframe tbody tr th {\n",
       "        vertical-align: top;\n",
       "    }\n",
       "\n",
       "    .dataframe thead th {\n",
       "        text-align: right;\n",
       "    }\n",
       "</style>\n",
       "<table border=\"1\" class=\"dataframe\">\n",
       "  <thead>\n",
       "    <tr style=\"text-align: right;\">\n",
       "      <th></th>\n",
       "      <th>user id</th>\n",
       "      <th>Documentary</th>\n",
       "      <th>Short</th>\n",
       "      <th>Horror</th>\n",
       "      <th>Comedy</th>\n",
       "      <th>Action</th>\n",
       "      <th>Adventure</th>\n",
       "      <th>Fantasy</th>\n",
       "      <th>Sci-Fi</th>\n",
       "      <th>Crime</th>\n",
       "      <th>Western</th>\n",
       "      <th>Drama</th>\n",
       "      <th>Romance</th>\n",
       "      <th>History</th>\n",
       "      <th>Family</th>\n",
       "      <th>War</th>\n",
       "      <th>Sport</th>\n",
       "      <th>Biography</th>\n",
       "      <th>Mystery</th>\n",
       "      <th>Thriller</th>\n",
       "      <th>Animation</th>\n",
       "      <th>Music</th>\n",
       "      <th>Musical</th>\n",
       "      <th>Film-Noir</th>\n",
       "      <th>Adult</th>\n",
       "      <th>Talk-Show</th>\n",
       "      <th>News</th>\n",
       "      <th>Reality-TV</th>\n",
       "      <th>Game-Show</th>\n",
       "    </tr>\n",
       "  </thead>\n",
       "  <tbody>\n",
       "  </tbody>\n",
       "</table>\n",
       "</div>"
      ],
      "text/plain": [
       "Empty DataFrame\n",
       "Columns: [user id, Documentary, Short, Horror, Comedy, Action, Adventure, Fantasy, Sci-Fi, Crime, Western, Drama, Romance, History, Family, War, Sport, Biography, Mystery, Thriller, Animation, Music, Musical, Film-Noir, Adult, Talk-Show, News, Reality-TV, Game-Show]\n",
       "Index: []"
      ]
     },
     "execution_count": 11,
     "metadata": {
      "tags": []
     },
     "output_type": "execute_result"
    }
   ],
   "source": [
    "# Comenzamos a construir el DataFrame\n",
    "user_genres_ds = pd.DataFrame(data=genres_dict)\n",
    "user_genres_ds"
   ]
  },
  {
   "cell_type": "code",
   "execution_count": null,
   "metadata": {
    "id": "04tifeUJBmdB"
   },
   "outputs": [],
   "source": [
    "### Recorremos todos los usuarios y sus peliculas vistas ###\n",
    "\n",
    "# Recorrer usuarios\n",
    "for i in range(users_ds.count()[0]):\n",
    "  user_dict = genres_dict.copy()\n",
    "  user_dict.update({'user id':i})\n",
    "\n",
    "  # Recorrer peliculas vistas por cada usuario\n",
    "  for movie in ratings_ds[ratings_ds['user id'] == i].to_numpy()[:,1]:\n",
    "    if movies_ds[movies_ds['movie id'] == movie]['movie id'].empty:\n",
    "      continue\n",
    "\n",
    "    # Recorrer generos de cada pelicula\n",
    "    for genre in movies_ds[movies_ds['movie id'] == movie]['genre'].to_numpy()[0].split('|'):\n",
    "      aux = user_dict.get(genre)\n",
    "      user_dict.update({genre:aux+1})\n",
    "  \n",
    "  user_genres_ds.loc[i] = user_dict"
   ]
  },
  {
   "cell_type": "code",
   "execution_count": null,
   "metadata": {
    "id": "q-a1atyupHOT"
   },
   "outputs": [],
   "source": [
    "user_genres_ds"
   ]
  },
  {
   "cell_type": "code",
   "execution_count": null,
   "metadata": {
    "id": "bim_Nc-cpHRX"
   },
   "outputs": [],
   "source": [
    "# Almacenamos el DataFrame resultante en un fichero csv para no tener que volver a generarlo más\n",
    "user_genres_ds['user id'] = user_genres_ds['user id'].astype(int)\n",
    "user_genres_ds.to_csv('/content/drive/MyDrive/Mineria/MovieTweetings/user_genres.csv', index=False)"
   ]
  },
  {
   "cell_type": "markdown",
   "metadata": {
    "id": "Qw0Yt_PbpHTx"
   },
   "source": [
    "## 3. Sistema recomendador (Método K-NN)"
   ]
  },
  {
   "cell_type": "markdown",
   "metadata": {
    "id": "g6tSNGXKpHWm"
   },
   "source": [
    "- Con el DataFrame creado anteriormente podemos entrenar un modelo de K-vecinos-más-cercanos (K-NN) que para cada usuario encuentre los usuarios que más se asemejen a sus intereses.\n",
    "- Este método tratará los elementos de la lista de géneros más vistos por cada usuario como vectores numéricos y calculará la distancia entre ellos, haciendo que los usuarios con gustos más similares se encuentren a poca distancia."
   ]
  },
  {
   "cell_type": "code",
   "execution_count": 12,
   "metadata": {
    "colab": {
     "base_uri": "https://localhost:8080/",
     "height": 418
    },
    "id": "LDbWKTSnuha6",
    "outputId": "8e397e3a-aabc-4cad-885e-cd11a626c358"
   },
   "outputs": [
    {
     "data": {
      "text/html": [
       "<div>\n",
       "<style scoped>\n",
       "    .dataframe tbody tr th:only-of-type {\n",
       "        vertical-align: middle;\n",
       "    }\n",
       "\n",
       "    .dataframe tbody tr th {\n",
       "        vertical-align: top;\n",
       "    }\n",
       "\n",
       "    .dataframe thead th {\n",
       "        text-align: right;\n",
       "    }\n",
       "</style>\n",
       "<table border=\"1\" class=\"dataframe\">\n",
       "  <thead>\n",
       "    <tr style=\"text-align: right;\">\n",
       "      <th></th>\n",
       "      <th>user id</th>\n",
       "      <th>Documentary</th>\n",
       "      <th>Short</th>\n",
       "      <th>Horror</th>\n",
       "      <th>Comedy</th>\n",
       "      <th>Action</th>\n",
       "      <th>Adventure</th>\n",
       "      <th>Fantasy</th>\n",
       "      <th>Sci-Fi</th>\n",
       "      <th>Crime</th>\n",
       "      <th>Western</th>\n",
       "      <th>Drama</th>\n",
       "      <th>Romance</th>\n",
       "      <th>History</th>\n",
       "      <th>Family</th>\n",
       "      <th>War</th>\n",
       "      <th>Sport</th>\n",
       "      <th>Biography</th>\n",
       "      <th>Mystery</th>\n",
       "      <th>Thriller</th>\n",
       "      <th>Animation</th>\n",
       "      <th>Music</th>\n",
       "      <th>Musical</th>\n",
       "      <th>Film-Noir</th>\n",
       "      <th>Adult</th>\n",
       "      <th>Talk-Show</th>\n",
       "      <th>News</th>\n",
       "      <th>Reality-TV</th>\n",
       "      <th>Game-Show</th>\n",
       "    </tr>\n",
       "  </thead>\n",
       "  <tbody>\n",
       "    <tr>\n",
       "      <th>1</th>\n",
       "      <td>1</td>\n",
       "      <td>0</td>\n",
       "      <td>0</td>\n",
       "      <td>1</td>\n",
       "      <td>0</td>\n",
       "      <td>1</td>\n",
       "      <td>0</td>\n",
       "      <td>0</td>\n",
       "      <td>1</td>\n",
       "      <td>0</td>\n",
       "      <td>0</td>\n",
       "      <td>0</td>\n",
       "      <td>0</td>\n",
       "      <td>0</td>\n",
       "      <td>0</td>\n",
       "      <td>0</td>\n",
       "      <td>0</td>\n",
       "      <td>0</td>\n",
       "      <td>0</td>\n",
       "      <td>1</td>\n",
       "      <td>0</td>\n",
       "      <td>0</td>\n",
       "      <td>0</td>\n",
       "      <td>0</td>\n",
       "      <td>0</td>\n",
       "      <td>0</td>\n",
       "      <td>0</td>\n",
       "      <td>0</td>\n",
       "      <td>0</td>\n",
       "    </tr>\n",
       "    <tr>\n",
       "      <th>2</th>\n",
       "      <td>2</td>\n",
       "      <td>0</td>\n",
       "      <td>0</td>\n",
       "      <td>1</td>\n",
       "      <td>0</td>\n",
       "      <td>2</td>\n",
       "      <td>2</td>\n",
       "      <td>2</td>\n",
       "      <td>2</td>\n",
       "      <td>0</td>\n",
       "      <td>0</td>\n",
       "      <td>0</td>\n",
       "      <td>0</td>\n",
       "      <td>0</td>\n",
       "      <td>1</td>\n",
       "      <td>0</td>\n",
       "      <td>0</td>\n",
       "      <td>0</td>\n",
       "      <td>0</td>\n",
       "      <td>0</td>\n",
       "      <td>1</td>\n",
       "      <td>0</td>\n",
       "      <td>0</td>\n",
       "      <td>0</td>\n",
       "      <td>0</td>\n",
       "      <td>0</td>\n",
       "      <td>0</td>\n",
       "      <td>0</td>\n",
       "      <td>0</td>\n",
       "    </tr>\n",
       "    <tr>\n",
       "      <th>3</th>\n",
       "      <td>3</td>\n",
       "      <td>0</td>\n",
       "      <td>0</td>\n",
       "      <td>3</td>\n",
       "      <td>6</td>\n",
       "      <td>3</td>\n",
       "      <td>3</td>\n",
       "      <td>3</td>\n",
       "      <td>1</td>\n",
       "      <td>11</td>\n",
       "      <td>0</td>\n",
       "      <td>15</td>\n",
       "      <td>1</td>\n",
       "      <td>0</td>\n",
       "      <td>0</td>\n",
       "      <td>1</td>\n",
       "      <td>0</td>\n",
       "      <td>2</td>\n",
       "      <td>4</td>\n",
       "      <td>8</td>\n",
       "      <td>0</td>\n",
       "      <td>1</td>\n",
       "      <td>0</td>\n",
       "      <td>0</td>\n",
       "      <td>0</td>\n",
       "      <td>0</td>\n",
       "      <td>0</td>\n",
       "      <td>0</td>\n",
       "      <td>0</td>\n",
       "    </tr>\n",
       "    <tr>\n",
       "      <th>4</th>\n",
       "      <td>4</td>\n",
       "      <td>0</td>\n",
       "      <td>0</td>\n",
       "      <td>0</td>\n",
       "      <td>0</td>\n",
       "      <td>0</td>\n",
       "      <td>0</td>\n",
       "      <td>0</td>\n",
       "      <td>0</td>\n",
       "      <td>1</td>\n",
       "      <td>0</td>\n",
       "      <td>5</td>\n",
       "      <td>2</td>\n",
       "      <td>0</td>\n",
       "      <td>0</td>\n",
       "      <td>0</td>\n",
       "      <td>0</td>\n",
       "      <td>1</td>\n",
       "      <td>0</td>\n",
       "      <td>1</td>\n",
       "      <td>0</td>\n",
       "      <td>0</td>\n",
       "      <td>0</td>\n",
       "      <td>0</td>\n",
       "      <td>0</td>\n",
       "      <td>0</td>\n",
       "      <td>0</td>\n",
       "      <td>0</td>\n",
       "      <td>0</td>\n",
       "    </tr>\n",
       "    <tr>\n",
       "      <th>5</th>\n",
       "      <td>5</td>\n",
       "      <td>0</td>\n",
       "      <td>0</td>\n",
       "      <td>0</td>\n",
       "      <td>3</td>\n",
       "      <td>0</td>\n",
       "      <td>1</td>\n",
       "      <td>0</td>\n",
       "      <td>0</td>\n",
       "      <td>1</td>\n",
       "      <td>0</td>\n",
       "      <td>5</td>\n",
       "      <td>2</td>\n",
       "      <td>2</td>\n",
       "      <td>0</td>\n",
       "      <td>2</td>\n",
       "      <td>0</td>\n",
       "      <td>2</td>\n",
       "      <td>0</td>\n",
       "      <td>2</td>\n",
       "      <td>0</td>\n",
       "      <td>0</td>\n",
       "      <td>0</td>\n",
       "      <td>0</td>\n",
       "      <td>0</td>\n",
       "      <td>0</td>\n",
       "      <td>0</td>\n",
       "      <td>0</td>\n",
       "      <td>0</td>\n",
       "    </tr>\n",
       "    <tr>\n",
       "      <th>...</th>\n",
       "      <td>...</td>\n",
       "      <td>...</td>\n",
       "      <td>...</td>\n",
       "      <td>...</td>\n",
       "      <td>...</td>\n",
       "      <td>...</td>\n",
       "      <td>...</td>\n",
       "      <td>...</td>\n",
       "      <td>...</td>\n",
       "      <td>...</td>\n",
       "      <td>...</td>\n",
       "      <td>...</td>\n",
       "      <td>...</td>\n",
       "      <td>...</td>\n",
       "      <td>...</td>\n",
       "      <td>...</td>\n",
       "      <td>...</td>\n",
       "      <td>...</td>\n",
       "      <td>...</td>\n",
       "      <td>...</td>\n",
       "      <td>...</td>\n",
       "      <td>...</td>\n",
       "      <td>...</td>\n",
       "      <td>...</td>\n",
       "      <td>...</td>\n",
       "      <td>...</td>\n",
       "      <td>...</td>\n",
       "      <td>...</td>\n",
       "      <td>...</td>\n",
       "    </tr>\n",
       "    <tr>\n",
       "      <th>70545</th>\n",
       "      <td>70545</td>\n",
       "      <td>0</td>\n",
       "      <td>0</td>\n",
       "      <td>50</td>\n",
       "      <td>17</td>\n",
       "      <td>26</td>\n",
       "      <td>31</td>\n",
       "      <td>19</td>\n",
       "      <td>34</td>\n",
       "      <td>11</td>\n",
       "      <td>1</td>\n",
       "      <td>40</td>\n",
       "      <td>5</td>\n",
       "      <td>0</td>\n",
       "      <td>9</td>\n",
       "      <td>0</td>\n",
       "      <td>0</td>\n",
       "      <td>2</td>\n",
       "      <td>37</td>\n",
       "      <td>65</td>\n",
       "      <td>4</td>\n",
       "      <td>1</td>\n",
       "      <td>1</td>\n",
       "      <td>0</td>\n",
       "      <td>0</td>\n",
       "      <td>0</td>\n",
       "      <td>0</td>\n",
       "      <td>0</td>\n",
       "      <td>0</td>\n",
       "    </tr>\n",
       "    <tr>\n",
       "      <th>70546</th>\n",
       "      <td>70546</td>\n",
       "      <td>0</td>\n",
       "      <td>0</td>\n",
       "      <td>0</td>\n",
       "      <td>0</td>\n",
       "      <td>1</td>\n",
       "      <td>0</td>\n",
       "      <td>0</td>\n",
       "      <td>1</td>\n",
       "      <td>0</td>\n",
       "      <td>0</td>\n",
       "      <td>0</td>\n",
       "      <td>0</td>\n",
       "      <td>0</td>\n",
       "      <td>0</td>\n",
       "      <td>0</td>\n",
       "      <td>0</td>\n",
       "      <td>0</td>\n",
       "      <td>0</td>\n",
       "      <td>1</td>\n",
       "      <td>0</td>\n",
       "      <td>0</td>\n",
       "      <td>0</td>\n",
       "      <td>0</td>\n",
       "      <td>0</td>\n",
       "      <td>0</td>\n",
       "      <td>0</td>\n",
       "      <td>0</td>\n",
       "      <td>0</td>\n",
       "    </tr>\n",
       "    <tr>\n",
       "      <th>70547</th>\n",
       "      <td>70547</td>\n",
       "      <td>0</td>\n",
       "      <td>0</td>\n",
       "      <td>1</td>\n",
       "      <td>1</td>\n",
       "      <td>0</td>\n",
       "      <td>0</td>\n",
       "      <td>0</td>\n",
       "      <td>0</td>\n",
       "      <td>0</td>\n",
       "      <td>0</td>\n",
       "      <td>0</td>\n",
       "      <td>0</td>\n",
       "      <td>0</td>\n",
       "      <td>0</td>\n",
       "      <td>0</td>\n",
       "      <td>0</td>\n",
       "      <td>0</td>\n",
       "      <td>0</td>\n",
       "      <td>0</td>\n",
       "      <td>0</td>\n",
       "      <td>0</td>\n",
       "      <td>0</td>\n",
       "      <td>0</td>\n",
       "      <td>0</td>\n",
       "      <td>0</td>\n",
       "      <td>0</td>\n",
       "      <td>0</td>\n",
       "      <td>0</td>\n",
       "    </tr>\n",
       "    <tr>\n",
       "      <th>70548</th>\n",
       "      <td>70548</td>\n",
       "      <td>0</td>\n",
       "      <td>0</td>\n",
       "      <td>8</td>\n",
       "      <td>24</td>\n",
       "      <td>23</td>\n",
       "      <td>11</td>\n",
       "      <td>7</td>\n",
       "      <td>6</td>\n",
       "      <td>17</td>\n",
       "      <td>2</td>\n",
       "      <td>52</td>\n",
       "      <td>8</td>\n",
       "      <td>5</td>\n",
       "      <td>5</td>\n",
       "      <td>6</td>\n",
       "      <td>2</td>\n",
       "      <td>10</td>\n",
       "      <td>11</td>\n",
       "      <td>27</td>\n",
       "      <td>1</td>\n",
       "      <td>0</td>\n",
       "      <td>2</td>\n",
       "      <td>0</td>\n",
       "      <td>0</td>\n",
       "      <td>0</td>\n",
       "      <td>0</td>\n",
       "      <td>0</td>\n",
       "      <td>0</td>\n",
       "    </tr>\n",
       "    <tr>\n",
       "      <th>70549</th>\n",
       "      <td>70549</td>\n",
       "      <td>0</td>\n",
       "      <td>0</td>\n",
       "      <td>0</td>\n",
       "      <td>0</td>\n",
       "      <td>1</td>\n",
       "      <td>1</td>\n",
       "      <td>0</td>\n",
       "      <td>0</td>\n",
       "      <td>0</td>\n",
       "      <td>0</td>\n",
       "      <td>2</td>\n",
       "      <td>1</td>\n",
       "      <td>0</td>\n",
       "      <td>0</td>\n",
       "      <td>0</td>\n",
       "      <td>0</td>\n",
       "      <td>0</td>\n",
       "      <td>0</td>\n",
       "      <td>0</td>\n",
       "      <td>0</td>\n",
       "      <td>0</td>\n",
       "      <td>0</td>\n",
       "      <td>0</td>\n",
       "      <td>0</td>\n",
       "      <td>0</td>\n",
       "      <td>0</td>\n",
       "      <td>0</td>\n",
       "      <td>0</td>\n",
       "    </tr>\n",
       "  </tbody>\n",
       "</table>\n",
       "<p>70549 rows × 29 columns</p>\n",
       "</div>"
      ],
      "text/plain": [
       "       user id  Documentary  Short  ...  News  Reality-TV  Game-Show\n",
       "1            1            0      0  ...     0           0          0\n",
       "2            2            0      0  ...     0           0          0\n",
       "3            3            0      0  ...     0           0          0\n",
       "4            4            0      0  ...     0           0          0\n",
       "5            5            0      0  ...     0           0          0\n",
       "...        ...          ...    ...  ...   ...         ...        ...\n",
       "70545    70545            0      0  ...     0           0          0\n",
       "70546    70546            0      0  ...     0           0          0\n",
       "70547    70547            0      0  ...     0           0          0\n",
       "70548    70548            0      0  ...     0           0          0\n",
       "70549    70549            0      0  ...     0           0          0\n",
       "\n",
       "[70549 rows x 29 columns]"
      ]
     },
     "execution_count": 12,
     "metadata": {
      "tags": []
     },
     "output_type": "execute_result"
    }
   ],
   "source": [
    "## Cargamos los datos\n",
    "data = pd.read_csv('/content/drive/MyDrive/Mineria/MovieTweetings/user_genres.csv')\n",
    "data = data.drop([0])\n",
    "data"
   ]
  },
  {
   "cell_type": "markdown",
   "metadata": {
    "id": "R4UYdAmm74-j"
   },
   "source": [
    "- Con los datos cargados, creamos y entrenamos el modelo:"
   ]
  },
  {
   "cell_type": "code",
   "execution_count": 13,
   "metadata": {
    "colab": {
     "base_uri": "https://localhost:8080/"
    },
    "id": "I3wzH0eblXdc",
    "outputId": "8cd779bc-1a42-42c3-af1a-6f68efb3d2d0"
   },
   "outputs": [
    {
     "data": {
      "text/plain": [
       "NearestNeighbors(algorithm='auto', leaf_size=30, metric='minkowski',\n",
       "                 metric_params=None, n_jobs=None, n_neighbors=5, p=2,\n",
       "                 radius=1.0)"
      ]
     },
     "execution_count": 13,
     "metadata": {
      "tags": []
     },
     "output_type": "execute_result"
    }
   ],
   "source": [
    "### Entrenamos el modelo K-NN\n",
    "from sklearn.neighbors import NearestNeighbors\n",
    "\n",
    "X = data.iloc[:,1:].values # Lista del número de géneros vistos, quitando el user_id\n",
    "\n",
    "classifier = NearestNeighbors()\n",
    "classifier.fit(X)"
   ]
  },
  {
   "cell_type": "markdown",
   "metadata": {
    "id": "T-c3VOHxwAb5"
   },
   "source": [
    "- Una vez entrenado el modelo podemos probarlo:"
   ]
  },
  {
   "cell_type": "code",
   "execution_count": 14,
   "metadata": {
    "id": "KbAyJkRmsSyv"
   },
   "outputs": [],
   "source": [
    "uid = 3\n",
    "li = classifier.kneighbors([X[uid-1]],n_neighbors=5,return_distance=False)\n",
    "li = np.delete(li[0], 0) # Eliminamos al propio usuario\n",
    "li = list(map(lambda x : x + 1, li)) # Sumar 1 para hacer coincidir los indices de la tabla con el user_id"
   ]
  },
  {
   "cell_type": "code",
   "execution_count": 15,
   "metadata": {
    "colab": {
     "base_uri": "https://localhost:8080/"
    },
    "id": "aG-NyvTksS16",
    "outputId": "21c61c55-cd68-436a-dcfd-19cbfec92ad5"
   },
   "outputs": [
    {
     "name": "stdout",
     "output_type": "stream",
     "text": [
      "Usuarios similares al usuario nº3: [6101, 2616, 47348, 6063]\n"
     ]
    }
   ],
   "source": [
    "print('Usuarios similares al usuario nº{}: {}'.format(uid, li))"
   ]
  },
  {
   "cell_type": "code",
   "execution_count": 16,
   "metadata": {
    "colab": {
     "base_uri": "https://localhost:8080/",
     "height": 94
    },
    "id": "BIvfMZRU3zld",
    "outputId": "f4266a8d-bcdb-49b5-9fe1-1aaae3ded8d4"
   },
   "outputs": [
    {
     "data": {
      "text/html": [
       "<div>\n",
       "<style scoped>\n",
       "    .dataframe tbody tr th:only-of-type {\n",
       "        vertical-align: middle;\n",
       "    }\n",
       "\n",
       "    .dataframe tbody tr th {\n",
       "        vertical-align: top;\n",
       "    }\n",
       "\n",
       "    .dataframe thead th {\n",
       "        text-align: right;\n",
       "    }\n",
       "</style>\n",
       "<table border=\"1\" class=\"dataframe\">\n",
       "  <thead>\n",
       "    <tr style=\"text-align: right;\">\n",
       "      <th></th>\n",
       "      <th>user id</th>\n",
       "      <th>Documentary</th>\n",
       "      <th>Short</th>\n",
       "      <th>Horror</th>\n",
       "      <th>Comedy</th>\n",
       "      <th>Action</th>\n",
       "      <th>Adventure</th>\n",
       "      <th>Fantasy</th>\n",
       "      <th>Sci-Fi</th>\n",
       "      <th>Crime</th>\n",
       "      <th>Western</th>\n",
       "      <th>Drama</th>\n",
       "      <th>Romance</th>\n",
       "      <th>History</th>\n",
       "      <th>Family</th>\n",
       "      <th>War</th>\n",
       "      <th>Sport</th>\n",
       "      <th>Biography</th>\n",
       "      <th>Mystery</th>\n",
       "      <th>Thriller</th>\n",
       "      <th>Animation</th>\n",
       "      <th>Music</th>\n",
       "      <th>Musical</th>\n",
       "      <th>Film-Noir</th>\n",
       "      <th>Adult</th>\n",
       "      <th>Talk-Show</th>\n",
       "      <th>News</th>\n",
       "      <th>Reality-TV</th>\n",
       "      <th>Game-Show</th>\n",
       "    </tr>\n",
       "  </thead>\n",
       "  <tbody>\n",
       "    <tr>\n",
       "      <th>3</th>\n",
       "      <td>3</td>\n",
       "      <td>0</td>\n",
       "      <td>0</td>\n",
       "      <td>3</td>\n",
       "      <td>6</td>\n",
       "      <td>3</td>\n",
       "      <td>3</td>\n",
       "      <td>3</td>\n",
       "      <td>1</td>\n",
       "      <td>11</td>\n",
       "      <td>0</td>\n",
       "      <td>15</td>\n",
       "      <td>1</td>\n",
       "      <td>0</td>\n",
       "      <td>0</td>\n",
       "      <td>1</td>\n",
       "      <td>0</td>\n",
       "      <td>2</td>\n",
       "      <td>4</td>\n",
       "      <td>8</td>\n",
       "      <td>0</td>\n",
       "      <td>1</td>\n",
       "      <td>0</td>\n",
       "      <td>0</td>\n",
       "      <td>0</td>\n",
       "      <td>0</td>\n",
       "      <td>0</td>\n",
       "      <td>0</td>\n",
       "      <td>0</td>\n",
       "    </tr>\n",
       "  </tbody>\n",
       "</table>\n",
       "</div>"
      ],
      "text/plain": [
       "   user id  Documentary  Short  Horror  ...  Talk-Show  News  Reality-TV  Game-Show\n",
       "3        3            0      0       3  ...          0     0           0          0\n",
       "\n",
       "[1 rows x 29 columns]"
      ]
     },
     "execution_count": 16,
     "metadata": {
      "tags": []
     },
     "output_type": "execute_result"
    }
   ],
   "source": [
    "data[data['user id'] == uid]"
   ]
  },
  {
   "cell_type": "code",
   "execution_count": 17,
   "metadata": {
    "colab": {
     "base_uri": "https://localhost:8080/",
     "height": 94
    },
    "id": "zXhG5SYH6-_q",
    "outputId": "4818249f-b4c1-4351-be80-fc19f4fe313b"
   },
   "outputs": [
    {
     "data": {
      "text/html": [
       "<div>\n",
       "<style scoped>\n",
       "    .dataframe tbody tr th:only-of-type {\n",
       "        vertical-align: middle;\n",
       "    }\n",
       "\n",
       "    .dataframe tbody tr th {\n",
       "        vertical-align: top;\n",
       "    }\n",
       "\n",
       "    .dataframe thead th {\n",
       "        text-align: right;\n",
       "    }\n",
       "</style>\n",
       "<table border=\"1\" class=\"dataframe\">\n",
       "  <thead>\n",
       "    <tr style=\"text-align: right;\">\n",
       "      <th></th>\n",
       "      <th>user id</th>\n",
       "      <th>Documentary</th>\n",
       "      <th>Short</th>\n",
       "      <th>Horror</th>\n",
       "      <th>Comedy</th>\n",
       "      <th>Action</th>\n",
       "      <th>Adventure</th>\n",
       "      <th>Fantasy</th>\n",
       "      <th>Sci-Fi</th>\n",
       "      <th>Crime</th>\n",
       "      <th>Western</th>\n",
       "      <th>Drama</th>\n",
       "      <th>Romance</th>\n",
       "      <th>History</th>\n",
       "      <th>Family</th>\n",
       "      <th>War</th>\n",
       "      <th>Sport</th>\n",
       "      <th>Biography</th>\n",
       "      <th>Mystery</th>\n",
       "      <th>Thriller</th>\n",
       "      <th>Animation</th>\n",
       "      <th>Music</th>\n",
       "      <th>Musical</th>\n",
       "      <th>Film-Noir</th>\n",
       "      <th>Adult</th>\n",
       "      <th>Talk-Show</th>\n",
       "      <th>News</th>\n",
       "      <th>Reality-TV</th>\n",
       "      <th>Game-Show</th>\n",
       "    </tr>\n",
       "  </thead>\n",
       "  <tbody>\n",
       "    <tr>\n",
       "      <th>6101</th>\n",
       "      <td>6101</td>\n",
       "      <td>0</td>\n",
       "      <td>0</td>\n",
       "      <td>3</td>\n",
       "      <td>6</td>\n",
       "      <td>3</td>\n",
       "      <td>2</td>\n",
       "      <td>1</td>\n",
       "      <td>1</td>\n",
       "      <td>7</td>\n",
       "      <td>0</td>\n",
       "      <td>13</td>\n",
       "      <td>1</td>\n",
       "      <td>0</td>\n",
       "      <td>0</td>\n",
       "      <td>0</td>\n",
       "      <td>0</td>\n",
       "      <td>2</td>\n",
       "      <td>5</td>\n",
       "      <td>10</td>\n",
       "      <td>0</td>\n",
       "      <td>1</td>\n",
       "      <td>0</td>\n",
       "      <td>0</td>\n",
       "      <td>0</td>\n",
       "      <td>0</td>\n",
       "      <td>0</td>\n",
       "      <td>0</td>\n",
       "      <td>0</td>\n",
       "    </tr>\n",
       "  </tbody>\n",
       "</table>\n",
       "</div>"
      ],
      "text/plain": [
       "      user id  Documentary  Short  ...  News  Reality-TV  Game-Show\n",
       "6101     6101            0      0  ...     0           0          0\n",
       "\n",
       "[1 rows x 29 columns]"
      ]
     },
     "execution_count": 17,
     "metadata": {
      "tags": []
     },
     "output_type": "execute_result"
    }
   ],
   "source": [
    "data[data['user id'] == li[0]]"
   ]
  },
  {
   "cell_type": "code",
   "execution_count": 18,
   "metadata": {
    "colab": {
     "base_uri": "https://localhost:8080/"
    },
    "id": "YisswBBWsS4w",
    "outputId": "5614a8ad-d9ba-48b8-936e-bd22bcbc0908"
   },
   "outputs": [
    {
     "name": "stdout",
     "output_type": "stream",
     "text": [
      "Ids peliculas vistas por usuario 3: \n",
      "['0075314' '0102926' '0114369' '0118715' '0120737' '0208092' '0358273'\n",
      " '0477348' '10039344' '1051906' '1568346' '2278388' '6199572' '6723592'\n",
      " '6751668' '7131622' '7975244' '7984734' '8367814' '8579674' '8946378']\n",
      "\n",
      "Ids peliculas vistas por usuario similar (6101): \n",
      "['0118971' '0154506' '0166924' '0256380' '1038988' '1206543' '1229340'\n",
      " '1242422' '1291150' '1294970' '1535109' '1614989' '1800241' '1939659'\n",
      " '2106476' '2140373' '2193215' '2226417' '2278388']\n"
     ]
    }
   ],
   "source": [
    "current_user = ratings_ds[ratings_ds['user id']==str(uid)]['movie id'].values\n",
    "similar_user = ratings_ds[ratings_ds['user id']==str(li[0])]['movie id'].values\n",
    "\n",
    "print('Ids peliculas vistas por usuario {}: \\n{}'.format(uid, current_user))\n",
    "print('\\nIds peliculas vistas por usuario similar ({}): \\n{}'.format(li[0], similar_user))"
   ]
  },
  {
   "cell_type": "code",
   "execution_count": 19,
   "metadata": {
    "colab": {
     "base_uri": "https://localhost:8080/"
    },
    "id": "XLHXKmBOsS7U",
    "outputId": "cd18e55d-af25-431b-a786-d04e06a9fc04"
   },
   "outputs": [
    {
     "name": "stdout",
     "output_type": "stream",
     "text": [
      "\n",
      "Peliculas a recomendar: \n",
      "['0118971' '0154506' '0166924' '0256380' '1038988' '1206543' '1229340'\n",
      " '1242422' '1291150' '1294970' '1535109' '1614989' '1800241' '1939659'\n",
      " '2106476' '2140373' '2193215' '2226417']\n"
     ]
    }
   ],
   "source": [
    "movies_list = np.array([movie for movie in similar_user if movie not in current_user])\n",
    "print('\\nPeliculas a recomendar: \\n{}'.format(movies_list))"
   ]
  },
  {
   "cell_type": "code",
   "execution_count": 20,
   "metadata": {
    "colab": {
     "base_uri": "https://localhost:8080/"
    },
    "id": "-zWdIwaOpHbb",
    "outputId": "aedeaa54-a3d9-47d9-9381-ce4d9abef558"
   },
   "outputs": [
    {
     "name": "stdout",
     "output_type": "stream",
     "text": [
      "Titulos (y géneros) de las peliculas recomendadas: \n",
      "\n",
      "The Devil's Advocate (1997): \t(Drama|Mystery|Thriller)\n",
      "Following (1998): \t(Crime|Mystery|Thriller)\n",
      "Mulholland Dr. (2001): \t(Drama|Mystery|Thriller)\n",
      "Shallow Hal (2001): \t(Comedy|Drama|Fantasy|Romance)\n",
      "[Rec] (2007): \t(Horror|Mystery|Thriller)\n",
      "Out of the Furnace (2013): \t(Crime|Drama|Thriller)\n",
      "Anchorman 2: The Legend Continues (2013): \t(Comedy)\n",
      "Celda 211 (2009): \t(Action|Crime|Drama|Thriller)\n",
      "Teenage Mutant Ninja Turtles (2014): \t(Action|Adventure|Comedy|Sci-Fi)\n",
      "The Angriest Man in Brooklyn (2014): \t(Comedy|Drama)\n",
      "Captain Phillips (2013): \t(Biography|Drama|Thriller)\n",
      "Hodejegerne (2011): \t(Action|Crime|Thriller)\n",
      "American Hustle (2013): \t(Crime|Drama)\n",
      "Carrie (2013): \t(Drama|Horror)\n",
      "Jagten (2012): \t(Drama)\n",
      "Saving Mr. Banks (2013): \t(Biography|Comedy|Drama|Music)\n",
      "The Counselor (2013): \t(Crime|Drama|Thriller)\n",
      "Insidious: Chapter 2 (2013): \t(Horror|Mystery|Thriller)\n"
     ]
    }
   ],
   "source": [
    "print('Titulos (y géneros) de las peliculas recomendadas: \\n')\n",
    "movie_titles = []\n",
    "movie_genres = []\n",
    "for id in movies_list:\n",
    "  title = movies_ds[movies_ds['movie id']==id]['movie title'].values\n",
    "  genre = movies_ds[movies_ds['movie id']==id]['genre'].values\n",
    "  movie_titles.append(title[0])\n",
    "  movie_genres.append(genre[0])\n",
    "\n",
    "for i in range(len(movie_titles)):\n",
    "  print('{}: \\t({})'.format(movie_titles[i], movie_genres[i]))"
   ]
  },
  {
   "cell_type": "markdown",
   "metadata": {
    "id": "Jr4ls5z6NNDh"
   },
   "source": [
    "- Podemos agrupar todo esto en una funcion:\n"
   ]
  },
  {
   "cell_type": "code",
   "execution_count": 21,
   "metadata": {
    "id": "MEXBvekVNNgb"
   },
   "outputs": [],
   "source": [
    "'''\n",
    "Funcion que recibe un id de usuario del dataset y el numero de usuarios similares que se desea, \n",
    "ejecuta el modelo K-NN para conseguir los usuarios mas similares\n",
    "y devuelve una lista con las peliculas que los usuarios similares han visto pero el usuario principal no.\n",
    "'''\n",
    "def movie_recommender(id, num_neighbors):\n",
    "  X = data.iloc[:,1:].values # Generos por usuario (sin user id)\n",
    "\n",
    "  ## K-NN\n",
    "  li = classifier.kneighbors([X[int(id)-1]], n_neighbors=num_neighbors, return_distance=False)\n",
    "  li = np.delete(li[0], 0)\n",
    "  li = list(map(lambda x : x + 1, li))\n",
    "\n",
    "  movie_list = []\n",
    "  current_user = ratings_ds[ratings_ds['user id']==str(id)]['movie id'].values\n",
    "  \n",
    "  ## Recorrer las peliculas vistas de todos los usuarios similares\n",
    "  for i in range(len(li)):\n",
    "      similar_user = ratings_ds[ratings_ds['user id']==str(li[i])]['movie id'].values   \n",
    "      movies = np.array([movie for movie in similar_user if movie not in current_user])\n",
    "      for movie in movies:\n",
    "        movie_list.append(movie)\n",
    "\n",
    "  movie_list = list(dict.fromkeys(movie_list)) # Eliminar peliculas duplciadas\n",
    "\n",
    "  movie_titles = []\n",
    "  movie_genres = []\n",
    "  for id in movie_list:\n",
    "    title = movies_ds[movies_ds['movie id']==id]['movie title'].values\n",
    "    genre = movies_ds[movies_ds['movie id']==id]['genre'].values\n",
    "\n",
    "    movie_titles.append(title[0])\n",
    "    movie_genres.append(genre[0])\n",
    "\n",
    "\n",
    "  return movie_list, movie_titles, movie_genres"
   ]
  },
  {
   "cell_type": "markdown",
   "metadata": {
    "id": "opcbaK42pHeD"
   },
   "source": [
    "> Con todo lo anterior, tenemos un sitema recomendador que recomienda películas en función de lo visto por usuarios con gustos similares   \n",
    "\n",
    "> El siguiente paso es obtener el estado de ánimo del usuario a traves de sus tweets"
   ]
  },
  {
   "cell_type": "markdown",
   "metadata": {
    "id": "SfQPXlSf7g10"
   },
   "source": [
    "## 4. Análisis de sentimiento de tweets (tweepy y red neuronal)"
   ]
  },
  {
   "cell_type": "markdown",
   "metadata": {
    "id": "-c2hlYpQ7txs"
   },
   "source": [
    "- El primer paso será ser capaces de extraer tweets de cada usuario. Para ello usaremos el archivo movies.dat que relaciona cada usuario con su id de twitter.\n",
    "- Usando la API de Twitter, mediante la biblioteca Tweepy, podremos extraer tweets de una cuenta a través de su id"
   ]
  },
  {
   "cell_type": "code",
   "execution_count": 22,
   "metadata": {
    "id": "7kQlVDM77t07"
   },
   "outputs": [],
   "source": [
    "### Autentificarse para usar la app de tweepy\n",
    "consumer_key = '----'\n",
    "consumer_secret = '----'\n",
    "access_token = '----'\n",
    "access_token_secret = '----'\n",
    "\n",
    "auth = tweepy.OAuthHandler(consumer_key, consumer_secret)\n",
    "auth.set_access_token(access_token, access_token_secret)\n",
    "\n",
    "api = tweepy.API(auth)"
   ]
  },
  {
   "cell_type": "code",
   "execution_count": 23,
   "metadata": {
    "id": "BmSjb0yK7u2x"
   },
   "outputs": [],
   "source": [
    "### Funciones auxiliares para trabajar con el dataset y Tweepy\n",
    "\n",
    "# Devuelve el id de twitter correspondiente a un usuario del dataset\n",
    "def get_twitterID(user_id):\n",
    "  return users_ds[users_ds['user id']==user_id]['twitter id'].values[0]\n",
    "\n",
    "# Devuelve el nombre de usuario (@ + user) asociado a un id de twitter\n",
    "def get_user(id):\n",
    "  try:\n",
    "    u = api.get_user(int(get_twitterID(id)))\n",
    "    return u.screen_name\n",
    "  except:\n",
    "    print('User not available')"
   ]
  },
  {
   "cell_type": "markdown",
   "metadata": {
    "id": "EZesdgxqbGXx"
   },
   "source": [
    "- Para el análisis de sentimiento usaremos la red neuronal que entrenamos en otro notebook a parte\n",
    "> Para usarla simplemente tenemos que importar la capa de vectorizacion de textos y el modelo de la red:"
   ]
  },
  {
   "cell_type": "code",
   "execution_count": 24,
   "metadata": {
    "id": "5MSyptVCa3fF"
   },
   "outputs": [],
   "source": [
    "## A pesar de usar un modelo importado, es necesario volver a definir la funcion de estandarizacion\n",
    "@tf.keras.utils.register_keras_serializable()\n",
    "def custom_standardization(input_data):\n",
    "  lowercase = tf.strings.lower(input_data)\n",
    "\n",
    "  # Eliminar menciones (@username), enlaces, o caracteres especiales\n",
    "  clean_tweet = tf.strings.regex_replace(lowercase,\n",
    "                            '(@[A-Za-z0-9]+)|([^0-9A-Za-z \\t])|(\\w+:\\/\\/\\S+)|(www.\\S+)', ' ') \n",
    "  return clean_tweet\n",
    "\n",
    "## Importamos la capa de TextVectorization\n",
    "from_disk = pickle.load(open('/content/drive/MyDrive/Mineria/tweet-vectorizeLayer.pkl', 'rb'))\n",
    "new_v = TextVectorization.from_config(from_disk['config'])\n",
    "# Aunque ya está entrenada, debido a problemas con keras, es necesario llamar a adapt() con datos cualquiera para que funcione\n",
    "new_v.adapt(tf.data.Dataset.from_tensor_slices([\"xyz\"]))\n",
    "new_v.set_weights(from_disk['weights'])\n",
    "\n",
    "## Importamos el modelo de red neuronal\n",
    "loaded_model = tf.keras.models.load_model('/content/drive/MyDrive/Mineria/tweet-sentiment-NN')"
   ]
  },
  {
   "cell_type": "markdown",
   "metadata": {
    "id": "nIwmXkzqcjS2"
   },
   "source": [
    "- Con todo esto ya podemos extraer tweets de un usuario con Tweepy e introducirlos en la red neuronal para inferir un sentimiento"
   ]
  },
  {
   "cell_type": "code",
   "execution_count": 25,
   "metadata": {
    "id": "cjuwpfpP7t3g"
   },
   "outputs": [],
   "source": [
    "'''\n",
    "Funcion que recibe un id de usuario del dataset, lo convierte a el correspondiente id de twitter,\n",
    "extrae el numero de tweets indicado, analiza el sentimiento de todos ellos y finalmente,\n",
    "devuelve el nombre del usuario y el sentimiento mayoritario entre los tweets analizado\n",
    "'''\n",
    "def sentiment_from_tweets(id, tweet_num):\n",
    "  user = get_user(str(id))\n",
    "\n",
    "  if user == None:\n",
    "    return (None, None)\n",
    "\n",
    "  else:\n",
    "    ## Extraer tweets\n",
    "    try:\n",
    "      tweets = api.user_timeline(screen_name=user, count=100, include_rts=False)\n",
    "    except tweepy.TweepError:\n",
    "      print('Private user')\n",
    "      return(None, None)\n",
    "\n",
    "    if tweets[0].lang != 'en': # Evitamos tweets en otro idioma. Nuestro clasificador está entrenado en inglés\n",
    "      print('Not in english')\n",
    "      return(None, None)\n",
    "\n",
    "    examples = [tweet.text for tweet in tweets[:tweet_num]]\n",
    "\n",
    "    ## Analisis de sentimiento\n",
    "    predictions = loaded_model.predict(examples)\n",
    "    pos = 0\n",
    "    neg = 0\n",
    "    for p in predictions:\n",
    "      if p >= 0.5:\n",
    "        pos += 1\n",
    "      else:\n",
    "        neg += 1\n",
    "\n",
    "    user_sentiment = 1 if pos > neg else -1\n",
    "  \n",
    "\n",
    "  return (user, user_sentiment)"
   ]
  },
  {
   "cell_type": "code",
   "execution_count": 26,
   "metadata": {
    "colab": {
     "base_uri": "https://localhost:8080/"
    },
    "id": "rhGqTukEe8Im",
    "outputId": "75cb5042-ad2f-4b0c-996c-9dceba98352a"
   },
   "outputs": [
    {
     "name": "stdout",
     "output_type": "stream",
     "text": [
      "User id: 1\n",
      "Number of tweets: 10\n",
      "- User name: @Waffaboy\n",
      "- User sentiment: Positive\n"
     ]
    }
   ],
   "source": [
    "id = input('User id: ')\n",
    "num = int(input('Number of tweets: '))\n",
    "user, sentiment = sentiment_from_tweets(id, num)\n",
    "\n",
    "### MOSTRAR RESULTADOS\n",
    "print('- User name: @{}'.format(user))\n",
    "if sentiment == 1:\n",
    "  print('- User sentiment: {}'.format('Positive'))\n",
    "else:\n",
    "  print('- User sentiment: {}'.format('Negative'))"
   ]
  },
  {
   "cell_type": "markdown",
   "metadata": {
    "id": "QIrp-NeMxmPg"
   },
   "source": [
    "- Podemos ver los **tweets** extraidos para comparar el resultado:"
   ]
  },
  {
   "cell_type": "code",
   "execution_count": 27,
   "metadata": {
    "colab": {
     "base_uri": "https://localhost:8080/"
    },
    "id": "v_vzQAUpwyMg",
    "outputId": "443271ff-9965-4c29-a7fc-92c3293ca3c1"
   },
   "outputs": [
    {
     "name": "stdout",
     "output_type": "stream",
     "text": [
      "@LeeDawsonPT The duality of entertainment \n",
      "\n",
      "@alanswan a receipt of all the non essential buys from amazon- mainly the harmonica and cocktail mixers. A lethal combo \n",
      "\n",
      "Fanatastic campaign launched by SIRO. Life is different now and we're all adjusting as best we can! #StayHome https://t.co/eeuZ0Ig0ai \n",
      "\n",
      "@hoeyannie @labour Congrats!! \n",
      "\n",
      "@NianticHelp What about the special research tasks with time limits? Hard to get out of the home to watch very spec… https://t.co/NgIyNKZWAI \n",
      "\n",
      "@LeeDawsonPT go to town with it https://t.co/j4B9L8jdi1 \n",
      "\n",
      "@Ghost_Fl0wer Hope that it turns out you don't have OC. Here if you need anything \n",
      "\n",
      "@LfcHarsh Repetitive music boosts productivity for both so that's prolly why! \n",
      "\n",
      "Brave and bold statement from British TV icon Phillip Schofield, nothing but support to him and his family should b… https://t.co/wbhTnb2oMj \n",
      "\n",
      "I've had people call me all sorts of things but I think my favourite has to be the person who thought \"Airline\" was… https://t.co/PoQUb0Ad85 \n",
      "\n"
     ]
    }
   ],
   "source": [
    "user = get_user(str(id))\n",
    "tweets = api.user_timeline(screen_name=user, count=100, include_rts=False)\n",
    "for t in tweets[:10]:\n",
    "  print(t.text, '\\n')"
   ]
  },
  {
   "cell_type": "markdown",
   "metadata": {
    "id": "7n7yyq8j7t6H"
   },
   "source": [
    "## 5. Recomendador + Analisis de sentimiento"
   ]
  },
  {
   "cell_type": "markdown",
   "metadata": {
    "id": "8PuYxcBHzTte"
   },
   "source": [
    "- Ya tenemos el recomendador y la forma de analizar el sentimiento del usuario\n",
    "- Con esto podemos juntar ambas técnicas para filtrar las recomendaciones por sentimiento, pero neceesitamos una forma de asignar sentimiento a las películas. Probaremos dos formas:\n",
    "> - **Enfoque principal**: Asignar a cada  género un sentimiento (ej: Drama -> negativo, Comedia -> positivo) y asignar a cada peli una puntuación en función de sus géneros\n",
    "> - **Enfoque \"experimental\"**: Conseguir la sinopsis de cada peli y utilizar la red neuronal para clasificar cada sinopsis por sentimiento, asignando ese sentimiento a la pelicula."
   ]
  },
  {
   "cell_type": "markdown",
   "metadata": {
    "id": "-1gvc8aM7Ayr"
   },
   "source": [
    "- **Enfoque principal**:\n",
    "> Este enfoque consitirá en asignar a cada género un valor (1: positivo, -1: negativo, 0: neutro) y para cada pelicula asignar un sentimiento en funcion de la suma de los valores de cada uno de sus generos  \n",
    ">\n",
    "> - Si la suma resulta \\> 0, la pelicula será positiva; si resulta \\< 0, será negativa y si fuese 0, sería una peli neutra que podemos recomendar a cualquier usuario"
   ]
  },
  {
   "cell_type": "code",
   "execution_count": 28,
   "metadata": {
    "colab": {
     "base_uri": "https://localhost:8080/"
    },
    "id": "tHPSS7hB7t9M",
    "outputId": "6b54b187-155c-42ed-aa4e-bafabf75c640"
   },
   "outputs": [
    {
     "name": "stdout",
     "output_type": "stream",
     "text": [
      "['Documentary' 'Short' 'Horror' 'Comedy' 'Action' 'Adventure' 'Fantasy'\n",
      " 'Sci-Fi' 'Crime' 'Western' 'Drama' 'Romance' 'History' 'Family' 'War'\n",
      " 'Sport' 'Biography' 'Mystery' 'Thriller' 'Animation' 'Music' 'Musical'\n",
      " 'Film-Noir' 'Adult' 'Talk-Show' 'News' 'Reality-TV' 'Game-Show']\n"
     ]
    }
   ],
   "source": [
    "# Generos del dataset\n",
    "generos = np.array(user_genres_ds.keys()[1:])\n",
    "print(generos)"
   ]
  },
  {
   "cell_type": "code",
   "execution_count": 29,
   "metadata": {
    "id": "p1U-UA9pPe7t"
   },
   "outputs": [],
   "source": [
    "# Asignar a cada genero un valor (1: positivo, -1: negativo, 0: neutro)\n",
    "valores = np.array([0, 0, -1, 1, 1, 1, 1, 1, -1, 1, -1, 1, 0, 1, -1, 1, 0, -1, -1, 0, 1, 1, -1, -1, 1, 0, 1, 1])"
   ]
  },
  {
   "cell_type": "code",
   "execution_count": 30,
   "metadata": {
    "colab": {
     "base_uri": "https://localhost:8080/"
    },
    "id": "P9crGnqLNnl3",
    "outputId": "783d9adf-5b07-4b2b-e622-fd95cefd4fa7"
   },
   "outputs": [
    {
     "name": "stdout",
     "output_type": "stream",
     "text": [
      "{'Documentary': 0, 'Short': 0, 'Horror': -1, 'Comedy': 1, 'Action': 1, 'Adventure': 1, 'Fantasy': 1, 'Sci-Fi': 1, 'Crime': -1, 'Western': 1, 'Drama': -1, 'Romance': 1, 'History': 0, 'Family': 1, 'War': -1, 'Sport': 1, 'Biography': 0, 'Mystery': -1, 'Thriller': -1, 'Animation': 0, 'Music': 1, 'Musical': 1, 'Film-Noir': -1, 'Adult': -1, 'Talk-Show': 1, 'News': 0, 'Reality-TV': 1, 'Game-Show': 1}\n"
     ]
    }
   ],
   "source": [
    "sentimiento_generos = dict(zip(generos, valores))\n",
    "print(sentimiento_generos)"
   ]
  },
  {
   "cell_type": "code",
   "execution_count": 31,
   "metadata": {
    "colab": {
     "base_uri": "https://localhost:8080/"
    },
    "id": "-y_ntRef7guW",
    "outputId": "c7fe6d8b-1729-469b-b988-9935a0c1af04"
   },
   "outputs": [
    {
     "name": "stdout",
     "output_type": "stream",
     "text": [
      "Documentary -> NEUTRO\n",
      "Short -> NEUTRO\n",
      "Horror -> NEG\n",
      "Comedy -> POS\n",
      "Action -> POS\n",
      "Adventure -> POS\n",
      "Fantasy -> POS\n",
      "Sci-Fi -> POS\n",
      "Crime -> NEG\n",
      "Western -> POS\n",
      "Drama -> NEG\n",
      "Romance -> POS\n",
      "History -> NEUTRO\n",
      "Family -> POS\n",
      "War -> NEG\n",
      "Sport -> POS\n",
      "Biography -> NEUTRO\n",
      "Mystery -> NEG\n",
      "Thriller -> NEG\n",
      "Animation -> NEUTRO\n",
      "Music -> POS\n",
      "Musical -> POS\n",
      "Film-Noir -> NEG\n",
      "Adult -> NEG\n",
      "Talk-Show -> POS\n",
      "News -> NEUTRO\n",
      "Reality-TV -> POS\n",
      "Game-Show -> POS\n",
      "\n",
      "Positivos:  14\n",
      "Negativos:  8\n",
      "Neutros:  6\n"
     ]
    }
   ],
   "source": [
    "for g, s in sentimiento_generos.items():\n",
    "  if s == 1:\n",
    "    print('{} -> {}'.format(g, 'POS'))\n",
    "  elif s == -1:\n",
    "    print('{} -> {}'.format(g, 'NEG'))\n",
    "  else:\n",
    "    print('{} -> {}'.format(g, 'NEUTRO'))\n",
    "\n",
    "print('\\nPositivos: ', np.count_nonzero(valores == 1))\n",
    "print('Negativos: ', np.count_nonzero(valores == -1))\n",
    "print('Neutros: ', np.count_nonzero(valores == 0))"
   ]
  },
  {
   "cell_type": "code",
   "execution_count": 32,
   "metadata": {
    "id": "BrNDshkSNZ_K"
   },
   "outputs": [],
   "source": [
    "'''\n",
    "Funcion que recibe una lista de generos y un diccionario con el sentimiento asociado a cada genero.\n",
    "Asigna a cada pelicula un genero en funcion de la puntuacion resultante de sus generos\n",
    "Devuelve una lista con un sentimiento por pelicula\n",
    "'''\n",
    "def filter_genres_sentiment(movie_genres, genres_sentiment):\n",
    "  movie_sentiment = []\n",
    "\n",
    "  for movie in movie_genres:\n",
    "    sum = 0\n",
    "    for genre in movie.split('|'):\n",
    "      sum += genres_sentiment.get(genre)\n",
    "\n",
    "    sentiment = 1 if sum > 0 else -1 if sum < 0 else 0\n",
    "    movie_sentiment.append(sentiment)\n",
    "\n",
    "  return movie_sentiment"
   ]
  },
  {
   "cell_type": "code",
   "execution_count": 71,
   "metadata": {
    "colab": {
     "base_uri": "https://localhost:8080/"
    },
    "id": "4b0AKLRVI6Wh",
    "outputId": "77e69077-b389-4fcc-fb54-c2f1a498b1a8"
   },
   "outputs": [
    {
     "name": "stdout",
     "output_type": "stream",
     "text": [
      "- User name: @theashoxford\n",
      "- User sentiment: Positive\n",
      "- Recomendations by similar users:\n",
      "\t - Cast Away (2000) : ( Adventure|Drama|Romance ):  1\n",
      "\t - The Irishman (2019) : ( Biography|Crime|Drama|History|Thriller ):  -1\n",
      "\t - Once Upon a Time ...in Hollywood (2019) : ( Comedy|Drama ):  0\n",
      "\t - Marriage Story (2019) : ( Comedy|Drama ):  0\n",
      "\t - The King (2019) : ( Biography|Drama|History|Romance|War ):  -1\n",
      "\t - The Two Popes (2019) : ( Biography|Comedy|Drama ):  0\n",
      "\t - A Perfect World (1993) : ( Crime|Drama|Thriller ):  -1\n",
      "\t - Jersey Girl (2004) : ( Comedy|Drama|Romance ):  1\n",
      "\t - My One and Only (2009) : ( Adventure|Biography|Comedy|Drama|Romance ):  1\n",
      "\t - Macbeth (2015) : ( Drama|History|War ):  -1\n",
      "\t - Amadeus (1984) : ( Biography|Drama|History|Music ):  0\n",
      "\t - Ard al-Khof (1999) : ( Thriller ):  -1\n",
      "\t - Hotel Rwanda (2004) : ( Biography|Drama|History|War ):  -1\n",
      "\t - Eat Pray Love (2010) : ( Drama|Romance ):  0\n",
      "\t - American Hustle (2013) : ( Crime|Drama ):  -1\n",
      "\t - Birdman (2014) : ( Comedy|Drama ):  0\n",
      "\t - Me and Earl and the Dying Girl (2015) : ( Comedy|Drama|Romance ):  1\n",
      "\t - Persepolis (2007) : ( Animation|Biography|Drama|History|War ):  -1\n",
      "\t - Me Before You (2016) : ( Drama|Romance ):  0\n",
      "\t - The Dressmaker (2015) : ( Comedy|Drama ):  0\n",
      "\t - A Hologram for the King (2016) : ( Comedy|Drama|Romance ):  1\n",
      "\t - Septembers of Shiraz (2015) : ( Thriller ):  -1\n",
      "\t - Lady Bird (2017) : ( Comedy|Drama ):  0\n",
      "\t - Silver Linings Playbook (2012) : ( Comedy|Drama|Romance ):  1\n",
      "\t - Captain Phillips (2013) : ( Biography|Drama|Thriller ):  -1\n",
      "\t - Crazy, Stupid, Love. (2011) : ( Comedy|Drama|Romance ):  1\n",
      "\t - 12 Years a Slave (2013) : ( Biography|Drama|History ):  -1\n",
      "\t - Nightcrawler (2014) : ( Crime|Drama|Thriller ):  -1\n",
      "\t - On the Waterfront (1954) : ( Crime|Drama|Thriller ):  -1\n",
      "\t - Annie Hall (1977) : ( Comedy|Romance ):  1\n",
      "\t - When Harry Met Sally... (1989) : ( Comedy|Drama|Romance ):  1\n",
      "\t - La vita è bella (1997) : ( Comedy|Drama|Romance|War ):  0\n",
      "\t - Lincoln (2012) : ( Biography|Drama|History|War ):  -1\n",
      "\t - The Master (2012) : ( Drama ):  -1\n",
      "\t - Predestination (2014) : ( Drama|Mystery|Sci-Fi|Thriller ):  -1\n",
      "- Recomendations by users and genre sentiment:\n",
      "\t - Cast Away (2000)\n",
      "\t - Once Upon a Time ...in Hollywood (2019)\n",
      "\t - Marriage Story (2019)\n",
      "\t - The Two Popes (2019)\n",
      "\t - Jersey Girl (2004)\n",
      "\t - My One and Only (2009)\n",
      "\t - Amadeus (1984)\n",
      "\t - Eat Pray Love (2010)\n",
      "\t - Birdman (2014)\n",
      "\t - Me and Earl and the Dying Girl (2015)\n",
      "\t - Me Before You (2016)\n",
      "\t - The Dressmaker (2015)\n",
      "\t - A Hologram for the King (2016)\n",
      "\t - Lady Bird (2017)\n",
      "\t - Silver Linings Playbook (2012)\n",
      "\t - Crazy, Stupid, Love. (2011)\n",
      "\t - Annie Hall (1977)\n",
      "\t - When Harry Met Sally... (1989)\n",
      "\t - La vita è bella (1997)\n"
     ]
    }
   ],
   "source": [
    "user_id = '5'\n",
    "\n",
    "## Analisis de sentimiento\n",
    "user, sentiment = sentiment_from_tweets(user_id, 10)\n",
    "\n",
    "## Recomendador de pelis\n",
    "movie_list, movie_titles, movie_genres = movie_recommender(user_id, 7)\n",
    "\n",
    "## Sentimiento de peliculas (por generos)\n",
    "movie_genre_sentiment = filter_genres_sentiment(movie_genres, sentimiento_generos)\n",
    "\n",
    "print('- User name: @{}'.format(user))\n",
    "if sentiment == 1:\n",
    "  print('- User sentiment: {}'.format('Positive'))\n",
    "else:\n",
    "  print('- User sentiment: {}'.format('Negative'))\n",
    "\n",
    "print('- Recomendations by similar users:')\n",
    "for i in range(len(movie_titles)):\n",
    "  print('\\t -', movie_titles[i], \": (\", movie_genres[i], \"): \", movie_genre_sentiment[i])\n",
    "\n",
    "print('- Recomendations by users and genre sentiment:')\n",
    "recomendations = []\n",
    "for i in range(len(movie_titles)):\n",
    "  if movie_genre_sentiment[i] == sentiment or movie_genre_sentiment[i] == 0:\n",
    "    recomendations.append(movie_titles[i])\n",
    "\n",
    "for i in recomendations:\n",
    "  print('\\t -', i)"
   ]
  },
  {
   "cell_type": "markdown",
   "metadata": {
    "id": "oh9xu5P4hEV4"
   },
   "source": [
    "- **Enfoque \"experimental\"**:\n",
    "> En este enfoque probaremos a clasificar a las peliculas no por sus géneros, si no por el sentimiento que la red neuronal infiera de su sinopsis    \n",
    ">\n",
    "> Para acceder a la sinopsis de una pelicula necesitaremos hacer uso de la API de IMDb, mediante la biblioteca [IMDbpy](https://github.com/alberanid/imdbpy).\n",
    ">  \n",
    "> - Usando la API podremos conseguir la sinopsis de una pelicula usando el id correspondiente de la pelicula en nuestro dataset"
   ]
  },
  {
   "cell_type": "code",
   "execution_count": 33,
   "metadata": {
    "colab": {
     "base_uri": "https://localhost:8080/"
    },
    "id": "XE7Uk1_GinXW",
    "outputId": "ac5cfe7b-06b9-41fd-faac-0840e778092a"
   },
   "outputs": [
    {
     "name": "stdout",
     "output_type": "stream",
     "text": [
      "Collecting git+https://github.com/alberanid/imdbpy\n",
      "  Cloning https://github.com/alberanid/imdbpy to /tmp/pip-req-build-hpfulupx\n",
      "  Running command git clone -q https://github.com/alberanid/imdbpy /tmp/pip-req-build-hpfulupx\n",
      "Requirement already satisfied: SQLAlchemy in /usr/local/lib/python3.7/dist-packages (from IMDbPY==2021.5.21) (1.4.15)\n",
      "Requirement already satisfied: lxml in /usr/local/lib/python3.7/dist-packages (from IMDbPY==2021.5.21) (4.2.6)\n",
      "Requirement already satisfied: importlib-metadata; python_version < \"3.8\" in /usr/local/lib/python3.7/dist-packages (from SQLAlchemy->IMDbPY==2021.5.21) (4.0.1)\n",
      "Requirement already satisfied: greenlet!=0.4.17; python_version >= \"3\" in /usr/local/lib/python3.7/dist-packages (from SQLAlchemy->IMDbPY==2021.5.21) (1.1.0)\n",
      "Requirement already satisfied: typing-extensions>=3.6.4; python_version < \"3.8\" in /usr/local/lib/python3.7/dist-packages (from importlib-metadata; python_version < \"3.8\"->SQLAlchemy->IMDbPY==2021.5.21) (3.7.4.3)\n",
      "Requirement already satisfied: zipp>=0.5 in /usr/local/lib/python3.7/dist-packages (from importlib-metadata; python_version < \"3.8\"->SQLAlchemy->IMDbPY==2021.5.21) (3.4.1)\n",
      "Building wheels for collected packages: IMDbPY\n",
      "  Building wheel for IMDbPY (setup.py) ... \u001b[?25l\u001b[?25hdone\n",
      "  Created wheel for IMDbPY: filename=IMDbPY-2021.5.21-cp37-none-any.whl size=299341 sha256=c99b6aff4d686be0dad22c2a43fda6a9e938d678daa5840d7376c37066f53cb7\n",
      "  Stored in directory: /tmp/pip-ephem-wheel-cache-hye7rao4/wheels/0f/09/61/190df5e0276765680540f1562f2abca80e725a7e48595e993f\n",
      "Successfully built IMDbPY\n",
      "Installing collected packages: IMDbPY\n",
      "Successfully installed IMDbPY-2021.5.21\n"
     ]
    }
   ],
   "source": [
    "## Instalamos el modulo imdbpy desde su repositorio\n",
    "!pip install git+https://github.com/alberanid/imdbpy"
   ]
  },
  {
   "cell_type": "code",
   "execution_count": 34,
   "metadata": {
    "id": "l3aisNJHinas"
   },
   "outputs": [],
   "source": [
    "from imdb import IMDb"
   ]
  },
  {
   "cell_type": "code",
   "execution_count": 69,
   "metadata": {
    "id": "avz2GqcFindW"
   },
   "outputs": [],
   "source": [
    "'''\n",
    "Funcion que recibe una lista de peliculas y un clasificador ya entrenado, \n",
    "recupera la sinopsis de cada pelicula mediante la API de IMDb y, usando el clasificador,\n",
    "analiza el sentimiento de cada sinopsis y asigna ese sentimiento a cada pelicula.\n",
    "Devuelve una lista con un sentimiento por pelicula.\n",
    "'''\n",
    "def filter_plot_sentiment(movie_list, model):\n",
    "  ia = IMDb() # API IMDb\n",
    "  movie_sentiment = []\n",
    "\n",
    "  for id in movie_list:\n",
    "    plot = []\n",
    "    try:\n",
    "      movie = ia.get_movie(id)\n",
    "      plot.append(movie.get('plot')[0])\n",
    "    except:\n",
    "      continue\n",
    "\n",
    "    sentiment = loaded_model.predict(plot)[0][0]\n",
    "    sentiment = 1 if sentiment >= 0.5 else -1\n",
    "\n",
    "    movie_sentiment.append(sentiment)\n",
    "\n",
    "  return movie_sentiment"
   ]
  },
  {
   "cell_type": "code",
   "execution_count": 76,
   "metadata": {
    "colab": {
     "base_uri": "https://localhost:8080/"
    },
    "id": "oGwKSu-1Lm1y",
    "outputId": "870cb1a2-318f-4f27-fac7-b1ee44bd6e20"
   },
   "outputs": [
    {
     "name": "stdout",
     "output_type": "stream",
     "text": [
      "- User name: @theashoxford\n",
      "- User sentiment: Positive\n",
      "- Recomendations by similar users:\n",
      "\t - Cast Away (2000) : ( Adventure|Drama|Romance ):  1\n",
      "\t - The Irishman (2019) : ( Biography|Crime|Drama|History|Thriller ):  1\n",
      "\t - Once Upon a Time ...in Hollywood (2019) : ( Comedy|Drama ):  1\n",
      "\t - Marriage Story (2019) : ( Comedy|Drama ):  1\n",
      "\t - The King (2019) : ( Biography|Drama|History|Romance|War ):  -1\n",
      "\t - The Two Popes (2019) : ( Biography|Comedy|Drama ):  1\n",
      "\t - A Perfect World (1993) : ( Crime|Drama|Thriller ):  -1\n",
      "\t - Jersey Girl (2004) : ( Comedy|Drama|Romance ):  1\n",
      "\t - My One and Only (2009) : ( Adventure|Biography|Comedy|Drama|Romance ):  -1\n",
      "\t - Macbeth (2015) : ( Drama|History|War ):  1\n",
      "\t - Amadeus (1984) : ( Biography|Drama|History|Music ):  -1\n",
      "\t - Ard al-Khof (1999) : ( Thriller ):  -1\n",
      "\t - Hotel Rwanda (2004) : ( Biography|Drama|History|War ):  -1\n",
      "\t - Eat Pray Love (2010) : ( Drama|Romance ):  -1\n",
      "\t - American Hustle (2013) : ( Crime|Drama ):  1\n",
      "\t - Birdman (2014) : ( Comedy|Drama ):  1\n",
      "\t - Me and Earl and the Dying Girl (2015) : ( Comedy|Drama|Romance ):  -1\n",
      "\t - Persepolis (2007) : ( Animation|Biography|Drama|History|War ):  1\n",
      "\t - Me Before You (2016) : ( Drama|Romance ):  1\n",
      "\t - The Dressmaker (2015) : ( Comedy|Drama ):  1\n",
      "\t - A Hologram for the King (2016) : ( Comedy|Drama|Romance ):  -1\n",
      "\t - Septembers of Shiraz (2015) : ( Thriller ):  -1\n",
      "\t - Lady Bird (2017) : ( Comedy|Drama ):  1\n",
      "\t - Silver Linings Playbook (2012) : ( Comedy|Drama|Romance ):  1\n",
      "\t - Captain Phillips (2013) : ( Biography|Drama|Thriller ):  1\n",
      "\t - Crazy, Stupid, Love. (2011) : ( Comedy|Drama|Romance ):  1\n",
      "\t - 12 Years a Slave (2013) : ( Biography|Drama|History ):  -1\n",
      "\t - Nightcrawler (2014) : ( Crime|Drama|Thriller ):  1\n",
      "\t - On the Waterfront (1954) : ( Crime|Drama|Thriller ):  1\n",
      "\t - Annie Hall (1977) : ( Comedy|Romance ):  1\n",
      "\t - When Harry Met Sally... (1989) : ( Comedy|Drama|Romance ):  -1\n",
      "\t - La vita è bella (1997) : ( Comedy|Drama|Romance|War ):  1\n",
      "\t - Lincoln (2012) : ( Biography|Drama|History|War ):  1\n",
      "\t - The Master (2012) : ( Drama ):  1\n",
      "\t - Predestination (2014) : ( Drama|Mystery|Sci-Fi|Thriller ):  1\n",
      "- Recomendations by users and plot sentiment:\n",
      "\t - Cast Away (2000)\n",
      "\t - The Irishman (2019)\n",
      "\t - Once Upon a Time ...in Hollywood (2019)\n",
      "\t - Marriage Story (2019)\n",
      "\t - The Two Popes (2019)\n",
      "\t - Jersey Girl (2004)\n",
      "\t - Macbeth (2015)\n",
      "\t - American Hustle (2013)\n",
      "\t - Birdman (2014)\n",
      "\t - Persepolis (2007)\n",
      "\t - Me Before You (2016)\n",
      "\t - The Dressmaker (2015)\n",
      "\t - Lady Bird (2017)\n",
      "\t - Silver Linings Playbook (2012)\n",
      "\t - Captain Phillips (2013)\n",
      "\t - Crazy, Stupid, Love. (2011)\n",
      "\t - Nightcrawler (2014)\n",
      "\t - On the Waterfront (1954)\n",
      "\t - Annie Hall (1977)\n",
      "\t - La vita è bella (1997)\n",
      "\t - Lincoln (2012)\n",
      "\t - The Master (2012)\n",
      "\t - Predestination (2014)\n"
     ]
    }
   ],
   "source": [
    "user_id = '5'\n",
    "\n",
    "## Analisis de sentimiento\n",
    "user, sentiment = sentiment_from_tweets(user_id, 10)\n",
    "\n",
    "## Recomendador de pelis\n",
    "movie_list, movie_titles, movie_genres = movie_recommender(user_id, 7)\n",
    "\n",
    "## Sentimiento de peliculas (por sinopsis)\n",
    "movie_plot_sentiment = filter_plot_sentiment(movie_list, loaded_model)\n",
    "\n",
    "print('- User name: @{}'.format(user))\n",
    "if sentiment == 1:\n",
    "  print('- User sentiment: {}'.format('Positive'))\n",
    "else:\n",
    "  print('- User sentiment: {}'.format('Negative'))\n",
    "\n",
    "print('- Recomendations by similar users:')\n",
    "for i in range(len(movie_titles)):\n",
    "  print('\\t -', movie_titles[i], \": (\", movie_genres[i], \"): \", movie_plot_sentiment[i])\n",
    "\n",
    "print('- Recomendations by users and plot sentiment:')\n",
    "recomendations = []\n",
    "for i in range(len(movie_titles)):\n",
    "  if movie_plot_sentiment[i] == sentiment:\n",
    "    recomendations.append(movie_titles[i])\n",
    "\n",
    "for i in recomendations:\n",
    "  print('\\t -', i)"
   ]
  },
  {
   "cell_type": "markdown",
   "metadata": {
    "id": "vkYylJr2xqhw"
   },
   "source": [
    "## 6. Recomendador final"
   ]
  },
  {
   "cell_type": "markdown",
   "metadata": {
    "id": "id8gm1mW1KMZ"
   },
   "source": [
    "- Con todo ya listo, podemos comenzar a recomendar peliculas\n",
    "- Introduciendo el id del usuario al que recomendar, se extraeran sus 10 ultimos tweets de los que se asignará un sentimiento al usuario (en base a la moda de los sentimientos de cada tweet), se buscarán usuarios con gustos similares y se devolverá una lista de peliculas vistas por los usuarios similares pero no por el principal. Finalmente, esta lista de películas se filtrará teniendo en cuenta el sentimiento del usuario y de cada pelicula (el sentimiento de las peliculas se analizará de las dos manera explicadas anteriormente)."
   ]
  },
  {
   "cell_type": "code",
   "execution_count": 75,
   "metadata": {
    "id": "TVIxtvDx4tGh"
   },
   "outputs": [],
   "source": [
    "def sistema_recomendador(user_id=None, max_recomendations=50, num_tweets=10, num_neighbors=7, \n",
    "                         genres_sentiment=sentimiento_generos, model=loaded_model, \n",
    "                         show_genres=False, show_sentiment=False):\n",
    "  if user_id == None:\n",
    "    user_id = input('User ID: ')\n",
    "\n",
    "  ## Analisis de sentimiento\n",
    "  user, sentiment = sentiment_from_tweets(user_id, num_tweets)\n",
    "  if user == None:\n",
    "    return\n",
    "\n",
    "  ## Recomendador de pelis\n",
    "  movie_list, movie_titles, movie_genres = movie_recommender(user_id, num_neighbors)\n",
    "\n",
    "  ## Sentimiento de peliculas (por generos)\n",
    "  movie_genre_sentiment = filter_genres_sentiment(movie_genres, genres_sentiment)\n",
    "\n",
    "  ## Sentimiento de peliculas (por sinopsis)\n",
    "  movie_plot_sentiment = filter_plot_sentiment(movie_list, model)\n",
    "\n",
    "\n",
    "  ## Mostrar resultados:\n",
    "  print('--------------------------------------------------------------')\n",
    "  print('- User name: @{}'.format(user))\n",
    "  if sentiment == 1:\n",
    "    print('- User sentiment: {}'.format('Positive'))\n",
    "  else:\n",
    "    print('- User sentiment: {}'.format('Negative'))\n",
    "\n",
    "  print('- Recomendations by similar users:')\n",
    "  for i in range(len(movie_titles[:max_recomendations])):\n",
    "    if show_genres and show_sentiment:\n",
    "      print('\\t -', movie_titles[i], \", GENRES: \", movie_genres[i], \", Genres Sentiment: \", movie_genre_sentiment[i], \", Plot Sentiment: \", movie_plot_sentiment[i])\n",
    "    elif show_genres:\n",
    "      print('\\t -', movie_titles[i], \": \", movie_genres[i])\n",
    "    elif show_sentiment:\n",
    "      print('\\t -', movie_titles[i], \", Genres Sentiment: \", movie_genre_sentiment[i], \", Plot Sentiment: \", movie_plot_sentiment[i])\n",
    "    else:\n",
    "      print('\\t -', movie_titles[i])\n",
    "\n",
    "  print('- Recomendations by users and genre sentiment:')\n",
    "  recomendations1 = []\n",
    "  for i in range(len(movie_titles)):\n",
    "    if movie_genre_sentiment[i] == sentiment or movie_genre_sentiment[i] == 0:\n",
    "      recomendations1.append(movie_titles[i])\n",
    "  \n",
    "  if max_recomendations < len(recomendations1):\n",
    "    recomendations1 = random.sample(recomendations1, max_recomendations)\n",
    "\n",
    "  for i in recomendations1:\n",
    "    print('\\t -', i)\n",
    "\n",
    "  print('- Recomendations by users and plot sentiment:')\n",
    "  recomendations2 = []\n",
    "  for i in range(len(movie_titles)):\n",
    "    if movie_plot_sentiment[i] == sentiment:\n",
    "      recomendations2.append(movie_titles[i])\n",
    "  \n",
    "  if max_recomendations < len(recomendations2):\n",
    "    recomendations2 = random.sample(recomendations2, max_recomendations)\n",
    "\n",
    "  for i in recomendations2:\n",
    "    print('\\t -', i)\n",
    "\n",
    "  print('--------------------------------------------------------------\\n')"
   ]
  },
  {
   "cell_type": "code",
   "execution_count": 74,
   "metadata": {
    "colab": {
     "base_uri": "https://localhost:8080/"
    },
    "id": "BtqgdZQdeUvv",
    "outputId": "807b0b5d-653f-442d-f30f-50d9076a5f6d"
   },
   "outputs": [
    {
     "name": "stdout",
     "output_type": "stream",
     "text": [
      "--------------------------------------------------------------\n",
      "- User name: @Waffaboy\n",
      "- User sentiment: Positive\n",
      "- Recomendations by similar users:\n",
      "\t - The Purge: Election Year (2016)\n",
      "\t - The Colony (2013)\n",
      "\t - Lake Placid: Legacy (2018)\n",
      "- Recomendations by users and genre sentiment:\n",
      "\t - Lake Placid: Legacy (2018)\n",
      "\t - Cloverfield (2008)\n",
      "\t - The Purge: Election Year (2016)\n",
      "- Recomendations by users and plot sentiment:\n",
      "\t - Cloverfield (2008)\n",
      "\t - Morgan (2016)\n",
      "--------------------------------------------------------------\n",
      "\n"
     ]
    }
   ],
   "source": [
    "sistema_recomendador(user_id=1, max_recomendations=3)"
   ]
  },
  {
   "cell_type": "code",
   "execution_count": 40,
   "metadata": {
    "colab": {
     "base_uri": "https://localhost:8080/"
    },
    "id": "XWEWyybP5S7J",
    "outputId": "626f1407-715b-4c95-c3bc-4ca708d4dff3"
   },
   "outputs": [
    {
     "name": "stdout",
     "output_type": "stream",
     "text": [
      "User ID: 71\n",
      "--------------------------------------------------------------\n",
      "- User name: @best6789\n",
      "- User sentiment: Negative\n",
      "- Recomendations by similar users:\n",
      "\t - Man of Steel (2013)\n",
      "\t - Riddick (2013)\n",
      "\t - Escape from L.A. (1996)\n",
      "\t - Star Trek Into Darkness (2013)\n",
      "\t - The Purge (2013)\n",
      "\t - X: First Class (2011)\n",
      "\t - The Wolverine (2013)\n",
      "\t - The Conjuring (2013)\n",
      "\t - Texas Chainsaw 3D (2013)\n",
      "\t - Aftershock (2012)\n",
      "\t - G.I. Joe: Retaliation (2013)\n",
      "\t - Pacific Rim (2013)\n",
      "- Recomendations by users and genre sentiment:\n",
      "\t - The Purge (2013)\n",
      "\t - The Conjuring (2013)\n",
      "\t - Texas Chainsaw 3D (2013)\n",
      "\t - Aftershock (2012)\n",
      "- Recomendations by users and plot sentiment:\n",
      "\t - Riddick (2013)\n",
      "\t - Escape from L.A. (1996)\n",
      "\t - X: First Class (2011)\n",
      "\t - The Conjuring (2013)\n",
      "\t - Aftershock (2012)\n",
      "\t - G.I. Joe: Retaliation (2013)\n",
      "--------------------------------------------------------------\n",
      "\n"
     ]
    }
   ],
   "source": [
    "sistema_recomendador()"
   ]
  },
  {
   "cell_type": "code",
   "execution_count": null,
   "metadata": {
    "colab": {
     "base_uri": "https://localhost:8080/"
    },
    "id": "WuPtPdNVLbED",
    "outputId": "3856d2dd-eaea-4fc2-b941-36a3ec0d3dc8"
   },
   "outputs": [
    {
     "name": "stdout",
     "output_type": "stream",
     "text": [
      "ID:  1\n",
      "--------------------------------------------------------------\n",
      "- User name: @Waffaboy\n",
      "- User sentiment: Positive\n",
      "- Recomendations by similar users:\n",
      "\t - The Purge: Election Year (2016)\n",
      "\t - The Colony (2013)\n",
      "\t - Lake Placid: Legacy (2018)\n",
      "- Recomendations by users and genre sentiment:\n",
      "\t - Morgan (2016)\n",
      "\t - The Purge: Election Year (2016)\n",
      "\t - The Colony (2013)\n",
      "- Recomendations by users and plot sentiment:\n",
      "\t - Cloverfield (2008)\n",
      "\t - Morgan (2016)\n",
      "--------------------------------------------------------------\n",
      "\n",
      "ID:  10\n",
      "--------------------------------------------------------------\n",
      "- User name: @LSBPsupport\n",
      "- User sentiment: Positive\n",
      "- Recomendations by similar users:\n",
      "\t - Night Train to Lisbon (2013)\n",
      "\t - The Loft (2014)\n",
      "\t - Vertigo (1958)\n",
      "- Recomendations by users and genre sentiment:\n",
      "- Recomendations by users and plot sentiment:\n",
      "\t - Night Train to Lisbon (2013)\n",
      "\t - Vertigo (1958)\n",
      "--------------------------------------------------------------\n",
      "\n",
      "ID:  16\n",
      "--------------------------------------------------------------\n",
      "- User name: @JoePranaitis\n",
      "- User sentiment: Positive\n",
      "- Recomendations by similar users:\n",
      "\t - The Last Stand (2013)\n",
      "\t - American Assassin (2017)\n",
      "\t - A Good Day to Die Hard (2013)\n",
      "- Recomendations by users and genre sentiment:\n",
      "\t - A Good Day to Die Hard (2013)\n",
      "\t - 6 Underground (2019)\n",
      "\t - The Last Stand (2013)\n",
      "- Recomendations by users and plot sentiment:\n",
      "\t - The Last Stand (2013)\n",
      "\t - American Assassin (2017)\n",
      "\t - 6 Underground (2019)\n",
      "--------------------------------------------------------------\n",
      "\n",
      "ID:  19\n",
      "--------------------------------------------------------------\n",
      "- User name: @ckerr84\n",
      "- User sentiment: Positive\n",
      "- Recomendations by similar users:\n",
      "\t - Nocturnal Animals (2016)\n",
      "\t - Temptation: Confessions of a Marriage Counselor (2013)\n",
      "\t - Kokuhaku (2010)\n",
      "- Recomendations by users and genre sentiment:\n",
      "- Recomendations by users and plot sentiment:\n",
      "\t - Nocturnal Animals (2016)\n",
      "\t - Kokuhaku (2010)\n",
      "\t - Miss Sloane (2016)\n",
      "--------------------------------------------------------------\n",
      "\n",
      "ID:  21\n",
      "--------------------------------------------------------------\n",
      "- User name: @AbdullahFarhad\n",
      "- User sentiment: Positive\n",
      "- Recomendations by similar users:\n",
      "\t - Forrest Gump (1994)\n",
      "\t - Brooklyn (2015)\n",
      "\t - Extraction (2020)\n",
      "- Recomendations by users and genre sentiment:\n",
      "\t - The Gentlemen (2019)\n",
      "\t - El Camino: A Breaking Bad Movie (2019)\n",
      "\t - Wonder Boys (2000)\n",
      "- Recomendations by users and plot sentiment:\n",
      "\t - Brooklyn (2015)\n",
      "\t - The Reunion (2011)\n",
      "\t - Before We Go (2014)\n",
      "--------------------------------------------------------------\n",
      "\n",
      "ID:  23\n",
      "--------------------------------------------------------------\n",
      "- User name: @julesrlavin\n",
      "- User sentiment: Positive\n",
      "- Recomendations by similar users:\n",
      "\t - Vaiana (2016)\n",
      "\t - Life (2017)\n",
      "\t - Love, Rosie (2014)\n",
      "- Recomendations by users and genre sentiment:\n",
      "\t - Kingsman: The Secret Service (2014)\n",
      "\t - Who Framed Roger Rabbit (1988)\n",
      "\t - Home (2015)\n",
      "- Recomendations by users and plot sentiment:\n",
      "\t - Toy Story 4 (2019)\n",
      "\t - Kingsman: The Secret Service (2014)\n",
      "\t - Home (2015)\n",
      "--------------------------------------------------------------\n",
      "\n",
      "ID:  24\n",
      "--------------------------------------------------------------\n",
      "- User name: @vlush\n",
      "- User sentiment: Positive\n",
      "- Recomendations by similar users:\n",
      "\t - Mission: Impossible - Rogue Nation (2015)\n",
      "\t - Salt (2010)\n",
      "\t - Fast & Furious 6 (2013)\n",
      "- Recomendations by users and genre sentiment:\n",
      "\t - Mission: Impossible - Rogue Nation (2015)\n",
      "\t - Fast & Furious 6 (2013)\n",
      "- Recomendations by users and plot sentiment:\n",
      "\t - Salt (2010)\n",
      "\t - Non-Stop (2014)\n",
      "--------------------------------------------------------------\n",
      "\n",
      "ID:  25\n",
      "--------------------------------------------------------------\n",
      "- User name: @MondayPewPew\n",
      "- User sentiment: Positive\n",
      "- Recomendations by similar users:\n",
      "\t - Jurassic World (2015)\n",
      "\t - Mad Max: Fury Road (2015)\n",
      "\t - The Revenant (2015)\n",
      "- Recomendations by users and genre sentiment:\n",
      "\t - Ted 2 (2015)\n",
      "\t - Fast & Furious 6 (2013)\n",
      "\t - Batman Begins (2005)\n",
      "- Recomendations by users and plot sentiment:\n",
      "\t - Batman Begins (2005)\n",
      "\t - Ted 2 (2015)\n",
      "\t - Jurassic World (2015)\n",
      "--------------------------------------------------------------\n",
      "\n",
      "ID:  89\n",
      "--------------------------------------------------------------\n",
      "- User name: @WRCretrocorner\n",
      "- User sentiment: Positive\n",
      "- Recomendations by similar users:\n",
      "\t - Once Upon a Time ...in Hollywood (2019)\n",
      "\t - Joker (2019)\n",
      "\t - Marriage Story (2019)\n",
      "- Recomendations by users and genre sentiment:\n",
      "\t - Birds of Prey: And the Fantabulous Emancipation of One Harley Quinn (2020)\n",
      "\t - The Art of Racing in the Rain (2019)\n",
      "\t - Dawn of the Planet of the Apes (2014)\n",
      "- Recomendations by users and plot sentiment:\n",
      "\t - LUV (2012)\n",
      "\t - The Gentlemen (2019)\n",
      "\t - Hunt for the Wilderpeople (2016)\n",
      "--------------------------------------------------------------\n",
      "\n",
      "ID:  97\n",
      "--------------------------------------------------------------\n",
      "- User name: @NeilSchloth\n",
      "- User sentiment: Positive\n",
      "- Recomendations by similar users:\n",
      "\t - Captain America: The First Avenger (2011)\n",
      "\t - Thor (2011)\n",
      "\t - The Avengers (2012)\n",
      "- Recomendations by users and genre sentiment:\n",
      "\t - Ender's Game (2013)\n",
      "\t - Fantastic Four (2005)\n",
      "\t - The Avengers (2012)\n",
      "- Recomendations by users and plot sentiment:\n",
      "\t - Thor (2011)\n",
      "\t - Transformers: Age of Extinction (2014)\n",
      "\t - Rogue One (2016)\n",
      "--------------------------------------------------------------\n",
      "\n",
      "ID:  9\n",
      "--------------------------------------------------------------\n",
      "- User name: @fahadturky\n",
      "- User sentiment: Positive\n",
      "- Recomendations by similar users:\n",
      "\t - Forrest Gump (1994)\n",
      "\t - The Usual Suspects (1995)\n",
      "\t - My Best Friend's Wedding (1997)\n",
      "- Recomendations by users and genre sentiment:\n",
      "\t - My Best Friend's Wedding (1997)\n",
      "\t - Rush (2013)\n",
      "\t - One Piece: Stampede (2019)\n",
      "- Recomendations by users and plot sentiment:\n",
      "\t - Ready or Not (2019)\n",
      "\t - Captain Phillips (2013)\n",
      "\t - Rush (2013)\n",
      "--------------------------------------------------------------\n",
      "\n",
      "ID:  33\n",
      "--------------------------------------------------------------\n",
      "- User name: @bailey__blaise\n",
      "- User sentiment: Positive\n",
      "- Recomendations by similar users:\n",
      "\t - The Last Stand (2013)\n",
      "\t - American Assassin (2017)\n",
      "\t - A Good Day to Die Hard (2013)\n",
      "- Recomendations by users and genre sentiment:\n",
      "\t - American Assassin (2017)\n",
      "\t - Holiday (2014)\n",
      "\t - 6 Underground (2019)\n",
      "- Recomendations by users and plot sentiment:\n",
      "\t - The Last Stand (2013)\n",
      "\t - American Assassin (2017)\n",
      "\t - 6 Underground (2019)\n",
      "--------------------------------------------------------------\n",
      "\n",
      "ID:  35\n",
      "--------------------------------------------------------------\n",
      "- User name: @AlexCapel\n",
      "- User sentiment: Positive\n",
      "- Recomendations by similar users:\n",
      "\t - Captain America: The First Avenger (2011)\n",
      "\t - The Revenant (2015)\n",
      "\t - Captain America: The Winter Soldier (2014)\n",
      "- Recomendations by users and genre sentiment:\n",
      "\t - The Amazing Spider-Man (2012)\n",
      "\t - Ant-Man and the Wasp (2018)\n",
      "\t - Interstellar (2014)\n",
      "- Recomendations by users and plot sentiment:\n",
      "\t - Interstellar (2014)\n",
      "\t - Pitch Perfect 2 (2015)\n",
      "\t - G.O.R.A. (2004)\n",
      "--------------------------------------------------------------\n",
      "\n",
      "ID:  71\n",
      "--------------------------------------------------------------\n",
      "- User name: @best6789\n",
      "- User sentiment: Negative\n",
      "- Recomendations by similar users:\n",
      "\t - Man of Steel (2013)\n",
      "\t - Riddick (2013)\n",
      "\t - Escape from L.A. (1996)\n",
      "- Recomendations by users and genre sentiment:\n",
      "\t - Aftershock (2012)\n",
      "\t - The Conjuring (2013)\n",
      "\t - Texas Chainsaw 3D (2013)\n",
      "- Recomendations by users and plot sentiment:\n",
      "\t - G.I. Joe: Retaliation (2013)\n",
      "\t - Aftershock (2012)\n",
      "\t - Escape from L.A. (1996)\n",
      "--------------------------------------------------------------\n",
      "\n",
      "ID:  91\n",
      "--------------------------------------------------------------\n",
      "- User name: @ItsGaryC\n",
      "- User sentiment: Negative\n",
      "- Recomendations by similar users:\n",
      "\t - 12 Years a Slave (2013)\n",
      "\t - Schindler's List (1993)\n",
      "\t - Dark Waters (2019)\n",
      "- Recomendations by users and genre sentiment:\n",
      "\t - 12 Years a Slave (2013)\n",
      "\t - Schindler's List (1993)\n",
      "\t - Dark Waters (2019)\n",
      "- Recomendations by users and plot sentiment:\n",
      "\t - 12 Years a Slave (2013)\n",
      "--------------------------------------------------------------\n",
      "\n"
     ]
    }
   ],
   "source": [
    "for i in [1,10,16,19,21,23,24,25,89,97,9,33,35,71,91]:\n",
    "  print('ID: ', i)\n",
    "  sistema_recomendador(user_id=i, max_recomendations=3)"
   ]
  },
  {
   "cell_type": "code",
   "execution_count": null,
   "metadata": {
    "colab": {
     "base_uri": "https://localhost:8080/"
    },
    "id": "MDBkWL23H6vn",
    "outputId": "4297f52f-76fb-4bc3-cda3-571af1d49f5f"
   },
   "outputs": [
    {
     "name": "stdout",
     "output_type": "stream",
     "text": [
      "ID:  52773\n",
      "Not in english\n",
      "ID:  60689\n",
      "User not available\n",
      "ID:  25080\n",
      "\n",
      "--------------------------------------------------------------\n",
      "- User name: @ml_cfc1967\n",
      "- User sentiment: Positive\n",
      "- Recomendations by similar users:\n",
      "\t - The Cabin in the Woods (2011)\n",
      "\t - Evil Dead II (1987)\n",
      "\t - The Babysitter (2017)\n",
      "- Recomendations by users and genre sentiment:\n",
      "\t - Evil Dead II (1987)\n",
      "\t - The Babysitter (2017)\n",
      "\t - The Cabin in the Woods (2011)\n",
      "- Recomendations by users and plot sentiment:\n",
      "\t - The Cabin in the Woods (2011)\n",
      "\t - Evil Dead II (1987)\n",
      "\t - The Babysitter (2017)\n",
      "--------------------------------------------------------------\n",
      "\n",
      "ID:  5274\n",
      "Not in english\n",
      "ID:  57616\n",
      "\n",
      "--------------------------------------------------------------\n",
      "- User name: @jessejoeaz\n",
      "- User sentiment: Positive\n",
      "- Recomendations by similar users:\n",
      "\t - The Way (2010)\n",
      "\t - Y tu mamá también (2001)\n",
      "\t - Chef (2014)\n",
      "- Recomendations by users and genre sentiment:\n",
      "\t - The Way (2010)\n",
      "\t - Chef (2014)\n",
      "\t - Hunt for the Wilderpeople (2016)\n",
      "- Recomendations by users and plot sentiment:\n",
      "\t - Y tu mamá también (2001)\n",
      "\t - Chef (2014)\n",
      "\t - Hunt for the Wilderpeople (2016)\n",
      "--------------------------------------------------------------\n",
      "\n"
     ]
    }
   ],
   "source": [
    "for i in np.random.randint(1, len(users_ds), 5):\n",
    "  print('ID: ', i)\n",
    "  sistema_recomendador(user_id=i, max_recomendations=3)"
   ]
  }
 ],
 "metadata": {
  "colab": {
   "collapsed_sections": [],
   "name": "Recomendador.ipynb",
   "provenance": []
  },
  "kernelspec": {
   "display_name": "Python 3",
   "language": "python",
   "name": "python3"
  },
  "language_info": {
   "codemirror_mode": {
    "name": "ipython",
    "version": 3
   },
   "file_extension": ".py",
   "mimetype": "text/x-python",
   "name": "python",
   "nbconvert_exporter": "python",
   "pygments_lexer": "ipython3",
   "version": "3.7.3"
  }
 },
 "nbformat": 4,
 "nbformat_minor": 4
}
