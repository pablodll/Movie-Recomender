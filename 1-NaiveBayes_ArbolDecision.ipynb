{
 "cells": [
  {
   "cell_type": "markdown",
   "metadata": {
    "id": "ecz8fhGgSSXO"
   },
   "source": [
    "# **Análisis de sentimiento-Naive Bayes + Árbol de decisión**\n",
    "### Proyecto minería de datos\n",
    "---\n",
    "##### Ela Katherine Shepherd Arévalo - Pablo Daurell Marina"
   ]
  },
  {
   "cell_type": "code",
   "execution_count": null,
   "metadata": {
    "colab": {
     "base_uri": "https://localhost:8080/"
    },
    "id": "M-hybX9ziqWA",
    "outputId": "e65c47de-2ae4-4bfd-e3f3-77bdc14cf6bd"
   },
   "outputs": [
    {
     "name": "stdout",
     "output_type": "stream",
     "text": [
      "Requirement already satisfied: nltk in /usr/local/lib/python3.7/dist-packages (3.2.5)\n",
      "Requirement already satisfied: six in /usr/local/lib/python3.7/dist-packages (from nltk) (1.15.0)\n"
     ]
    }
   ],
   "source": [
    "!pip install nltk"
   ]
  },
  {
   "cell_type": "code",
   "execution_count": null,
   "metadata": {
    "colab": {
     "base_uri": "https://localhost:8080/"
    },
    "id": "VIlas3ueTvtw",
    "outputId": "32cf0160-c658-4cba-8bbd-1bdea7f2d4d5"
   },
   "outputs": [
    {
     "name": "stdout",
     "output_type": "stream",
     "text": [
      "[nltk_data] Downloading package stopwords to /root/nltk_data...\n",
      "[nltk_data]   Unzipping corpora/stopwords.zip.\n",
      "[nltk_data] Downloading package wordnet to /root/nltk_data...\n",
      "[nltk_data]   Unzipping corpora/wordnet.zip.\n"
     ]
    },
    {
     "data": {
      "text/plain": [
       "True"
      ]
     },
     "execution_count": 2,
     "metadata": {
      "tags": []
     },
     "output_type": "execute_result"
    }
   ],
   "source": [
    "import matplotlib.pyplot as plt\n",
    "import pandas as pd\n",
    "import numpy as np\n",
    "import os\n",
    "import re\n",
    "import shutil\n",
    "import string\n",
    "import nltk\n",
    "from nltk.tokenize import word_tokenize\n",
    "from nltk.corpus import stopwords\n",
    "from nltk.stem.wordnet import WordNetLemmatizer\n",
    "from nltk.stem.porter import PorterStemmer\n",
    "from sklearn.feature_extraction.text import CountVectorizer\n",
    "from sklearn.feature_extraction.text import TfidfTransformer\n",
    "from nltk.tokenize import RegexpTokenizer\n",
    "from sklearn.model_selection import train_test_split\n",
    "from sklearn.naive_bayes import MultinomialNB\n",
    "from sklearn.naive_bayes import ComplementNB\n",
    "from sklearn.naive_bayes import BernoulliNB\n",
    "from sklearn.naive_bayes import GaussianNB\n",
    "from sklearn import metrics\n",
    "from sklearn.tree import DecisionTreeClassifier\n",
    "from sklearn.metrics import classification_report, confusion_matrix\n",
    "nltk.download('stopwords')\n",
    "nltk.download('wordnet')"
   ]
  },
  {
   "cell_type": "code",
   "execution_count": null,
   "metadata": {
    "colab": {
     "base_uri": "https://localhost:8080/"
    },
    "id": "59iQE3Y_UplM",
    "outputId": "fd5ac082-12d9-45ed-899f-b2521c2ebe5c"
   },
   "outputs": [
    {
     "name": "stdout",
     "output_type": "stream",
     "text": [
      "Mounted at /content/drive\n"
     ]
    }
   ],
   "source": [
    "from google.colab import drive\n",
    "drive.mount(\"/content/drive\")"
   ]
  },
  {
   "cell_type": "markdown",
   "metadata": {
    "id": "hU9OJiCNRmM5"
   },
   "source": [
    "- Extraemos el dataset que usaremos, con 1.6 millones de tweets ([Sentiment140 dataset](https://www.kaggle.com/kazanova/sentiment140)). Quitamos las columnas que no necesitamos, como la fecha o el user que escribió el tweet. "
   ]
  },
  {
   "cell_type": "code",
   "execution_count": null,
   "metadata": {
    "colab": {
     "base_uri": "https://localhost:8080/",
     "height": 491
    },
    "id": "2one3jHrTot4",
    "outputId": "1759e069-e3e3-403d-a8b3-41d8544db527"
   },
   "outputs": [
    {
     "data": {
      "text/html": [
       "<div>\n",
       "<style scoped>\n",
       "    .dataframe tbody tr th:only-of-type {\n",
       "        vertical-align: middle;\n",
       "    }\n",
       "\n",
       "    .dataframe tbody tr th {\n",
       "        vertical-align: top;\n",
       "    }\n",
       "\n",
       "    .dataframe thead th {\n",
       "        text-align: right;\n",
       "    }\n",
       "</style>\n",
       "<table border=\"1\" class=\"dataframe\">\n",
       "  <thead>\n",
       "    <tr style=\"text-align: right;\">\n",
       "      <th></th>\n",
       "      <th>sentiment</th>\n",
       "      <th>date</th>\n",
       "      <th>text</th>\n",
       "    </tr>\n",
       "  </thead>\n",
       "  <tbody>\n",
       "    <tr>\n",
       "      <th>0</th>\n",
       "      <td>0</td>\n",
       "      <td>Mon Apr 06 22:19:45 PDT 2009</td>\n",
       "      <td>@switchfoot http://twitpic.com/2y1zl - Awww, t...</td>\n",
       "    </tr>\n",
       "    <tr>\n",
       "      <th>1</th>\n",
       "      <td>0</td>\n",
       "      <td>Mon Apr 06 22:19:49 PDT 2009</td>\n",
       "      <td>is upset that he can't update his Facebook by ...</td>\n",
       "    </tr>\n",
       "    <tr>\n",
       "      <th>2</th>\n",
       "      <td>0</td>\n",
       "      <td>Mon Apr 06 22:19:53 PDT 2009</td>\n",
       "      <td>@Kenichan I dived many times for the ball. Man...</td>\n",
       "    </tr>\n",
       "    <tr>\n",
       "      <th>3</th>\n",
       "      <td>0</td>\n",
       "      <td>Mon Apr 06 22:19:57 PDT 2009</td>\n",
       "      <td>my whole body feels itchy and like its on fire</td>\n",
       "    </tr>\n",
       "    <tr>\n",
       "      <th>4</th>\n",
       "      <td>0</td>\n",
       "      <td>Mon Apr 06 22:19:57 PDT 2009</td>\n",
       "      <td>@nationwideclass no, it's not behaving at all....</td>\n",
       "    </tr>\n",
       "    <tr>\n",
       "      <th>5</th>\n",
       "      <td>0</td>\n",
       "      <td>Mon Apr 06 22:20:00 PDT 2009</td>\n",
       "      <td>@Kwesidei not the whole crew</td>\n",
       "    </tr>\n",
       "    <tr>\n",
       "      <th>6</th>\n",
       "      <td>0</td>\n",
       "      <td>Mon Apr 06 22:20:03 PDT 2009</td>\n",
       "      <td>Need a hug</td>\n",
       "    </tr>\n",
       "    <tr>\n",
       "      <th>7</th>\n",
       "      <td>0</td>\n",
       "      <td>Mon Apr 06 22:20:03 PDT 2009</td>\n",
       "      <td>@LOLTrish hey  long time no see! Yes.. Rains a...</td>\n",
       "    </tr>\n",
       "    <tr>\n",
       "      <th>8</th>\n",
       "      <td>0</td>\n",
       "      <td>Mon Apr 06 22:20:05 PDT 2009</td>\n",
       "      <td>@Tatiana_K nope they didn't have it</td>\n",
       "    </tr>\n",
       "    <tr>\n",
       "      <th>9</th>\n",
       "      <td>0</td>\n",
       "      <td>Mon Apr 06 22:20:09 PDT 2009</td>\n",
       "      <td>@twittera que me muera ?</td>\n",
       "    </tr>\n",
       "    <tr>\n",
       "      <th>10</th>\n",
       "      <td>0</td>\n",
       "      <td>Mon Apr 06 22:20:16 PDT 2009</td>\n",
       "      <td>spring break in plain city... it's snowing</td>\n",
       "    </tr>\n",
       "    <tr>\n",
       "      <th>11</th>\n",
       "      <td>0</td>\n",
       "      <td>Mon Apr 06 22:20:17 PDT 2009</td>\n",
       "      <td>I just re-pierced my ears</td>\n",
       "    </tr>\n",
       "    <tr>\n",
       "      <th>12</th>\n",
       "      <td>0</td>\n",
       "      <td>Mon Apr 06 22:20:19 PDT 2009</td>\n",
       "      <td>@caregiving I couldn't bear to watch it.  And ...</td>\n",
       "    </tr>\n",
       "    <tr>\n",
       "      <th>13</th>\n",
       "      <td>0</td>\n",
       "      <td>Mon Apr 06 22:20:19 PDT 2009</td>\n",
       "      <td>@octolinz16 It it counts, idk why I did either...</td>\n",
       "    </tr>\n",
       "    <tr>\n",
       "      <th>14</th>\n",
       "      <td>0</td>\n",
       "      <td>Mon Apr 06 22:20:20 PDT 2009</td>\n",
       "      <td>@smarrison i would've been the first, but i di...</td>\n",
       "    </tr>\n",
       "  </tbody>\n",
       "</table>\n",
       "</div>"
      ],
      "text/plain": [
       "    sentiment  ...                                               text\n",
       "0           0  ...  @switchfoot http://twitpic.com/2y1zl - Awww, t...\n",
       "1           0  ...  is upset that he can't update his Facebook by ...\n",
       "2           0  ...  @Kenichan I dived many times for the ball. Man...\n",
       "3           0  ...    my whole body feels itchy and like its on fire \n",
       "4           0  ...  @nationwideclass no, it's not behaving at all....\n",
       "5           0  ...                      @Kwesidei not the whole crew \n",
       "6           0  ...                                        Need a hug \n",
       "7           0  ...  @LOLTrish hey  long time no see! Yes.. Rains a...\n",
       "8           0  ...               @Tatiana_K nope they didn't have it \n",
       "9           0  ...                          @twittera que me muera ? \n",
       "10          0  ...        spring break in plain city... it's snowing \n",
       "11          0  ...                         I just re-pierced my ears \n",
       "12          0  ...  @caregiving I couldn't bear to watch it.  And ...\n",
       "13          0  ...  @octolinz16 It it counts, idk why I did either...\n",
       "14          0  ...  @smarrison i would've been the first, but i di...\n",
       "\n",
       "[15 rows x 3 columns]"
      ]
     },
     "execution_count": 4,
     "metadata": {
      "tags": []
     },
     "output_type": "execute_result"
    }
   ],
   "source": [
    "file = \"/content/drive/MyDrive/Mineria/sentiment140.csv\"\n",
    "data = pd.read_csv(file, encoding='latin', names=['sentiment','id','date','query','user','text'])\n",
    "data = data.drop(columns=['query', 'user', 'id'])\n",
    "data[:15]"
   ]
  },
  {
   "cell_type": "markdown",
   "metadata": {
    "id": "pGxnHrQBR7be"
   },
   "source": [
    "#1. Preprocesado del texto"
   ]
  },
  {
   "cell_type": "markdown",
   "metadata": {
    "id": "fysIzWbSCvCT"
   },
   "source": [
    "- Quitamos los links y menciones a otros usuarios de los tweets (con la forma *@usuario*)"
   ]
  },
  {
   "cell_type": "code",
   "execution_count": null,
   "metadata": {
    "id": "BJptg-4fJvS5"
   },
   "outputs": [],
   "source": [
    "tweets_text = data['text']\n",
    "tweets_clean = []\n",
    "for tweet in tweets_text:\n",
    "  t= str.lower(re.sub(\"(@[A-Za-z0-9]+)|([^0-9A-Za-z \\t])|(\\w+:\\/\\/\\S+)|(www.\\S+)\", \" \", tweet))\n",
    "  tweets_clean.append(t)"
   ]
  },
  {
   "cell_type": "code",
   "execution_count": null,
   "metadata": {
    "colab": {
     "base_uri": "https://localhost:8080/"
    },
    "id": "Rdbew62VVHEZ",
    "outputId": "2a333611-8952-4958-a361-416d35436cf4"
   },
   "outputs": [
    {
     "data": {
      "text/plain": [
       "0    @switchfoot http://twitpic.com/2y1zl - Awww, t...\n",
       "1    is upset that he can't update his Facebook by ...\n",
       "2    @Kenichan I dived many times for the ball. Man...\n",
       "3      my whole body feels itchy and like its on fire \n",
       "4    @nationwideclass no, it's not behaving at all....\n",
       "Name: text, dtype: object"
      ]
     },
     "execution_count": 6,
     "metadata": {
      "tags": []
     },
     "output_type": "execute_result"
    }
   ],
   "source": [
    "tweets_text[:5]"
   ]
  },
  {
   "cell_type": "code",
   "execution_count": null,
   "metadata": {
    "colab": {
     "base_uri": "https://localhost:8080/"
    },
    "id": "EPt8seEgVG98",
    "outputId": "557d24c0-b8c1-48e1-e993-88f46db0051a"
   },
   "outputs": [
    {
     "data": {
      "text/plain": [
       "['      awww  that s a bummer   you shoulda got david carr of third day to do it   d',\n",
       " 'is upset that he can t update his facebook by texting it    and might cry as a result  school today also  blah ',\n",
       " '  i dived many times for the ball  managed to save 50   the rest go out of bounds',\n",
       " 'my whole body feels itchy and like its on fire ',\n",
       " '  no  it s not behaving at all  i m mad  why am i here  because i can t see you all over there  ']"
      ]
     },
     "execution_count": 7,
     "metadata": {
      "tags": []
     },
     "output_type": "execute_result"
    }
   ],
   "source": [
    "tweets_clean[:5]"
   ]
  },
  {
   "cell_type": "markdown",
   "metadata": {
    "id": "b8ok_HhNndgM"
   },
   "source": [
    "- Comprobamos cuántos tweets con cada sentimiento hay: En este dataset, el valor 0 es para un sentimiento negativo, y 4 es para un sentimiento positivo. Para que quede más claro, usamos el 1 para indicar sentimiento positivo Hay 800000 tweets de cada clase.\n",
    "\n"
   ]
  },
  {
   "cell_type": "code",
   "execution_count": null,
   "metadata": {
    "colab": {
     "base_uri": "https://localhost:8080/"
    },
    "id": "E1HGoLjkk2hd",
    "outputId": "20945825-1803-437b-a443-5dd5942ce2fe"
   },
   "outputs": [
    {
     "data": {
      "text/plain": [
       "1    800000\n",
       "0    800000\n",
       "Name: sentiment, dtype: int64"
      ]
     },
     "execution_count": 8,
     "metadata": {
      "tags": []
     },
     "output_type": "execute_result"
    }
   ],
   "source": [
    "tweets_sentiment = data['sentiment'].replace(4, 1)\n",
    "tweets_sentiment.value_counts()"
   ]
  },
  {
   "cell_type": "markdown",
   "metadata": {
    "id": "Z2vDzw7u6ePV"
   },
   "source": [
    "#2. Bag of words\n",
    "\n",
    "- Lo primero que haremos será probar el modelo de la bolsa de palabras, o “bag of words”, usando el algoritmo CountVectorizer de Scikit Learn\n",
    "- Este método tokenizará cada palabra y conviertirá cada tweet en un vector numérico con el número de ocurrencias de cada palabra. \n",
    "  - Para el tokenizador usamos la librería NLTK. Además, realizaremos varias pruebas, para ver la mejor forma de usar este modelo.\n"
   ]
  },
  {
   "cell_type": "markdown",
   "metadata": {
    "id": "WqfcgWo4O_Bw"
   },
   "source": [
    "- En todas estas pruebas, existirá un factor común de preprocesamiento:\n",
    "> - En las stop words quitaremos las palabras que signalicen negación, como \"no\" y \"not\". Las stopwords son un conjunto de palabras, que, si se eliminan de una frase, no suelen quitarle el significado original.\n",
    "> - Hacemos una división de **train y test** de los datos, donde usamos un 70% de los datos para train y el 30% restante para test.\n",
    " "
   ]
  },
  {
   "cell_type": "code",
   "execution_count": null,
   "metadata": {
    "id": "R-kxqMe32qUz"
   },
   "outputs": [],
   "source": [
    "token = RegexpTokenizer(r'[a-zA-Z0-9]+')\n",
    "stop_words = set(stopwords.words('english'))\n",
    "stop_words.remove('no')\n",
    "stop_words.remove('nor')\n",
    "stop_words.remove('not')"
   ]
  },
  {
   "cell_type": "code",
   "execution_count": null,
   "metadata": {
    "id": "_tEGaWImAvOn"
   },
   "outputs": [],
   "source": [
    "train_data, test_data, train_label, test_label = train_test_split(tweets_clean, tweets_sentiment, test_size=0.30, stratify=tweets_sentiment, random_state=1)"
   ]
  },
  {
   "cell_type": "markdown",
   "metadata": {
    "id": "JcvI7yqlx5sC"
   },
   "source": [
    "##2.1 Monogramas VS Bigramas\n",
    "\n",
    "- Cuando hablamos de n-gramas, un n-grama es una cadena de n palabras seguidas, y al definir este parámetro, indicamos el tamaño de n-grama que queremos incluir para el análisis. Los 1-gramas también se llaman monogramas; y los 2-gramas se llaman bigramas.\n",
    "  - Usando monogramas, cada elemento de la bolsa de palabras corresponderá con una palabra del vocabulario (En este caso solo nos centramos en la probabilidad de que aparezcan palabras sueltas)\n",
    "  - Usando bigramas, cada elemento corresponderá con dos palabras del vocabulario (En ese caso nos centramos, no solo en la probabilidad de que aparezca una palabra, si no también en la probabilidad de que aparezcan dos palabras juntas) "
   ]
  },
  {
   "cell_type": "markdown",
   "metadata": {
    "id": "DD9VOs5U5Nwb"
   },
   "source": [
    "- Vamos a hacer una comparación sobre el rango de los n-gramas que se van a extraer. Primero, solamente usaremos monogramas:"
   ]
  },
  {
   "cell_type": "code",
   "execution_count": null,
   "metadata": {
    "id": "MR8Gp9tbAvmK"
   },
   "outputs": [],
   "source": [
    "cv_vectorizer_11 = CountVectorizer(stop_words=stop_words,ngram_range = (1,1),tokenizer = token.tokenize)\n",
    "cv_vector_traindata_11= cv_vectorizer_11.fit_transform(train_data)"
   ]
  },
  {
   "cell_type": "code",
   "execution_count": null,
   "metadata": {
    "colab": {
     "base_uri": "https://localhost:8080/"
    },
    "id": "3mSaXnzX2qU3",
    "outputId": "8a2c58e8-f529-416a-f027-a4384e7e824e"
   },
   "outputs": [
    {
     "name": "stdout",
     "output_type": "stream",
     "text": [
      "Multinomial Naive Bayes, bag of words, train success rate: 80.18491071428572 %\n",
      "Multinomial Naive Bayes, bag of words, test success rate: 77.17625 %\n"
     ]
    }
   ],
   "source": [
    "cv_mnb_classifier = MultinomialNB()\n",
    "cv_mnb_classifier.fit(cv_vector_traindata_11, train_label)\n",
    "\n",
    "cv_vector_testdata_11 = cv_vectorizer_11.transform(test_data)\n",
    "cv_predictions_test_11 = cv_mnb_classifier.predict(cv_vector_testdata_11)\n",
    "cv_predictions_train_11 = cv_mnb_classifier.predict(cv_vector_traindata_11)\n",
    "\n",
    "print(\"Multinomial Naive Bayes, bag of words, train success rate:\", np.mean(cv_predictions_train_11 == train_label)*100, \"%\")\n",
    "print(\"Multinomial Naive Bayes, bag of words, test success rate:\", np.mean(cv_predictions_test_11 == test_label)*100, \"%\")"
   ]
  },
  {
   "cell_type": "code",
   "execution_count": null,
   "metadata": {
    "colab": {
     "base_uri": "https://localhost:8080/"
    },
    "id": "gjQBBfNB2qU5",
    "outputId": "842846b3-b86d-4933-a199-bd6375ce1577"
   },
   "outputs": [
    {
     "name": "stdout",
     "output_type": "stream",
     "text": [
      "              precision    recall  f1-score   support\n",
      "\n",
      "    negative       0.76      0.79      0.78    240000\n",
      "    positive       0.78      0.75      0.77    240000\n",
      "\n",
      "    accuracy                           0.77    480000\n",
      "   macro avg       0.77      0.77      0.77    480000\n",
      "weighted avg       0.77      0.77      0.77    480000\n",
      "\n"
     ]
    }
   ],
   "source": [
    "print(classification_report(test_label, cv_predictions_test_11, target_names=['negative', 'positive']))"
   ]
  },
  {
   "cell_type": "markdown",
   "metadata": {
    "id": "I-EJUuJr2rYX"
   },
   "source": [
    "--------------------------------------------------------------------------\n",
    "- En segundo lugar, probaremos a usar monogramas y bigramas"
   ]
  },
  {
   "cell_type": "code",
   "execution_count": null,
   "metadata": {
    "id": "Tp6TkkEb2s0T"
   },
   "outputs": [],
   "source": [
    "cv_vectorizer_12 = CountVectorizer(stop_words=stop_words,ngram_range = (1,2),tokenizer = token.tokenize)\n",
    "cv_vector_traindata_12= cv_vectorizer_12.fit_transform(train_data)"
   ]
  },
  {
   "cell_type": "code",
   "execution_count": null,
   "metadata": {
    "colab": {
     "base_uri": "https://localhost:8080/"
    },
    "id": "sFUTV0uf2s0U",
    "outputId": "86cb2748-f524-4eaf-82f3-fa465d24f9ed"
   },
   "outputs": [
    {
     "name": "stdout",
     "output_type": "stream",
     "text": [
      "Multinomial Naive Bayes, bag of words, train success rate: 91.73330357142856 %\n",
      "Multinomial Naive Bayes, bag of words, test success rate: 78.30437500000001 %\n"
     ]
    }
   ],
   "source": [
    "cv_mnb_classifier.fit(cv_vector_traindata_12, train_label)\n",
    "\n",
    "cv_vector_testdata_12 = cv_vectorizer_12.transform(test_data)\n",
    "cv_predictions_test_12 = cv_mnb_classifier.predict(cv_vector_testdata_12)\n",
    "cv_predictions_train_12 = cv_mnb_classifier.predict(cv_vector_traindata_12)\n",
    "\n",
    "print(\"Multinomial Naive Bayes, bag of words, train success rate:\", np.mean(cv_predictions_train_12 == train_label)*100, \"%\")\n",
    "print(\"Multinomial Naive Bayes, bag of words, test success rate:\", np.mean(cv_predictions_test_12 == test_label)*100, \"%\")"
   ]
  },
  {
   "cell_type": "code",
   "execution_count": null,
   "metadata": {
    "colab": {
     "base_uri": "https://localhost:8080/"
    },
    "id": "G_MHCr-72s0V",
    "outputId": "6be52974-16f5-43b0-8535-303c5ff5edd1"
   },
   "outputs": [
    {
     "name": "stdout",
     "output_type": "stream",
     "text": [
      "              precision    recall  f1-score   support\n",
      "\n",
      "    negative       0.77      0.81      0.79    240000\n",
      "    positive       0.80      0.75      0.78    240000\n",
      "\n",
      "    accuracy                           0.78    480000\n",
      "   macro avg       0.78      0.78      0.78    480000\n",
      "weighted avg       0.78      0.78      0.78    480000\n",
      "\n"
     ]
    }
   ],
   "source": [
    "print(classification_report(test_label, cv_predictions_test_12, target_names=['negative', 'positive']))"
   ]
  },
  {
   "cell_type": "markdown",
   "metadata": {
    "id": "-nUr-pJJ3AGe"
   },
   "source": [
    "--------------------------------------------------------------------------------\n",
    "- Por último, probaremos estrictamente bigramas"
   ]
  },
  {
   "cell_type": "code",
   "execution_count": null,
   "metadata": {
    "id": "6vH6okD66sV_"
   },
   "outputs": [],
   "source": [
    "cv_vectorizer_22 = CountVectorizer(stop_words=stop_words,ngram_range = (2,2),tokenizer = token.tokenize)\n",
    "cv_vector_traindata_22= cv_vectorizer_22.fit_transform(train_data)"
   ]
  },
  {
   "cell_type": "code",
   "execution_count": null,
   "metadata": {
    "colab": {
     "base_uri": "https://localhost:8080/"
    },
    "id": "8qOUumtw6sWC",
    "outputId": "c22e7ab6-7a89-4e62-b5e4-af157a53e2a4"
   },
   "outputs": [
    {
     "name": "stdout",
     "output_type": "stream",
     "text": [
      "Multinomial Naive Bayes, bag of words, train success rate: 93.11241071428572 %\n",
      "Multinomial Naive Bayes, bag of words, test success rate: 72.67166666666667 %\n"
     ]
    }
   ],
   "source": [
    "cv_mnb_classifier.fit(cv_vector_traindata_22, train_label)\n",
    "\n",
    "cv_vector_testdata_22 = cv_vectorizer_22.transform(test_data)\n",
    "cv_predictions_test_22 = cv_mnb_classifier.predict(cv_vector_testdata_22)\n",
    "cv_predictions_train_22 = cv_mnb_classifier.predict(cv_vector_traindata_22)\n",
    "\n",
    "print(\"Multinomial Naive Bayes, bag of words, train success rate:\", np.mean(cv_predictions_train_22 == train_label)*100, \"%\")\n",
    "print(\"Multinomial Naive Bayes, bag of words, test success rate:\", np.mean(cv_predictions_test_22 == test_label)*100, \"%\")"
   ]
  },
  {
   "cell_type": "code",
   "execution_count": null,
   "metadata": {
    "colab": {
     "base_uri": "https://localhost:8080/"
    },
    "id": "0DT46KE66sWD",
    "outputId": "82b6dafe-0719-40ce-a2c0-c071b217ad7c"
   },
   "outputs": [
    {
     "name": "stdout",
     "output_type": "stream",
     "text": [
      "              precision    recall  f1-score   support\n",
      "\n",
      "    negative       0.70      0.80      0.75    240000\n",
      "    positive       0.77      0.65      0.71    240000\n",
      "\n",
      "    accuracy                           0.73    480000\n",
      "   macro avg       0.73      0.73      0.73    480000\n",
      "weighted avg       0.73      0.73      0.73    480000\n",
      "\n"
     ]
    }
   ],
   "source": [
    "print(classification_report(test_label, cv_predictions_test_22, target_names=['negative', 'positive']))"
   ]
  },
  {
   "cell_type": "markdown",
   "metadata": {
    "id": "Rkf1l1Ab8dbX"
   },
   "source": [
    "- Parece que la mejor opción es optar por un ngram_range = (1,2). Podemos ver que usar solamente bigramas es peor opción que las otras dos, porque sobreaprende en el train."
   ]
  },
  {
   "cell_type": "markdown",
   "metadata": {
    "id": "3seJ5WWbx-mL"
   },
   "source": [
    "##2.2 Stemming Vs Lemmatization"
   ]
  },
  {
   "cell_type": "markdown",
   "metadata": {
    "id": "CnheZsAgl4an"
   },
   "source": [
    "- A continuación, veremos qué preprocesado adicional será mejor. \n"
   ]
  },
  {
   "cell_type": "code",
   "execution_count": null,
   "metadata": {
    "id": "_Qe0Xpn3qKBG"
   },
   "outputs": [],
   "source": [
    "lem = WordNetLemmatizer()\n",
    "stem = PorterStemmer()\n",
    "lemmed_train = []\n",
    "stemmed_train = []\n",
    "lemmed_test = []\n",
    "stemmed_test = []\n",
    "\n",
    "for tweet in train_data:\n",
    "  lemmed_train.append(lem.lemmatize(tweet,\"v\"))\n",
    "  stemmed_train.append(stem.stem(tweet))\n",
    "\n",
    "for tweet in test_data:\n",
    "  lemmed_test.append(lem.lemmatize(tweet,\"v\"))\n",
    "  stemmed_test.append(stem.stem(tweet))"
   ]
  },
  {
   "cell_type": "markdown",
   "metadata": {
    "id": "7Wbwrhk1_nhM"
   },
   "source": [
    "- Primero probamos con la derivación/stemming, un proceso de normalización linguística donde una palabra se reduce a una raíz. La derivación ignora el contexto, y la raíz no tiene por qué ser una palabra real:"
   ]
  },
  {
   "cell_type": "code",
   "execution_count": null,
   "metadata": {
    "id": "w7KtSS7Q9AVD"
   },
   "outputs": [],
   "source": [
    "cv_vector_traindata_stem= cv_vectorizer_12.fit_transform(stemmed_train)"
   ]
  },
  {
   "cell_type": "code",
   "execution_count": null,
   "metadata": {
    "colab": {
     "base_uri": "https://localhost:8080/"
    },
    "id": "B6I1aEw49AVG",
    "outputId": "b25830fd-2a9b-4744-8245-9b0985801757"
   },
   "outputs": [
    {
     "name": "stdout",
     "output_type": "stream",
     "text": [
      "Multinomial Naive Bayes, bag of words, train success rate: 91.75383928571429 %\n",
      "Multinomial Naive Bayes, bag of words, test success rate: 78.31375 %\n"
     ]
    }
   ],
   "source": [
    "cv_mnb_classifier.fit(cv_vector_traindata_stem, train_label)\n",
    "\n",
    "cv_vector_testdata_stem = cv_vectorizer_12.transform(stemmed_test)\n",
    "cv_predictions_test_stem = cv_mnb_classifier.predict(cv_vector_testdata_stem)\n",
    "cv_predictions_train_stem = cv_mnb_classifier.predict(cv_vector_traindata_stem)\n",
    "\n",
    "print(\"Multinomial Naive Bayes, bag of words, train success rate:\", np.mean(cv_predictions_train_stem == train_label)*100, \"%\")\n",
    "print(\"Multinomial Naive Bayes, bag of words, test success rate:\", np.mean(cv_predictions_test_stem == test_label)*100, \"%\")"
   ]
  },
  {
   "cell_type": "code",
   "execution_count": null,
   "metadata": {
    "colab": {
     "base_uri": "https://localhost:8080/"
    },
    "id": "mYnr0Bx09AVJ",
    "outputId": "f18bf52d-c4b6-45e7-aaa7-7b6f6d79eebf"
   },
   "outputs": [
    {
     "name": "stdout",
     "output_type": "stream",
     "text": [
      "              precision    recall  f1-score   support\n",
      "\n",
      "    negative       0.77      0.81      0.79    240000\n",
      "    positive       0.80      0.75      0.78    240000\n",
      "\n",
      "    accuracy                           0.78    480000\n",
      "   macro avg       0.78      0.78      0.78    480000\n",
      "weighted avg       0.78      0.78      0.78    480000\n",
      "\n"
     ]
    }
   ],
   "source": [
    "print(classification_report(test_label, cv_predictions_test_stem, target_names=['negative', 'positive']))"
   ]
  },
  {
   "cell_type": "markdown",
   "metadata": {
    "id": "0NKJhFyhySJJ"
   },
   "source": [
    "-------------------------------------------------------------------------\n",
    "- Después probamos con la lematización, que reduce una palabra a su lema, que debe ser linguísticamente correcto. Además, la lematización tiene en cuenta el contexto. "
   ]
  },
  {
   "cell_type": "code",
   "execution_count": null,
   "metadata": {
    "id": "5Bq_QaE0GcSg"
   },
   "outputs": [],
   "source": [
    "cv_vector_traindata_lem= cv_vectorizer_12.fit_transform(lemmed_train)"
   ]
  },
  {
   "cell_type": "code",
   "execution_count": null,
   "metadata": {
    "colab": {
     "base_uri": "https://localhost:8080/"
    },
    "id": "0khWQO31GcSj",
    "outputId": "157ee404-8cfc-4541-fa16-38a06df00970"
   },
   "outputs": [
    {
     "name": "stdout",
     "output_type": "stream",
     "text": [
      "Multinomial Naive Bayes, bag of words, train success rate: 91.73330357142856 %\n",
      "Multinomial Naive Bayes, bag of words, test success rate: 78.30437500000001 %\n"
     ]
    }
   ],
   "source": [
    "cv_mnb_classifier.fit(cv_vector_traindata_lem, train_label)\n",
    "\n",
    "cv_vector_testdata_lem = cv_vectorizer_12.transform(lemmed_test)\n",
    "cv_predictions_test_lem = cv_mnb_classifier.predict(cv_vector_testdata_lem)\n",
    "cv_predictions_train_lem = cv_mnb_classifier.predict(cv_vector_traindata_lem)\n",
    "\n",
    "print(\"Multinomial Naive Bayes, bag of words, train success rate:\", np.mean(cv_predictions_train_lem == train_label)*100, \"%\")\n",
    "print(\"Multinomial Naive Bayes, bag of words, test success rate:\", np.mean(cv_predictions_test_lem == test_label)*100, \"%\")"
   ]
  },
  {
   "cell_type": "code",
   "execution_count": null,
   "metadata": {
    "colab": {
     "base_uri": "https://localhost:8080/"
    },
    "id": "qryIOIeHGcSk",
    "outputId": "8f066dae-7ae7-4ea8-dcb4-c6ec9e5a4bd5"
   },
   "outputs": [
    {
     "name": "stdout",
     "output_type": "stream",
     "text": [
      "              precision    recall  f1-score   support\n",
      "\n",
      "    negative       0.77      0.81      0.79    240000\n",
      "    positive       0.80      0.75      0.78    240000\n",
      "\n",
      "    accuracy                           0.78    480000\n",
      "   macro avg       0.78      0.78      0.78    480000\n",
      "weighted avg       0.78      0.78      0.78    480000\n",
      "\n"
     ]
    }
   ],
   "source": [
    "print(classification_report(test_label, cv_predictions_test_lem, target_names=['negative', 'positive']))"
   ]
  },
  {
   "cell_type": "markdown",
   "metadata": {
    "id": "2GjYJcXNAxXj"
   },
   "source": [
    "- Nos daría igual cuál elegir ya que la diferencia entre los resultados es mínima; elegimos la derivación para la siguiente fase."
   ]
  },
  {
   "cell_type": "markdown",
   "metadata": {
    "id": "fk2pKShjcCBP"
   },
   "source": [
    "##2.3 Tipos de Naive Bayes\n",
    "\n",
    "- Naive Bayes denomina una familia de clasificadores que simplifican la realidad, asumiendo que todas las variables o palabras utilizadas para clasificar son independientes (de ahí Naive = ingenuo)"
   ]
  },
  {
   "cell_type": "markdown",
   "metadata": {
    "id": "-mhbeg0Pe-4R"
   },
   "source": [
    "- Lo que necesitamos por último, pues, es saber qué tipo de Naive Bayes deberíamos usar. Como anteriormente hemos estado usando Multinomial, los datos para él ya los tenemos: una tasa de aciertos del 91.753% en train y 78.313% en test\n",
    "\n",
    "- A continuación probaremos NB Bernoulli:"
   ]
  },
  {
   "cell_type": "code",
   "execution_count": null,
   "metadata": {
    "colab": {
     "base_uri": "https://localhost:8080/"
    },
    "id": "W-LVJyMHeFrz",
    "outputId": "f7bfb355-e8ae-4542-c484-cb8374d22d4a"
   },
   "outputs": [
    {
     "name": "stdout",
     "output_type": "stream",
     "text": [
      "Bernoulli Naive Bayes, bag of words, train success rate: 91.71258928571429 %\n",
      "Bernoulli Naive Bayes, bag of words, test success rate: 78.49708333333332 %\n"
     ]
    }
   ],
   "source": [
    "cv_b_classifier = BernoulliNB()\n",
    "cv_b_classifier.fit(cv_vector_traindata_stem, train_label)\n",
    "\n",
    "cv_predictions_train_b = cv_b_classifier.predict(cv_vector_traindata_stem)\n",
    "cv_predictions_test_b = cv_b_classifier.predict(cv_vector_testdata_stem)\n",
    "\n",
    "print(\"Bernoulli Naive Bayes, bag of words, train success rate:\", np.mean(cv_predictions_train_b == train_label)*100, \"%\")\n",
    "print(\"Bernoulli Naive Bayes, bag of words, test success rate:\", np.mean(cv_predictions_test_b == test_label)*100, \"%\")"
   ]
  },
  {
   "cell_type": "code",
   "execution_count": null,
   "metadata": {
    "colab": {
     "base_uri": "https://localhost:8080/"
    },
    "id": "4olihmpycYsD",
    "outputId": "7bd4d8ed-a1b8-4eb4-d302-50d133c8b12b"
   },
   "outputs": [
    {
     "name": "stdout",
     "output_type": "stream",
     "text": [
      "              precision    recall  f1-score   support\n",
      "\n",
      "    negative       0.80      0.77      0.78    240000\n",
      "    positive       0.78      0.80      0.79    240000\n",
      "\n",
      "    accuracy                           0.78    480000\n",
      "   macro avg       0.79      0.78      0.78    480000\n",
      "weighted avg       0.79      0.78      0.78    480000\n",
      "\n"
     ]
    }
   ],
   "source": [
    "print(classification_report(test_label, cv_predictions_test_b, target_names=['negative', 'positive']))"
   ]
  },
  {
   "cell_type": "markdown",
   "metadata": {
    "id": "X70cPNJf8oR3"
   },
   "source": [
    "--------------------------------------------------------------------------------\n",
    "- Por último, probaremos con \"Complement Naive Bayes\", un tipo de Naive Bayes que se especializa en datasets desequilibrados muy parecido al Multinomial."
   ]
  },
  {
   "cell_type": "code",
   "execution_count": null,
   "metadata": {
    "colab": {
     "base_uri": "https://localhost:8080/"
    },
    "id": "BBObO_Y68tg-",
    "outputId": "15fdc97c-d10e-47dc-d800-2cd2f54796bb"
   },
   "outputs": [
    {
     "name": "stdout",
     "output_type": "stream",
     "text": [
      "Complement Naive Bayes, bag of words, train success rate: 91.75383928571429 %\n",
      "Complement Naive Bayes, bag of words, test success rate: 78.31375 %\n"
     ]
    }
   ],
   "source": [
    "cv_comp_classifier = ComplementNB()\n",
    "cv_comp_classifier.fit(cv_vector_traindata_stem, train_label)\n",
    "\n",
    "cv_predictions_test_comp = cv_comp_classifier.predict(cv_vector_testdata_stem)\n",
    "cv_predictions_train_comp = cv_comp_classifier.predict(cv_vector_traindata_stem)\n",
    "\n",
    "print(\"Complement Naive Bayes, bag of words, train success rate:\", np.mean(cv_predictions_train_comp == train_label)*100, \"%\")\n",
    "print(\"Complement Naive Bayes, bag of words, test success rate:\", np.mean(cv_predictions_test_comp == test_label)*100, \"%\")"
   ]
  },
  {
   "cell_type": "code",
   "execution_count": null,
   "metadata": {
    "colab": {
     "base_uri": "https://localhost:8080/"
    },
    "id": "nMEy1_ta8tg_",
    "outputId": "8c8d5074-5cc0-4e3f-e12b-74a7907064b2"
   },
   "outputs": [
    {
     "name": "stdout",
     "output_type": "stream",
     "text": [
      "              precision    recall  f1-score   support\n",
      "\n",
      "    negative       0.77      0.81      0.79    240000\n",
      "    positive       0.80      0.75      0.78    240000\n",
      "\n",
      "    accuracy                           0.78    480000\n",
      "   macro avg       0.78      0.78      0.78    480000\n",
      "weighted avg       0.78      0.78      0.78    480000\n",
      "\n"
     ]
    }
   ],
   "source": [
    "print(classification_report(test_label, cv_predictions_test_comp, target_names=['negative', 'positive']))"
   ]
  },
  {
   "cell_type": "markdown",
   "metadata": {
    "id": "IEyucq0k-GoO"
   },
   "source": [
    "- Parece que por poquísimo gana Bernoulli, pero ya que la diferencia es prácticamente nula, decidimos para el siguiente paso elegir Naive Bayes Multinomial, ya que es el usado normalmente en análisis de sentimiento."
   ]
  },
  {
   "cell_type": "markdown",
   "metadata": {
    "id": "fSxuTCNAfnLX"
   },
   "source": [
    "--------------------------------------------------------------------------------\n",
    "- Además de estas pruebas, intentamos probar el NBGaussiano, pero falló. Ya de por sí planteamos descartar usarlo, ya que es más útil para variables continuas/con distribución Gaussiana, y este no es el caso. Aún así, se probó, pero en la celda de LabelEncoding y Scaling, crasheó al usar toda la memoria RAM disponible"
   ]
  },
  {
   "cell_type": "markdown",
   "metadata": {
    "id": "o0ED8EnOo7vm"
   },
   "source": [
    "#3. TF-IDF\n",
    "\n",
    "- En este paso probaremos si usar TF-IDF presenta alguna mejora, ya que en principio aporta más información que CountVectorizer: \n",
    " - Seguimos teniendo una bolsa de palabras pero teniendo en cuenta no solo la cantidad de  apariciones de cada palabra en cada tweet, si no también la importancia de esta en el resto del corpus de datos.\n",
    "    \n",
    "- En vez de utilizar TfidfVectorizer, hemos elegido usar TfidfTransformer sobre la mejor salida obtenida de CountVectorizer"
   ]
  },
  {
   "cell_type": "code",
   "execution_count": null,
   "metadata": {
    "id": "j9erg9_0VGVN"
   },
   "outputs": [],
   "source": [
    "tfidfer = TfidfTransformer()\n",
    "tf_vector_traindata = tfidfer.fit_transform(cv_vector_traindata_stem)"
   ]
  },
  {
   "cell_type": "code",
   "execution_count": null,
   "metadata": {
    "colab": {
     "base_uri": "https://localhost:8080/"
    },
    "id": "s3wbC4_1Vt4d",
    "outputId": "71173d12-333a-4dd0-fdc9-6f688ccf8b55"
   },
   "outputs": [
    {
     "name": "stdout",
     "output_type": "stream",
     "text": [
      "Multinomial Naive Bayes, tf-idf, train success rate: 90.81678571428571 %\n",
      "Multinomial Naive Bayes, tf-idf, test success rate: 78.45854166666668 %\n"
     ]
    }
   ],
   "source": [
    "tf_mnb_classifier = MultinomialNB()\n",
    "tf_mnb_classifier.fit(tf_vector_traindata, train_label)\n",
    "\n",
    "tf_vector_testdata = tfidfer.transform(cv_vector_testdata_stem)\n",
    "tf_predictions_train = tf_mnb_classifier.predict(tf_vector_traindata)\n",
    "tf_predictions_test = tf_mnb_classifier.predict(tf_vector_testdata)\n",
    "\n",
    "print(\"Multinomial Naive Bayes, tf-idf, train success rate:\", np.mean(tf_predictions_train == train_label)*100, \"%\")\n",
    "print(\"Multinomial Naive Bayes, tf-idf, test success rate:\", np.mean(tf_predictions_test == test_label)*100, \"%\")"
   ]
  },
  {
   "cell_type": "code",
   "execution_count": null,
   "metadata": {
    "colab": {
     "base_uri": "https://localhost:8080/"
    },
    "id": "SSpMyJao_nvH",
    "outputId": "c9d45535-fc3b-4eb0-81af-9956c3e6b708"
   },
   "outputs": [
    {
     "name": "stdout",
     "output_type": "stream",
     "text": [
      "              precision    recall  f1-score   support\n",
      "\n",
      "    negative       0.77      0.81      0.79    240000\n",
      "    positive       0.80      0.76      0.78    240000\n",
      "\n",
      "    accuracy                           0.78    480000\n",
      "   macro avg       0.79      0.78      0.78    480000\n",
      "weighted avg       0.79      0.78      0.78    480000\n",
      "\n"
     ]
    }
   ],
   "source": [
    "print(classification_report(test_label, tf_predictions_test, target_names=['negative', 'positive']))"
   ]
  },
  {
   "cell_type": "markdown",
   "metadata": {
    "id": "CXJW5RHQ-phh"
   },
   "source": [
    "- Parece que ha bajado algo la tasa de éxitos en train, y, aunque apenas haya cambiado en test, esto es una mejora, ya que los porcentajes de acierto con un poco más parecidos, y TF-IDF ha conseguido que haya menos sobreaprendizaje en train. "
   ]
  },
  {
   "cell_type": "markdown",
   "metadata": {
    "id": "vDVH4WCMNTYb"
   },
   "source": [
    "#4. Árbol de decisión\n",
    "\n",
    "- Los árboles de decisión son una técnica de aprendizaje supervisado que puede usarse en problemas de clasificación y de regresión. En estos árboles, cada nodo pregunta por el valor de una variable, y se crea un nuevo nivel de profundidad. Es necesario encontrar una profundidad óptima dl árbol para que haya buenos resultados sin sobreaprendizaje/\"overfitting\"\n",
    "\n",
    "- A continuación, hacemos un bucle donde se prueban distintas profundidades del árbol."
   ]
  },
  {
   "cell_type": "code",
   "execution_count": null,
   "metadata": {
    "colab": {
     "base_uri": "https://localhost:8080/"
    },
    "id": "QVDiepip2Kzm",
    "outputId": "5db6b4eb-95c1-4412-ad86-dbd86dbc7b26"
   },
   "outputs": [
    {
     "name": "stdout",
     "output_type": "stream",
     "text": [
      "5\n",
      "10\n",
      "15\n",
      "20\n",
      "25\n"
     ]
    }
   ],
   "source": [
    "tree_train_acc = []\n",
    "tree_test_acc = []\n",
    "max_dep = np.arange(0, 30, 5)\n",
    "for i in max_dep[1:]:\n",
    "  print(i)\n",
    "  tree_classifier = DecisionTreeClassifier(criterion=\"gini\", max_depth=i)\n",
    "  tree_classifier.fit(tf_vector_traindata, train_label)\n",
    "  tree_predictions_train = tree_classifier.predict(tf_vector_traindata)\n",
    "  tree_predictions_test = tree_classifier.predict(tf_vector_testdata)\n",
    "  tree_train_acc.append(np.mean(tree_predictions_train == train_label))\n",
    "  tree_test_acc.append(np.mean(tree_predictions_test == test_label))"
   ]
  },
  {
   "cell_type": "code",
   "execution_count": null,
   "metadata": {
    "colab": {
     "base_uri": "https://localhost:8080/"
    },
    "id": "ayZrv97KKuDO",
    "outputId": "2ac4b2b5-beb4-4e24-e3c9-9949447f9cbf"
   },
   "outputs": [
    {
     "name": "stdout",
     "output_type": "stream",
     "text": [
      "30\n",
      "35\n"
     ]
    }
   ],
   "source": [
    "for i in [30, 35]:\n",
    "  print(i)\n",
    "  tree_classifier = DecisionTreeClassifier(criterion=\"gini\", max_depth=i)\n",
    "  tree_classifier.fit(tf_vector_traindata, train_label)\n",
    "  tree_predictions_train = tree_classifier.predict(tf_vector_traindata)\n",
    "  tree_predictions_test = tree_classifier.predict(tf_vector_testdata)\n",
    "  tree_train_acc.append(np.mean(tree_predictions_train == train_label))\n",
    "  tree_test_acc.append(np.mean(tree_predictions_test == test_label))"
   ]
  },
  {
   "cell_type": "code",
   "execution_count": null,
   "metadata": {
    "id": "2K_XWyOJLKeX"
   },
   "outputs": [],
   "source": [
    "max_dep = [5, 10, 15, 20, 25, 30, 35]"
   ]
  },
  {
   "cell_type": "code",
   "execution_count": null,
   "metadata": {
    "colab": {
     "base_uri": "https://localhost:8080/",
     "height": 314
    },
    "id": "nfyMaOSkPYwC",
    "outputId": "0f456d84-6edd-43a2-e66a-ec34dd5ae88d"
   },
   "outputs": [
    {
     "data": {
      "text/plain": [
       "<function matplotlib.pyplot.show>"
      ]
     },
     "execution_count": 41,
     "metadata": {
      "tags": []
     },
     "output_type": "execute_result"
    },
    {
     "data": {
      "image/png": "[encoded data removed]",
      "text/plain": [
       "<Figure size 432x288 with 1 Axes>"
      ]
     },
     "metadata": {
      "needs_background": "light",
      "tags": []
     },
     "output_type": "display_data"
    }
   ],
   "source": [
    "plt.plot(max_dep, tree_train_acc, label=f\"Training\", color =\"r\")\n",
    "plt.plot(max_dep, tree_test_acc, label=f\"Test\", color = \"b\")\n",
    "\n",
    "plt.title(\"Decision Tree\")\n",
    "plt.xlabel(\"Max Depth\")\n",
    "plt.ylabel(\"Accuracy\")\n",
    "plt.legend(loc = \"best\")\n",
    "plt.tight_layout()\n",
    "plt.show"
   ]
  },
  {
   "cell_type": "markdown",
   "metadata": {
    "id": "seFiP7LsEM44"
   },
   "source": [
    "- Desgraciadamente, 35 era la profundidad máxima que pudimos analizar, ya que a partir de ese número Colab se congelaba y no pudimos continuar. Aun así, podemos ver que la tasa de aciertos de tanto train como test están muy igualadas hasta, aproximadamente, profundidad 15; pero a partir de ahí test mejora más lentamente que train, por tanto creemos que habría un punti donde la curva logarítmica de test dejaría de subir mucho, y por ese punto sería la profundidad óptima para el árbol.\n",
    "En el rango que hemos podido observar, la precisión más alta es de un 68%, lo cual es bastante peor que Bag of words y TF-IDF."
   ]
  }
 ],
 "metadata": {
  "colab": {
   "collapsed_sections": [],
   "name": "Naive_Bayes.ipynb",
   "provenance": []
  },
  "kernelspec": {
   "display_name": "Python 3",
   "language": "python",
   "name": "python3"
  },
  "language_info": {
   "codemirror_mode": {
    "name": "ipython",
    "version": 3
   },
   "file_extension": ".py",
   "mimetype": "text/x-python",
   "name": "python",
   "nbconvert_exporter": "python",
   "pygments_lexer": "ipython3",
   "version": "3.7.3"
  }
 },
 "nbformat": 4,
 "nbformat_minor": 4
}
